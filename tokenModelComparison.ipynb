{
 "cells": [
  {
   "cell_type": "code",
   "id": "initial_id",
   "metadata": {
    "collapsed": true,
    "ExecuteTime": {
     "end_time": "2025-03-14T08:39:31.077529Z",
     "start_time": "2025-03-14T08:39:29.363505Z"
    }
   },
   "source": [
    "# Import necessary libraries\n",
    "import torch\n",
    "import torch.nn as nn\n",
    "import torch.nn.functional as F\n",
    "import torch.optim as optim\n",
    "import matplotlib.pyplot as plt\n",
    "import numpy as np\n",
    "from tqdm import tqdm\n",
    "from importlib import reload\n",
    "from transformers import AutoModelForCausalLM, AutoTokenizer\n",
    "from transformerDropout import *\n",
    "import os\n"
   ],
   "outputs": [],
   "execution_count": 1
  },
  {
   "metadata": {
    "ExecuteTime": {
     "end_time": "2025-03-14T08:39:31.667931Z",
     "start_time": "2025-03-14T08:39:31.662787Z"
    }
   },
   "cell_type": "code",
   "source": [
    "torch.manual_seed(305)\n",
    "device = 'mps'\n",
    "\n",
    "SMALL_ITERS = 1000\n",
    "LARGE_ITERS = 2000\n",
    "EVAL_ITERS = 100\n",
    "CONTEXT_WINDOW_SIZE = 256\n"
   ],
   "id": "16f12fc0946fc5dc",
   "outputs": [],
   "execution_count": 2
  },
  {
   "metadata": {
    "ExecuteTime": {
     "end_time": "2025-03-14T08:39:32.196754Z",
     "start_time": "2025-03-14T08:39:32.190790Z"
    }
   },
   "cell_type": "code",
   "source": [
    "input_file_path = 'data/full_shakespeare.txt'\n",
    "\n",
    "if not os.path.exists(input_file_path):\n",
    "    data_url = 'https://cs.stanford.edu/people/karpathy/char-rnn/shakespeare_input.txt'\n",
    "    with open(input_file_path, 'w') as f:\n",
    "        f.write(requests.get(data_url).text)\n",
    "\n",
    "with open(input_file_path, 'r') as f:\n",
    "    data = f.read()\n",
    "print(f\"length of dataset in characters: {len(data):,}\")"
   ],
   "id": "65a1869a68b0f5d0",
   "outputs": [
    {
     "name": "stdout",
     "output_type": "stream",
     "text": [
      "length of dataset in characters: 4,573,338\n"
     ]
    }
   ],
   "execution_count": 3
  },
  {
   "metadata": {
    "ExecuteTime": {
     "end_time": "2025-03-14T08:39:36.599787Z",
     "start_time": "2025-03-14T08:39:34.162303Z"
    }
   },
   "cell_type": "code",
   "source": [
    "# Define a BPE model\n",
    "vocab_size = 1700\n",
    "\n",
    "tokenizer = Tokenizer(models.BPE(unk_token=\"<unk>\"))\n",
    "tokenizer.pre_tokenizer = pre_tokenizers.ByteLevel(add_prefix_space=True)\n",
    "tokenizer.decoder = decoders.ByteLevel()\n",
    "\n",
    "# Trainer with desired vocab size\n",
    "trainer = trainers.BpeTrainer(vocab_size=vocab_size, special_tokens=[\"<unk>\"])\n",
    "# data should be an iterator over your text lines or documents\n",
    "tokenizer.train_from_iterator([data], trainer=trainer)\n",
    "\n",
    "# Encode and decode functions\n",
    "def encode_bpe(text):\n",
    "    return tokenizer.encode(text).ids\n",
    "\n",
    "def decode_bpe(ids):\n",
    "    return tokenizer.decode(ids)\n",
    "\n",
    "# Example usage:\n",
    "train_text = data[:int(len(data) * 0.9)]\n",
    "val_text = data[int(len(data) * 0.9):]\n",
    "\n",
    "train_tokens = encode_bpe(train_text)\n",
    "val_tokens = encode_bpe(val_text)\n",
    "\n",
    "train_data = torch.tensor(train_tokens)\n",
    "val_data = torch.tensor(val_tokens)\n",
    "\n",
    "print(f\"train has {len(train_data):,} tokens\")\n",
    "print(f\"val has {len(val_data):,} tokens\")"
   ],
   "id": "a1fc77935069dda1",
   "outputs": [
    {
     "name": "stdout",
     "output_type": "stream",
     "text": [
      "\n",
      "\n",
      "\n",
      "train has 1,520,526 tokens\n",
      "val has 168,070 tokens\n"
     ]
    }
   ],
   "execution_count": 4
  },
  {
   "metadata": {
    "ExecuteTime": {
     "end_time": "2025-03-14T08:39:36.605760Z",
     "start_time": "2025-03-14T08:39:36.603141Z"
    }
   },
   "cell_type": "code",
   "source": [
    "# function for getting batches of data\n",
    "def get_batch(split, context_window_size, device, batch_size=32):\n",
    "    \"\"\"\n",
    "    generate a small batch of data of inputs x and targets y\n",
    "\n",
    "    Args:\n",
    "        split: 'train' or 'val'\n",
    "        device: 'cpu' or 'cuda' (should be 'cuda' if available)\n",
    "    \"\"\"\n",
    "    data = train_data if split == 'train' else val_data\n",
    "    ix = torch.randint(len(data) - context_window_size, (batch_size,))\n",
    "    x = torch.stack([data[i:i+context_window_size] for i in ix])\n",
    "    y = torch.stack([data[i+1:i+context_window_size+1] for i in ix])\n",
    "    x = x.to(device)\n",
    "    y = y.to(device)\n",
    "    return x, y\n",
    "\n",
    "# helper function for tracking loss during training\n",
    "# given to you\n",
    "@torch.no_grad()\n",
    "def estimate_loss(model, eval_iters, context_window_size, device, use_focal_loss=False):\n",
    "    \"\"\"\n",
    "    Args:\n",
    "      model: model being evaluated\n",
    "      eval_iters: number of batches to average over\n",
    "      context_window_size: size of the context window\n",
    "      device: 'cpu' or 'cuda' (should be 'cuda' if available)\n",
    "    \"\"\"\n",
    "    out = {}\n",
    "    for split in ['train', 'val']:\n",
    "        losses_by_type = {\n",
    "            'ce_loss': torch.zeros(eval_iters),\n",
    "        }\n",
    "        if use_focal_loss:\n",
    "            losses_by_type['f_loss'] = torch.zeros(eval_iters)\n",
    "\n",
    "        for k in range(eval_iters):\n",
    "            X, Y = get_batch(split, context_window_size, device)\n",
    "            logits, ce_loss, f_loss = model(X, Y)\n",
    "            losses_by_type['ce_loss'][k] = ce_loss.item()\n",
    "            if use_focal_loss:\n",
    "                losses_by_type['f_loss'][k] = f_loss.item()\n",
    "\n",
    "        out[split] = {'ce_loss': losses_by_type['ce_loss'].mean().item()}\n",
    "        if use_focal_loss:\n",
    "            out[split]['f_loss'] = losses_by_type['f_loss'].mean().item()\n",
    "\n",
    "    return out"
   ],
   "id": "ad4219823bdae577",
   "outputs": [],
   "execution_count": 5
  },
  {
   "metadata": {
    "ExecuteTime": {
     "end_time": "2025-03-14T08:39:36.616984Z",
     "start_time": "2025-03-14T08:39:36.615069Z"
    }
   },
   "cell_type": "code",
   "source": [
    "# Function for getting batches of character data\n",
    "def get_char_batch(split, context_window_size, device, batch_size=32):\n",
    "    \"\"\"\n",
    "    Generate a small batch of character-level data of inputs x and targets y\n",
    "\n",
    "    Args:\n",
    "        split: 'train' or 'val'\n",
    "        device: device to put tensors on\n",
    "        batch_size: number of sequences in the batch\n",
    "    \"\"\"\n",
    "    data = train_dataC if split == 'train' else val_dataC\n",
    "    ix = torch.randint(len(data) - context_window_size, (batch_size,))\n",
    "    x = torch.stack([data[i:i+context_window_size] for i in ix])\n",
    "    y = torch.stack([data[i+1:i+context_window_size+1] for i in ix])\n",
    "    x = x.to(device)\n",
    "    y = y.to(device)\n",
    "    return x, y\n"
   ],
   "id": "508ceecfcc059dc7",
   "outputs": [],
   "execution_count": 6
  },
  {
   "metadata": {
    "ExecuteTime": {
     "end_time": "2025-03-14T08:39:36.621328Z",
     "start_time": "2025-03-14T08:39:36.619787Z"
    }
   },
   "cell_type": "code",
   "source": [
    "# Load DeepSeek as reference model with caching\n",
    "def load_deepseek_reference():\n",
    "    \"\"\"\n",
    "    Load DeepSeek reference model with caching to avoid redownloading\n",
    "    \"\"\"\n",
    "    print(\"Loading DeepSeek reference model...\")\n",
    "    model_name = \"deepseek-ai/deepseek-llm-7b-base\"\n",
    "    cache_dir = './deepseek_cache'\n",
    "\n",
    "    # Create cache directory if it doesn't exist\n",
    "    os.makedirs(cache_dir, exist_ok=True)\n",
    "\n",
    "    tokenizer = AutoTokenizer.from_pretrained(model_name, cache_dir=cache_dir)\n",
    "    model = AutoModelForCausalLM.from_pretrained(\n",
    "        model_name,\n",
    "        torch_dtype=torch.float16,\n",
    "        cache_dir=cache_dir\n",
    "    )\n",
    "    model.eval()\n",
    "    return model, tokenizer"
   ],
   "id": "cec7c4d2190040d8",
   "outputs": [],
   "execution_count": 7
  },
  {
   "metadata": {
    "ExecuteTime": {
     "end_time": "2025-03-14T09:14:30.261872Z",
     "start_time": "2025-03-14T09:14:30.250906Z"
    }
   },
   "cell_type": "code",
   "source": [
    "def calculate_deepseek_log_prob(deepseek_model, deepseek_tokenizer, text):\n",
    "    \"\"\"\n",
    "    Calculate the log probability of a text sequence under DeepSeek without length normalization\n",
    "    \"\"\"\n",
    "    inputs = deepseek_tokenizer(text, return_tensors=\"pt\").to(device)\n",
    "\n",
    "    with torch.no_grad():\n",
    "        # Get the target ids (shifted by 1 position)\n",
    "        input_ids = inputs.input_ids\n",
    "        target_ids = input_ids.clone()\n",
    "\n",
    "        # Forward pass\n",
    "        outputs = deepseek_model(input_ids, labels=target_ids)\n",
    "\n",
    "        # Get the loss (negative log likelihood)\n",
    "        neg_log_likelihood = outputs.loss.item()\n",
    "\n",
    "        # Convert to log probability without normalization\n",
    "        log_prob = -neg_log_likelihood\n",
    "\n",
    "        return log_prob"
   ],
   "id": "561a3416c155dbb5",
   "outputs": [],
   "execution_count": 19
  },
  {
   "metadata": {
    "ExecuteTime": {
     "end_time": "2025-03-14T08:39:36.633076Z",
     "start_time": "2025-03-14T08:39:36.631091Z"
    }
   },
   "cell_type": "code",
   "source": [
    "def generate_text(model, prompt, encode_fn, decode_fn, max_tokens=100, temperature=1.0):\n",
    "    \"\"\"\n",
    "    Generate text from a model using specific tokenization functions\n",
    "    \"\"\"\n",
    "    model.eval()\n",
    "    with torch.no_grad():\n",
    "        # Convert prompt to tokens using model-specific tokenization\n",
    "        token_ids = torch.tensor([encode_fn(prompt)], device=device)\n",
    "\n",
    "        for _ in range(max_tokens):\n",
    "            if token_ids.size(1) > CONTEXT_WINDOW_SIZE:\n",
    "                token_ids = token_ids[:, -CONTEXT_WINDOW_SIZE:]\n",
    "\n",
    "            # Get predictions\n",
    "            logits, _, _ = model(token_ids)\n",
    "            logits = logits[:, -1, :] / temperature\n",
    "\n",
    "            # Sample from the distribution\n",
    "            probs = F.softmax(logits, dim=-1)\n",
    "            next_token = torch.multinomial(probs, num_samples=1)\n",
    "\n",
    "            # Append to the sequence\n",
    "            token_ids = torch.cat([token_ids, next_token], dim=1)\n",
    "\n",
    "        # Decode using model-specific decoding\n",
    "        generated_text = decode_fn(token_ids[0].tolist())\n",
    "        return generated_text, token_ids"
   ],
   "id": "1f9e14f0baf20337",
   "outputs": [],
   "execution_count": 9
  },
  {
   "metadata": {
    "ExecuteTime": {
     "end_time": "2025-03-14T08:39:36.642504Z",
     "start_time": "2025-03-14T08:39:36.637337Z"
    }
   },
   "cell_type": "code",
   "source": [
    "# Compare two Shakespeare models using DeepSeek as reference\n",
    "def compare_models_with_different_tokenization(\n",
    "    model_a, model_b,\n",
    "    encode_a_fn, decode_a_fn,\n",
    "    encode_b_fn, decode_b_fn,\n",
    "    deepseek_model, deepseek_tokenizer,\n",
    "    prompts, max_tokens=100, num_samples=5):\n",
    "    \"\"\"\n",
    "    Compare two models with different tokenization methods using DeepSeek\n",
    "    \"\"\"\n",
    "    results = {\n",
    "        'model_a': {\n",
    "            'texts': [],\n",
    "            'log_probs': [],\n",
    "            'perplexities': []\n",
    "        },\n",
    "        'model_b': {\n",
    "            'texts': [],\n",
    "            'log_probs': [],\n",
    "            'perplexities': []\n",
    "        }\n",
    "    }\n",
    "\n",
    "    for prompt in tqdm(prompts, desc=\"Evaluating prompts\"):\n",
    "        for _ in range(num_samples):\n",
    "            # Generate samples from both models using their specific tokenization\n",
    "            text_a, _ = generate_text(model_a, prompt, encode_a_fn, decode_a_fn, max_tokens)\n",
    "            text_b, _ = generate_text(model_b, prompt, encode_b_fn, decode_b_fn, max_tokens)\n",
    "\n",
    "            # Calculate log probabilities under DeepSeek\n",
    "            log_prob_a = calculate_deepseek_log_prob(deepseek_model, deepseek_tokenizer, text_a)\n",
    "            log_prob_b = calculate_deepseek_log_prob(deepseek_model, deepseek_tokenizer, text_b)\n",
    "\n",
    "            # Calculate perplexity (lower is better)\n",
    "            perplexity_a = np.exp(-log_prob_a)\n",
    "            perplexity_b = np.exp(-log_prob_b)\n",
    "\n",
    "            # Store results\n",
    "            results['model_a']['texts'].append(text_a)\n",
    "            results['model_a']['log_probs'].append(log_prob_a)\n",
    "            results['model_a']['perplexities'].append(perplexity_a)\n",
    "\n",
    "            results['model_b']['texts'].append(text_b)\n",
    "            results['model_b']['log_probs'].append(log_prob_b)\n",
    "            results['model_b']['perplexities'].append(perplexity_b)\n",
    "\n",
    "    # Calculate average metrics\n",
    "    results['model_a']['avg_log_prob'] = np.mean(results['model_a']['log_probs'])\n",
    "    results['model_a']['avg_perplexity'] = np.mean(results['model_a']['perplexities'])\n",
    "    results['model_b']['avg_log_prob'] = np.mean(results['model_b']['log_probs'])\n",
    "    results['model_b']['avg_perplexity'] = np.mean(results['model_b']['perplexities'])\n",
    "\n",
    "    return results"
   ],
   "id": "e1100eb85be350c4",
   "outputs": [],
   "execution_count": 10
  },
  {
   "metadata": {
    "ExecuteTime": {
     "end_time": "2025-03-14T08:39:36.648400Z",
     "start_time": "2025-03-14T08:39:36.646747Z"
    }
   },
   "cell_type": "code",
   "source": [
    "# Visualize comparison results\n",
    "def visualize_comparison(results, model_a_name=\"Model A\", model_b_name=\"Model B\"):\n",
    "    \"\"\"\n",
    "    Visualize the comparison results between two models\n",
    "    \"\"\"\n",
    "    # Create figure with two subplots\n",
    "    fig, (ax1, ax2) = plt.subplots(1, 2, figsize=(14, 6))\n",
    "\n",
    "    # Plot log probabilities\n",
    "    ax1.bar([model_a_name, model_b_name],\n",
    "            [results['model_a']['avg_log_prob'], results['model_b']['avg_log_prob']])\n",
    "    ax1.set_title('Average Log Probability (higher is better)')\n",
    "    ax1.set_ylabel('Log Probability')\n",
    "\n",
    "    # Plot perplexities\n",
    "    ax2.bar([model_a_name, model_b_name],\n",
    "            [results['model_a']['avg_perplexity'], results['model_b']['avg_perplexity']])\n",
    "    ax2.set_title('Average Perplexity (lower is better)')\n",
    "    ax2.set_ylabel('Perplexity')\n",
    "\n",
    "    plt.tight_layout()\n",
    "    plt.show()\n"
   ],
   "id": "170fd09deb25089a",
   "outputs": [],
   "execution_count": 11
  },
  {
   "metadata": {
    "ExecuteTime": {
     "end_time": "2025-03-14T08:39:36.654198Z",
     "start_time": "2025-03-14T08:39:36.652233Z"
    }
   },
   "cell_type": "code",
   "source": [
    "# Print sample comparisons\n",
    "def print_sample_comparisons(results, num_samples=3):\n",
    "    \"\"\"\n",
    "    Print sample text generations from both models with their metrics\n",
    "    \"\"\"\n",
    "    print(f\"{'='*20} SAMPLE COMPARISONS {'='*20}\")\n",
    "\n",
    "    for i in range(min(num_samples, len(results['model_a']['texts']))):\n",
    "        print(f\"\\nSample {i+1}:\")\n",
    "\n",
    "        # Model A\n",
    "        text_a = results['model_a']['texts'][i]\n",
    "        log_prob_a = results['model_a']['log_probs'][i]\n",
    "        perplexity_a = results['model_a']['perplexities'][i]\n",
    "\n",
    "        print(f\"\\nModel A (Log Prob: {log_prob_a:.4f}, Perplexity: {perplexity_a:.4f}):\")\n",
    "        print(text_a[:500] + \"...\" if len(text_a) > 500 else text_a)\n",
    "\n",
    "        # Model B\n",
    "        text_b = results['model_b']['texts'][i]\n",
    "        log_prob_b = results['model_b']['log_probs'][i]\n",
    "        perplexity_b = results['model_b']['perplexities'][i]\n",
    "\n",
    "        print(f\"\\nModel B (Log Prob: {log_prob_b:.4f}, Perplexity: {perplexity_b:.4f}):\")\n",
    "        print(text_b[:500] + \"...\" if len(text_b) > 500 else text_b)\n",
    "\n",
    "        print(f\"\\n{'='*50}\")\n"
   ],
   "id": "62329c1271a9b1c2",
   "outputs": [],
   "execution_count": 12
  },
  {
   "metadata": {
    "ExecuteTime": {
     "end_time": "2025-03-14T08:39:36.930724Z",
     "start_time": "2025-03-14T08:39:36.927730Z"
    }
   },
   "cell_type": "code",
   "source": [
    "# Main function to run the comparison\n",
    "def run_model_comparison_different_tokenization(model_a, model_b,\n",
    "                                               encode_a_fn, decode_a_fn,\n",
    "                                               encode_b_fn, decode_b_fn,\n",
    "                                               prompts):\n",
    "    \"\"\"\n",
    "    Run the full comparison between two models with different tokenization\n",
    "    \"\"\"\n",
    "    # Load DeepSeek reference model\n",
    "    deepseek_model, deepseek_tokenizer = load_deepseek_reference()\n",
    "    deepseek_model = deepseek_model.to(device)\n",
    "\n",
    "    # Compare models\n",
    "    results = compare_models_with_different_tokenization(\n",
    "        model_a, model_b,\n",
    "        encode_a_fn, decode_a_fn,\n",
    "        encode_b_fn, decode_b_fn,\n",
    "        deepseek_model, deepseek_tokenizer,\n",
    "        prompts, max_tokens=100, num_samples=3\n",
    "    )\n",
    "\n",
    "    # Visualize results\n",
    "    visualize_comparison(results, \"BPE Tokenization\", \"Character Tokenization\")\n",
    "\n",
    "    # Print sample comparisons\n",
    "    print_sample_comparisons(results, num_samples=2)\n",
    "\n",
    "    return results\n"
   ],
   "id": "acadcc4d9ededd43",
   "outputs": [],
   "execution_count": 13
  },
  {
   "metadata": {
    "ExecuteTime": {
     "end_time": "2025-03-14T08:39:37.544555Z",
     "start_time": "2025-03-14T08:39:37.540953Z"
    }
   },
   "cell_type": "code",
   "source": [
    "# Helper function to train models\n",
    "def train_model(model, optimizer, loss_fn=\"ce_loss\", epochs=10, is_char_model=False):\n",
    "    \"\"\"\n",
    "    Train a model for a specified number of epochs.\n",
    "\n",
    "    Args:\n",
    "        model: The model to train\n",
    "        optimizer: The optimizer to use\n",
    "        loss_fn: Which loss function to use (\"ce_loss\" or \"focal_loss\")\n",
    "        epochs: Number of epochs to train for\n",
    "        is_char_model: Whether this is a character model (uses different batch function)\n",
    "    \"\"\"\n",
    "    model.train()\n",
    "\n",
    "    for epoch in range(epochs):\n",
    "        epoch_loss = 0\n",
    "        num_batches = 100  # Number of batches per epoch\n",
    "\n",
    "        for _ in tqdm(range(num_batches)):\n",
    "            # Get batch using appropriate function\n",
    "            if is_char_model:\n",
    "                xb, yb = get_char_batch('train', CONTEXT_WINDOW_SIZE, device, batch_size=64)\n",
    "            else:\n",
    "                xb, yb = get_batch('train', CONTEXT_WINDOW_SIZE, device, batch_size=64)\n",
    "\n",
    "            # Forward pass\n",
    "            logits, ce_loss, f_loss = model(xb, yb)\n",
    "\n",
    "            # Use specified loss\n",
    "            loss = ce_loss if loss_fn == \"ce_loss\" else f_loss\n",
    "\n",
    "            # Backward pass and optimize\n",
    "            optimizer.zero_grad()\n",
    "            loss.backward()\n",
    "\n",
    "            # # Add gradient clipping to prevent exploding gradients\n",
    "            # torch.nn.utils.clip_grad_norm_(model.parameters(), max_norm=1.0)\n",
    "\n",
    "            optimizer.step()\n",
    "\n",
    "            epoch_loss += loss.item()\n",
    "\n",
    "        # Print progress\n",
    "        avg_loss = epoch_loss / num_batches\n",
    "        print(f\"Epoch {epoch+1}/{epochs}, Loss: {avg_loss:.4f}\")"
   ],
   "id": "f566918d3b7c698",
   "outputs": [],
   "execution_count": 14
  },
  {
   "metadata": {
    "ExecuteTime": {
     "end_time": "2025-03-14T08:39:38.164170Z",
     "start_time": "2025-03-14T08:39:38.153Z"
    }
   },
   "cell_type": "code",
   "source": [
    "def train_model(model, optimizer, loss_fn=\"ce_loss\", epochs=10, is_char_model=False):\n",
    "    \"\"\"\n",
    "    Train a model for a specified number of epochs and track losses.\n",
    "\n",
    "    Args:\n",
    "        model: The model to train\n",
    "        optimizer: The optimizer to use\n",
    "        loss_fn: Which loss function to use (\"ce_loss\" or \"focal_loss\")\n",
    "        epochs: Number of epochs to train for\n",
    "        is_char_model: Whether this is a character model (uses different batch function)\n",
    "    \"\"\"\n",
    "    model.train()\n",
    "\n",
    "    # For tracking losses\n",
    "    train_losses = []\n",
    "    val_losses = []\n",
    "\n",
    "    for epoch in range(epochs):\n",
    "        epoch_loss = 0\n",
    "        num_batches = 100  # Number of batches per epoch\n",
    "\n",
    "        for _ in tqdm(range(num_batches)):\n",
    "            # Get batch using appropriate function\n",
    "            if is_char_model:\n",
    "                xb, yb = get_char_batch('train', CONTEXT_WINDOW_SIZE, device, batch_size=64)\n",
    "            else:\n",
    "                xb, yb = get_batch('train', CONTEXT_WINDOW_SIZE, device, batch_size=64)\n",
    "\n",
    "            # Forward pass\n",
    "            logits, ce_loss, f_loss = model(xb, yb)\n",
    "\n",
    "            # Use specified loss\n",
    "            loss = ce_loss if loss_fn == \"ce_loss\" else f_loss\n",
    "\n",
    "            # Backward pass and optimize\n",
    "            optimizer.zero_grad()\n",
    "            loss.backward()\n",
    "\n",
    "            # Add gradient clipping to prevent exploding gradients\n",
    "            torch.nn.utils.clip_grad_norm_(model.parameters(), max_norm=1.0)\n",
    "\n",
    "            optimizer.step()\n",
    "\n",
    "            epoch_loss += loss.item()\n",
    "\n",
    "        # Evaluate model after each epoch\n",
    "        losses = estimate_loss(model, EVAL_ITERS, CONTEXT_WINDOW_SIZE, device, use_focal_loss=(loss_fn==\"focal_loss\"))\n",
    "\n",
    "        # Store losses for plotting\n",
    "        train_loss = losses['train']['ce_loss'] if loss_fn == \"ce_loss\" else losses['train']['f_loss']\n",
    "        val_loss = losses['val']['ce_loss'] if loss_fn == \"ce_loss\" else losses['val']['f_loss']\n",
    "\n",
    "        train_losses.append(train_loss)\n",
    "        val_losses.append(val_loss)\n",
    "\n",
    "        # Print progress\n",
    "        avg_loss = epoch_loss / num_batches\n",
    "        print(f\"Epoch {epoch+1}/{epochs}, Train Loss: {avg_loss:.4f}, Val Loss: {val_loss:.4f}\")\n",
    "\n",
    "    # Plot the training and validation losses\n",
    "    plt.figure(figsize=(10, 6))\n",
    "    plt.plot(range(1, epochs+1), train_losses, label='Train Loss')\n",
    "    plt.plot(range(1, epochs+1), val_losses, label='Validation Loss')\n",
    "    plt.xlabel('Epoch')\n",
    "    plt.ylabel('Loss')\n",
    "    plt.title(f'Training and Validation Loss ({loss_fn})')\n",
    "    plt.legend()\n",
    "    plt.grid(True)\n",
    "    plt.show()\n",
    "\n",
    "    return train_losses, val_losses"
   ],
   "id": "5dd271096491a526",
   "outputs": [],
   "execution_count": 15
  },
  {
   "metadata": {
    "ExecuteTime": {
     "end_time": "2025-03-14T08:39:41.624135Z",
     "start_time": "2025-03-14T08:39:41.181612Z"
    }
   },
   "cell_type": "code",
   "source": [
    "# Character-level tokenization\n",
    "char_to_idx = {ch: i for i, ch in enumerate(sorted(set(''.join(data))))}\n",
    "idx_to_char = {i: ch for ch, i in char_to_idx.items()}\n",
    "\n",
    "def encode_char(text):\n",
    "    return [char_to_idx[c] if c in char_to_idx else char_to_idx.get('', 0) for c in text]\n",
    "\n",
    "def decode_char(ids):\n",
    "    return ''.join([idx_to_char.get(id, '') for id in ids])\n",
    "\n",
    "# Create the train and test splits for character data\n",
    "n = len(data)\n",
    "train_chars = data[:int(n*0.9)]\n",
    "val_chars = data[int(n*0.9):]\n",
    "\n",
    "# Encode both to integers\n",
    "train_dataC = torch.tensor(encode_char(train_chars))\n",
    "val_dataC = torch.tensor(encode_char(val_chars))\n",
    "\n",
    "print(f\"Character train has {len(train_dataC):,} tokens\")\n",
    "print(f\"Character val has {len(val_dataC):,} tokens\")"
   ],
   "id": "a73ecc395a15f65a",
   "outputs": [
    {
     "name": "stdout",
     "output_type": "stream",
     "text": [
      "Character train has 4,116,004 tokens\n",
      "Character val has 457,334 tokens\n"
     ]
    }
   ],
   "execution_count": 16
  },
  {
   "metadata": {
    "ExecuteTime": {
     "end_time": "2025-03-14T09:20:35.432450Z",
     "start_time": "2025-03-14T09:14:36.651992Z"
    }
   },
   "cell_type": "code",
   "source": [
    "# Create models with different tokenization methods\n",
    "vocab_size = 2000\n",
    "\n",
    "model_bpe = TransformerLM(vocab_size, CONTEXT_WINDOW_SIZE, dropout=0.1).to(device)\n",
    "model_char = TransformerLM(len(char_to_idx), CONTEXT_WINDOW_SIZE, dropout=0.1).to(device)\n",
    "\n",
    "# Train models with different loss functions\n",
    "# For BPE model\n",
    "#train_model(model_bpe, optim.Adam(model_bpe.parameters(), lr=1e-3), loss_fn=\"focal_loss\", epochs=10)\n",
    "\n",
    "# For character model (with lower learning rate and gradient clipping)\n",
    "#train_model(model_char, optim.Adam(model_char.parameters(), lr=1e-4), loss_fn=\"focal_loss\", epochs=10, is_char_model=True)\n",
    "\n",
    "# # # Then load the saved parameters\n",
    "# model_bpe.load_state_dict(torch.load('model_bpe.pth'))\n",
    "# model_char.load_state_dict(torch.load('model_char.pth'))\n",
    "\n",
    "# # # Set models to evaluation mode before inference\n",
    "# model_bpe.eval()\n",
    "# model_char.eval()\n",
    "\n",
    "# Create prompts for evaluation\n",
    "prompts = [\n",
    "    \"To be, or not to be,\",\n",
    "    \"Friends, Romans, countrymen,\",\n",
    "    \"Now is the winter of our discontent\"\n",
    "]\n",
    "\n",
    "# Run comparison\n",
    "results = run_model_comparison_different_tokenization(\n",
    "    model_bpe, model_char,\n",
    "    encode_bpe, decode_bpe,\n",
    "    encode_char, decode_char,\n",
    "    prompts\n",
    ")"
   ],
   "id": "417e2901ce9f418a",
   "outputs": [
    {
     "name": "stdout",
     "output_type": "stream",
     "text": [
      "Loading DeepSeek reference model...\n"
     ]
    },
    {
     "data": {
      "text/plain": [
       "Loading checkpoint shards:   0%|          | 0/2 [00:00<?, ?it/s]"
      ],
      "application/vnd.jupyter.widget-view+json": {
       "version_major": 2,
       "version_minor": 0,
       "model_id": "71e1422ced654809b7388e14d670f238"
      }
     },
     "metadata": {},
     "output_type": "display_data"
    },
    {
     "name": "stderr",
     "output_type": "stream",
     "text": [
      "Evaluating prompts: 100%|██████████| 3/3 [03:06<00:00, 62.25s/it]\n"
     ]
    },
    {
     "data": {
      "text/plain": [
       "<Figure size 1400x600 with 2 Axes>"
      ],
      "image/png": "[encoded data removed]"
     },
     "metadata": {},
     "output_type": "display_data"
    },
    {
     "name": "stdout",
     "output_type": "stream",
     "text": [
      "==================== SAMPLE COMPARISONS ====================\n",
      "\n",
      "Sample 1:\n",
      "\n",
      "Model A (Log Prob: -5.1322, Perplexity: 169.3850):\n",
      " To be, or not to be, too late good.\n",
      "\n",
      "NORTHUMBERLAND:\n",
      "I am done, a weak of cerelines, a king,\n",
      "A kiss me in this royalty stood and all their lives\n",
      "Do Talisor, if I greett us, I repet,\n",
      "Thither into a bright of fair Popeancy.\n",
      "\n",
      "LADY PEDRO:\n",
      "A little for me, I pray the sickly controok me\n",
      "\n",
      "Model B (Log Prob: -5.7120, Perplexity: 302.4871):\n",
      "To be, or not to be, wischon\n",
      "Thist and faysh, wanver in to filet. I what's whil,\n",
      "But mLughiang my notind it, and to himA\n",
      "\n",
      "==================================================\n",
      "\n",
      "Sample 2:\n",
      "\n",
      "Model A (Log Prob: -5.1666, Perplexity: 175.3220):\n",
      " To be, or not to be,\n",
      "And I would rather be an old man,\n",
      "For on egue to but Neptune, who\n",
      "That you!\n",
      "\n",
      "PARIS:\n",
      "I shall not have tort to have, and I thought\n",
      "Nor she hath shored an ungots in larger;\n",
      "But bid me me patient course tale\n",
      "So much in you. Then taples\n",
      "The vengel, that have I am awakened till\n",
      "\n",
      "Model B (Log Prob: -5.7113, Perplexity: 302.2621):\n",
      "To be, or not to be, will me whear bes 'Wer wen new so\n",
      "not'st your whell tethis? Goy shall stranys, and you su'd agay\n",
      "ci\n",
      "\n",
      "==================================================\n"
     ]
    }
   ],
   "execution_count": 20
  },
  {
   "metadata": {
    "ExecuteTime": {
     "end_time": "2025-03-14T09:13:04.384561Z",
     "start_time": "2025-03-14T09:13:03.470695Z"
    }
   },
   "cell_type": "code",
   "source": [
    "# Save the final models\n",
    "torch.save(model_bpe.state_dict(), 'model_bpe.pth')\n",
    "torch.save(model_char.state_dict(), 'model_char.pth')"
   ],
   "id": "eda6b1a302b30338",
   "outputs": [],
   "execution_count": 18
  },
  {
   "metadata": {},
   "cell_type": "code",
   "outputs": [],
   "execution_count": null,
   "source": "",
   "id": "d59da171fa687cc8"
  }
 ],
 "metadata": {
  "kernelspec": {
   "display_name": "Python 3",
   "language": "python",
   "name": "python3"
  },
  "language_info": {
   "codemirror_mode": {
    "name": "ipython",
    "version": 2
   },
   "file_extension": ".py",
   "mimetype": "text/x-python",
   "name": "python",
   "nbconvert_exporter": "python",
   "pygments_lexer": "ipython2",
   "version": "2.7.6"
  }
 },
 "nbformat": 4,
 "nbformat_minor": 5
}
