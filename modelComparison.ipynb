{
 "cells": [
  {
   "cell_type": "code",
   "execution_count": 1,
   "id": "initial_id",
   "metadata": {
    "ExecuteTime": {
     "end_time": "2025-03-14T08:11:11.745032Z",
     "start_time": "2025-03-14T08:11:09.822384Z"
    },
    "collapsed": true
   },
   "outputs": [],
   "source": [
    "# Import necessary libraries\n",
    "import torch\n",
    "import torch.nn as nn\n",
    "import torch.nn.functional as F\n",
    "import torch.optim as optim\n",
    "import matplotlib.pyplot as plt\n",
    "import numpy as np\n",
    "from tqdm import tqdm\n",
    "from importlib import reload\n",
    "from transformers import AutoModelForCausalLM, AutoTokenizer\n",
    "from transformerDropout import *\n"
   ]
  },
  {
   "cell_type": "code",
   "execution_count": 3,
   "id": "16f12fc0946fc5dc",
   "metadata": {
    "ExecuteTime": {
     "end_time": "2025-03-14T08:11:12.363388Z",
     "start_time": "2025-03-14T08:11:12.357696Z"
    }
   },
   "outputs": [],
   "source": [
    "torch.manual_seed(305)\n",
    "device = 'cuda'\n",
    "\n",
    "SMALL_ITERS = 1000\n",
    "LARGE_ITERS = 2000\n",
    "EVAL_ITERS = 100\n",
    "CONTEXT_WINDOW_SIZE = 256\n",
    "\n",
    "vocab_size = 2000"
   ]
  },
  {
   "cell_type": "code",
   "execution_count": 4,
   "id": "65a1869a68b0f5d0",
   "metadata": {
    "ExecuteTime": {
     "end_time": "2025-03-14T08:11:13.132628Z",
     "start_time": "2025-03-14T08:11:13.128153Z"
    }
   },
   "outputs": [
    {
     "name": "stdout",
     "output_type": "stream",
     "text": [
      "length of dataset in characters: 4,573,338\n"
     ]
    }
   ],
   "source": [
    "input_file_path = 'data/full_shakespeare.txt'\n",
    "\n",
    "if not os.path.exists(input_file_path):\n",
    "    data_url = 'https://cs.stanford.edu/people/karpathy/char-rnn/shakespeare_input.txt'\n",
    "    with open(input_file_path, 'w') as f:\n",
    "        f.write(requests.get(data_url).text)\n",
    "\n",
    "with open(input_file_path, 'r') as f:\n",
    "    data = f.read()\n",
    "print(f\"length of dataset in characters: {len(data):,}\")"
   ]
  },
  {
   "cell_type": "code",
   "execution_count": 5,
   "id": "a1fc77935069dda1",
   "metadata": {
    "ExecuteTime": {
     "end_time": "2025-03-14T08:11:16.374164Z",
     "start_time": "2025-03-14T08:11:14.048253Z"
    }
   },
   "outputs": [
    {
     "name": "stdout",
     "output_type": "stream",
     "text": [
      "\n",
      "\n",
      "\n",
      "train has 1,478,711 tokens\n",
      "val has 163,429 tokens\n"
     ]
    }
   ],
   "source": [
    "# Define a BPE model\n",
    "tokenizer = Tokenizer(models.BPE(unk_token=\"<unk>\"))\n",
    "tokenizer.pre_tokenizer = pre_tokenizers.ByteLevel(add_prefix_space=True)\n",
    "tokenizer.decoder = decoders.ByteLevel()\n",
    "\n",
    "# Trainer with desired vocab size\n",
    "trainer = trainers.BpeTrainer(vocab_size=vocab_size, special_tokens=[\"<unk>\"])\n",
    "# data should be an iterator over your text lines or documents\n",
    "tokenizer.train_from_iterator([data], trainer=trainer)\n",
    "\n",
    "# Encode and decode functions\n",
    "def encode_bpe(text):\n",
    "    return tokenizer.encode(text).ids\n",
    "\n",
    "def decode_bpe(ids):\n",
    "    return tokenizer.decode(ids)\n",
    "\n",
    "# Example usage:\n",
    "train_text = data[:int(len(data) * 0.9)]\n",
    "val_text = data[int(len(data) * 0.9):]\n",
    "\n",
    "train_tokens = encode_bpe(train_text)\n",
    "val_tokens = encode_bpe(val_text)\n",
    "\n",
    "import torch\n",
    "train_data = torch.tensor(train_tokens)\n",
    "val_data = torch.tensor(val_tokens)\n",
    "\n",
    "print(f\"train has {len(train_data):,} tokens\")\n",
    "print(f\"val has {len(val_data):,} tokens\")"
   ]
  },
  {
   "cell_type": "code",
   "execution_count": 6,
   "id": "9cf26912d345a114",
   "metadata": {
    "ExecuteTime": {
     "end_time": "2025-03-14T08:11:17.399223Z",
     "start_time": "2025-03-14T08:11:16.382754Z"
    }
   },
   "outputs": [
    {
     "name": "stdout",
     "output_type": "stream",
     "text": [
      "Total unique tokens: 1958\n",
      "Tokens with ≥100 examples: 1761 (89.94%)\n"
     ]
    }
   ],
   "source": [
    "# Count occurrences of each token in BPE vocabulary\n",
    "token_counts = {}\n",
    "for token_id in train_data:\n",
    "    token_id = token_id.item()\n",
    "    token_counts[token_id] = token_counts.get(token_id, 0) + 1\n",
    "\n",
    "# Check how many tokens have at least 100 examples\n",
    "tokens_with_sufficient_examples = sum(1 for count in token_counts.values() if count >= 100)\n",
    "percentage = tokens_with_sufficient_examples / len(token_counts) * 100\n",
    "\n",
    "print(f\"Total unique tokens: {len(token_counts)}\")\n",
    "print(f\"Tokens with ≥100 examples: {tokens_with_sufficient_examples} ({percentage:.2f}%)\")\n"
   ]
  },
  {
   "cell_type": "code",
   "execution_count": 17,
   "id": "ad4219823bdae577",
   "metadata": {
    "ExecuteTime": {
     "end_time": "2025-03-14T02:21:23.507443Z",
     "start_time": "2025-03-14T02:21:23.503276Z"
    }
   },
   "outputs": [],
   "source": [
    "# function for getting batches of data\n",
    "def get_batch(split, context_window_size, device, batch_size=32):\n",
    "    \"\"\"\n",
    "    generate a small batch of data of inputs x and targets y\n",
    "\n",
    "    Args:\n",
    "        split: 'train' or 'val'\n",
    "        device: 'cpu' or 'cuda' (should be 'cuda' if available)\n",
    "    \"\"\"\n",
    "    data = train_data if split == 'train' else val_data\n",
    "    ix = torch.randint(len(data) - context_window_size, (batch_size,))\n",
    "    x = torch.stack([data[i:i+context_window_size] for i in ix])\n",
    "    y = torch.stack([data[i+1:i+context_window_size+1] for i in ix])\n",
    "    x = x.to(device)\n",
    "    y = y.to(device)\n",
    "    return x, y\n",
    "\n",
    "# helper function for tracking loss during training\n",
    "# given to you\n",
    "@torch.no_grad()\n",
    "def estimate_loss(model, eval_iters, context_window_size, device, use_focal_loss=False):\n",
    "    \"\"\"\n",
    "    Args:\n",
    "      model: model being evaluated\n",
    "      eval_iters: number of batches to average over\n",
    "      context_window_size: size of the context window\n",
    "      device: 'cpu' or 'cuda' (should be 'cuda' if available)\n",
    "    \"\"\"\n",
    "    out = {}\n",
    "    for split in ['train', 'val']:\n",
    "        losses_by_type = {\n",
    "            'ce_loss': torch.zeros(eval_iters),\n",
    "        }\n",
    "        if use_focal_loss:\n",
    "            losses_by_type['f_loss'] = torch.zeros(eval_iters)\n",
    "\n",
    "        for k in range(eval_iters):\n",
    "            X, Y = get_batch(split, context_window_size, device)\n",
    "            logits, ce_loss, f_loss = model(X, Y)\n",
    "            losses_by_type['ce_loss'][k] = ce_loss.item()\n",
    "            if use_focal_loss:\n",
    "                losses_by_type['f_loss'][k] = f_loss.item()\n",
    "\n",
    "        out[split] = {'ce_loss': losses_by_type['ce_loss'].mean().item()}\n",
    "        if use_focal_loss:\n",
    "            out[split]['f_loss'] = losses_by_type['f_loss'].mean().item()\n",
    "\n",
    "    return out"
   ]
  },
  {
   "cell_type": "code",
   "execution_count": 18,
   "id": "cec7c4d2190040d8",
   "metadata": {
    "ExecuteTime": {
     "end_time": "2025-03-14T02:21:25.146709Z",
     "start_time": "2025-03-14T02:21:25.144756Z"
    }
   },
   "outputs": [],
   "source": [
    "# Load DeepSeek as reference model\n",
    "def load_deepseek_reference():\n",
    "    print(\"Loading DeepSeek reference model...\")\n",
    "    model_name = \"deepseek-ai/deepseek-llm-7b-base\"\n",
    "    tokenizer = AutoTokenizer.from_pretrained(model_name)\n",
    "    model = AutoModelForCausalLM.from_pretrained(model_name, torch_dtype=torch.float16)\n",
    "    model.eval()\n",
    "    return model, tokenizer"
   ]
  },
  {
   "cell_type": "code",
   "execution_count": 19,
   "id": "561a3416c155dbb5",
   "metadata": {
    "ExecuteTime": {
     "end_time": "2025-03-14T02:21:25.608489Z",
     "start_time": "2025-03-14T02:21:25.606014Z"
    }
   },
   "outputs": [],
   "source": [
    "# Calculate log probability of a text sequence under DeepSeek\n",
    "def calculate_deepseek_log_prob(deepseek_model, deepseek_tokenizer, text):\n",
    "    \"\"\"\n",
    "    Calculate the log probability of a text sequence under DeepSeek\n",
    "    \"\"\"\n",
    "    inputs = deepseek_tokenizer(text, return_tensors=\"pt\").to(device)\n",
    "\n",
    "    with torch.no_grad():\n",
    "        # Get the target ids (shifted by 1 position)\n",
    "        input_ids = inputs.input_ids\n",
    "        target_ids = input_ids.clone()\n",
    "\n",
    "        # Forward pass\n",
    "        outputs = deepseek_model(input_ids, labels=target_ids)\n",
    "\n",
    "    # Get the loss (negative log likelihood)\n",
    "    neg_log_likelihood = outputs.loss.item()\n",
    "\n",
    "    # Convert to log probability and normalize by sequence length\n",
    "    log_prob = -neg_log_likelihood\n",
    "    normalized_log_prob = log_prob / len(input_ids[0])\n",
    "\n",
    "    return normalized_log_prob\n"
   ]
  },
  {
   "cell_type": "code",
   "execution_count": 20,
   "id": "1f9e14f0baf20337",
   "metadata": {
    "ExecuteTime": {
     "end_time": "2025-03-14T02:21:25.994390Z",
     "start_time": "2025-03-14T02:21:25.992050Z"
    }
   },
   "outputs": [],
   "source": [
    "# Generate text from Shakespeare model\n",
    "def generate_shakespeare_text(model, prompt, max_tokens=100, temperature=1.0):\n",
    "    \"\"\"\n",
    "    Generate text from a Shakespeare language model\n",
    "    \"\"\"\n",
    "    model.eval()\n",
    "    with torch.no_grad():\n",
    "        token_ids = prompt.clone()\n",
    "\n",
    "        for _ in range(max_tokens):\n",
    "            if token_ids.size(1) > CONTEXT_WINDOW_SIZE:\n",
    "                token_ids = token_ids[:, -CONTEXT_WINDOW_SIZE:]\n",
    "\n",
    "            # Get predictions\n",
    "            logits, _, _ = model(token_ids)\n",
    "            logits = logits[:, -1, :] / temperature\n",
    "\n",
    "            # Sample from the distribution\n",
    "            probs = F.softmax(logits, dim=-1)\n",
    "            next_token = torch.multinomial(probs, num_samples=1)\n",
    "\n",
    "            # Append to the sequence\n",
    "            token_ids = torch.cat([token_ids, next_token], dim=1)\n",
    "\n",
    "        return token_ids\n"
   ]
  },
  {
   "cell_type": "code",
   "execution_count": 21,
   "id": "e1100eb85be350c4",
   "metadata": {
    "ExecuteTime": {
     "end_time": "2025-03-14T02:21:26.318380Z",
     "start_time": "2025-03-14T02:21:26.308914Z"
    }
   },
   "outputs": [],
   "source": [
    "# Compare two Shakespeare models using DeepSeek as reference\n",
    "def compare_models_with_deepseek(model_a, model_b, deepseek_model, deepseek_tokenizer,\n",
    "                              prompts, decode_fn, max_tokens=100, num_samples=5):\n",
    "    \"\"\"\n",
    "    Compare two Shakespeare models using DeepSeek as reference\n",
    "\n",
    "    Args:\n",
    "        model_a: First Shakespeare model\n",
    "        model_b: Second Shakespeare model\n",
    "        deepseek_model: DeepSeek reference model\n",
    "        deepseek_tokenizer: DeepSeek tokenizer\n",
    "        prompts: List of prompts to use for generation\n",
    "        decode_fn: Function to decode token IDs to text\n",
    "        max_tokens: Maximum tokens to generate per sample\n",
    "        num_samples: Number of samples to generate per prompt\n",
    "\n",
    "    Returns:\n",
    "        results: Dictionary of comparison results\n",
    "    \"\"\"\n",
    "    results = {\n",
    "        'model_a': {\n",
    "            'samples': [],\n",
    "            'texts': [],\n",
    "            'log_probs': [],\n",
    "            'perplexities': []\n",
    "        },\n",
    "        'model_b': {\n",
    "            'samples': [],\n",
    "            'texts': [],\n",
    "            'log_probs': [],\n",
    "            'perplexities': []\n",
    "        }\n",
    "    }\n",
    "\n",
    "    for prompt in tqdm(prompts, desc=\"Evaluating prompts\"):\n",
    "        for _ in range(num_samples):\n",
    "            # Generate samples from both models\n",
    "            sample_a = generate_shakespeare_text(model_a, prompt, max_tokens)\n",
    "            sample_b = generate_shakespeare_text(model_b, prompt, max_tokens)\n",
    "\n",
    "            # Decode to text\n",
    "            text_a = decode_fn(sample_a[0].tolist())\n",
    "            text_b = decode_fn(sample_b[0].tolist())\n",
    "\n",
    "            # Calculate log probabilities under DeepSeek\n",
    "            log_prob_a = calculate_deepseek_log_prob(deepseek_model, deepseek_tokenizer, text_a)\n",
    "            log_prob_b = calculate_deepseek_log_prob(deepseek_model, deepseek_tokenizer, text_b)\n",
    "\n",
    "            # Calculate perplexity (lower is better)\n",
    "            perplexity_a = np.exp(-log_prob_a)\n",
    "            perplexity_b = np.exp(-log_prob_b)\n",
    "\n",
    "            # Store results\n",
    "            results['model_a']['samples'].append(sample_a)\n",
    "            results['model_a']['texts'].append(text_a)\n",
    "            results['model_a']['log_probs'].append(log_prob_a)\n",
    "            results['model_a']['perplexities'].append(perplexity_a)\n",
    "\n",
    "            results['model_b']['samples'].append(sample_b)\n",
    "            results['model_b']['texts'].append(text_b)\n",
    "            results['model_b']['log_probs'].append(log_prob_b)\n",
    "            results['model_b']['perplexities'].append(perplexity_b)\n",
    "\n",
    "    # Calculate average metrics\n",
    "    results['model_a']['avg_log_prob'] = np.mean(results['model_a']['log_probs'])\n",
    "    results['model_a']['avg_perplexity'] = np.mean(results['model_a']['perplexities'])\n",
    "    results['model_b']['avg_log_prob'] = np.mean(results['model_b']['log_probs'])\n",
    "    results['model_b']['avg_perplexity'] = np.mean(results['model_b']['perplexities'])\n",
    "\n",
    "    return results\n"
   ]
  },
  {
   "cell_type": "code",
   "execution_count": 22,
   "id": "170fd09deb25089a",
   "metadata": {
    "ExecuteTime": {
     "end_time": "2025-03-14T02:21:26.945986Z",
     "start_time": "2025-03-14T02:21:26.943030Z"
    }
   },
   "outputs": [],
   "source": [
    "# Visualize comparison results\n",
    "def visualize_comparison(results, model_a_name=\"Model A\", model_b_name=\"Model B\"):\n",
    "    \"\"\"\n",
    "    Visualize the comparison results between two models\n",
    "    \"\"\"\n",
    "    # Create figure with two subplots\n",
    "    fig, (ax1, ax2) = plt.subplots(1, 2, figsize=(14, 6))\n",
    "\n",
    "    # Plot log probabilities\n",
    "    ax1.bar([model_a_name, model_b_name],\n",
    "            [results['model_a']['avg_log_prob'], results['model_b']['avg_log_prob']])\n",
    "    ax1.set_title('Average Log Probability (higher is better)')\n",
    "    ax1.set_ylabel('Log Probability')\n",
    "\n",
    "    # Plot perplexities\n",
    "    ax2.bar([model_a_name, model_b_name],\n",
    "            [results['model_a']['avg_perplexity'], results['model_b']['avg_perplexity']])\n",
    "    ax2.set_title('Average Perplexity (lower is better)')\n",
    "    ax2.set_ylabel('Perplexity')\n",
    "\n",
    "    plt.tight_layout()\n",
    "    plt.show()\n"
   ]
  },
  {
   "cell_type": "code",
   "execution_count": 23,
   "id": "62329c1271a9b1c2",
   "metadata": {
    "ExecuteTime": {
     "end_time": "2025-03-14T02:21:27.596397Z",
     "start_time": "2025-03-14T02:21:27.592839Z"
    }
   },
   "outputs": [],
   "source": [
    "# Print sample comparisons\n",
    "def print_sample_comparisons(results, num_samples=3):\n",
    "    \"\"\"\n",
    "    Print sample text generations from both models with their metrics\n",
    "    \"\"\"\n",
    "    print(f\"{'='*20} SAMPLE COMPARISONS {'='*20}\")\n",
    "\n",
    "    for i in range(min(num_samples, len(results['model_a']['samples']))):\n",
    "        print(f\"\\nSample {i+1}:\")\n",
    "\n",
    "        # Model A\n",
    "        text_a = results['model_a']['texts'][i]\n",
    "        log_prob_a = results['model_a']['log_probs'][i]\n",
    "        perplexity_a = results['model_a']['perplexities'][i]\n",
    "\n",
    "        print(f\"\\nModel A (Log Prob: {log_prob_a:.4f}, Perplexity: {perplexity_a:.4f}):\")\n",
    "        print(text_a[:500] + \"...\" if len(text_a) > 500 else text_a)\n",
    "\n",
    "        # Model B\n",
    "        text_b = results['model_b']['texts'][i]\n",
    "        log_prob_b = results['model_b']['log_probs'][i]\n",
    "        perplexity_b = results['model_b']['perplexities'][i]\n",
    "\n",
    "        print(f\"\\nModel B (Log Prob: {log_prob_b:.4f}, Perplexity: {perplexity_b:.4f}):\")\n",
    "        print(text_b[:500] + \"...\" if len(text_b) > 500 else text_b)\n",
    "\n",
    "        print(f\"\\n{'='*50}\")\n"
   ]
  },
  {
   "cell_type": "code",
   "execution_count": 24,
   "id": "acadcc4d9ededd43",
   "metadata": {
    "ExecuteTime": {
     "end_time": "2025-03-14T02:21:28.234759Z",
     "start_time": "2025-03-14T02:21:28.232378Z"
    }
   },
   "outputs": [],
   "source": [
    "# Main function to run the comparison\n",
    "def run_shakespeare_model_comparison(model_a, model_b, decode_bpe, prompts):\n",
    "    \"\"\"\n",
    "    Run the full comparison between two Shakespeare models\n",
    "    \"\"\"\n",
    "    # Load DeepSeek reference model\n",
    "    deepseek_model, deepseek_tokenizer = load_deepseek_reference()\n",
    "    deepseek_model = deepseek_model.to(device)\n",
    "\n",
    "    # Compare models\n",
    "    results = compare_models_with_deepseek(\n",
    "        model_a,\n",
    "        model_b,\n",
    "        deepseek_model,\n",
    "        deepseek_tokenizer,\n",
    "        prompts,\n",
    "        decode_bpe,\n",
    "        max_tokens=100,\n",
    "        num_samples=3\n",
    "    )\n",
    "\n",
    "    # Visualize results\n",
    "    visualize_comparison(results, \"Cross-Entropy Model\", \"Focal Loss Model\")\n",
    "\n",
    "    # Print sample comparisons\n",
    "    print_sample_comparisons(results, num_samples=2)\n",
    "\n",
    "    return results\n"
   ]
  },
  {
   "cell_type": "code",
   "execution_count": 27,
   "id": "f566918d3b7c698",
   "metadata": {
    "ExecuteTime": {
     "end_time": "2025-03-14T02:23:32.384003Z",
     "start_time": "2025-03-14T02:23:32.380227Z"
    }
   },
   "outputs": [],
   "source": [
    "# Helper function to train models\n",
    "def train_model(model, optimizer, loss_fn=\"ce_loss\", epochs=10):\n",
    "    \"\"\"\n",
    "    Train a model for a specified number of epochs.\n",
    "\n",
    "    Args:\n",
    "        model: The model to train\n",
    "        optimizer: The optimizer to use\n",
    "        loss_fn: Which loss function to use (\"ce_loss\" or \"focal_loss\")\n",
    "        epochs: Number of epochs to train for\n",
    "    \"\"\"\n",
    "    model.train()\n",
    "\n",
    "    for epoch in range(epochs):\n",
    "        epoch_loss = 0\n",
    "        num_batches = 100  # Number of batches per epoch\n",
    "\n",
    "        for _ in range(num_batches):\n",
    "            # Get batch\n",
    "            xb, yb = get_batch('train', CONTEXT_WINDOW_SIZE, device, batch_size=64)\n",
    "\n",
    "            # Forward pass\n",
    "            logits, ce_loss, f_loss = model(xb, yb)\n",
    "\n",
    "            # Use specified loss\n",
    "            loss = ce_loss if loss_fn == \"ce_loss\" else f_loss\n",
    "\n",
    "            # Backward pass and optimize\n",
    "            optimizer.zero_grad()\n",
    "            loss.backward()\n",
    "            optimizer.step()\n",
    "\n",
    "            epoch_loss += loss.item()\n",
    "\n",
    "        # Print progress\n",
    "        avg_loss = epoch_loss / num_batches\n",
    "        print(f\"Epoch {epoch+1}/{epochs}, Loss: {avg_loss:.4f}\")"
   ]
  },
  {
   "cell_type": "code",
   "execution_count": 47,
   "id": "417e2901ce9f418a",
   "metadata": {
    "ExecuteTime": {
     "end_time": "2025-03-14T03:17:30.792736Z",
     "start_time": "2025-03-14T02:32:59.762773Z"
    }
   },
   "outputs": [
    {
     "name": "stdout",
     "output_type": "stream",
     "text": [
      "Epoch 1/10, Loss: 6.1775\n",
      "Epoch 2/10, Loss: 5.3978\n",
      "Epoch 3/10, Loss: 5.0029\n",
      "Epoch 4/10, Loss: 4.8078\n",
      "Epoch 5/10, Loss: 4.6263\n",
      "Epoch 6/10, Loss: 4.4607\n",
      "Epoch 7/10, Loss: 4.3416\n",
      "Epoch 8/10, Loss: 4.2174\n",
      "Epoch 9/10, Loss: 4.1109\n",
      "Epoch 10/10, Loss: 4.0138\n",
      "Epoch 1/10, Loss: 6.1869\n",
      "Epoch 2/10, Loss: 5.5031\n",
      "Epoch 3/10, Loss: 5.0800\n",
      "Epoch 4/10, Loss: 4.8906\n",
      "Epoch 5/10, Loss: 4.7777\n",
      "Epoch 6/10, Loss: 4.6782\n",
      "Epoch 7/10, Loss: 4.5584\n",
      "Epoch 8/10, Loss: 4.4619\n",
      "Epoch 9/10, Loss: 4.3896\n",
      "Epoch 10/10, Loss: 4.3141\n",
      "Loading DeepSeek reference model...\n"
     ]
    },
    {
     "name": "stderr",
     "output_type": "stream",
     "text": [
      "huggingface/tokenizers: The current process just got forked, after parallelism has already been used. Disabling parallelism to avoid deadlocks...\n",
      "To disable this warning, you can either:\n",
      "\t- Avoid using `tokenizers` before the fork if possible\n",
      "\t- Explicitly set the environment variable TOKENIZERS_PARALLELISM=(true | false)\n",
      "Downloading shards: 100%|██████████| 2/2 [12:45<00:00, 382.78s/it]\n",
      "Loading checkpoint shards: 100%|██████████| 2/2 [00:27<00:00, 13.67s/it]\n",
      "Evaluating prompts: 100%|██████████| 2/2 [07:32<00:00, 226.47s/it]\n"
     ]
    },
    {
     "data": {
      "image/png": "[encoded data removed]",
      "text/plain": [
       "<Figure size 1400x600 with 2 Axes>"
      ]
     },
     "metadata": {},
     "output_type": "display_data"
    },
    {
     "name": "stdout",
     "output_type": "stream",
     "text": [
      "==================== SAMPLE COMPARISONS ====================\n",
      "\n",
      "Sample 1:\n",
      "\n",
      "Model A (Log Prob: -0.0625, Perplexity: 1.0645):\n",
      ".\n",
      "\n",
      "QUICKPRINCLA:\n",
      "V cha for a mouth: 'tis it is noouse'd, well has the\n",
      "verew of great by not: which those Master ither-morrow, not Jay\n",
      "to all as to odgeing by you. But with Now, le then.\n",
      "\n",
      "COSTurse:\n",
      "God pro Lust laugh, tell you honour, make peed, truly he grie away: the\n",
      "bege to hear himself\n",
      "\n",
      "Model B (Log Prob: -0.0553, Perplexity: 1.0569):\n",
      " had ror,\n",
      "That that is a bore but once short.\n",
      "\n",
      "This hand?\n",
      "SORD:\n",
      "'Tis I cannot cere, I shall I are too.\n",
      "\n",
      "ORLAND:\n",
      "If friends, sweet master then me, I dare make us, hold,\n",
      "To be swin to strivesel. Therefore, ho! my two stre thank him;\n",
      "That which was so much dear Hied o'er of this\n",
      "So hast us for who\n",
      "\n",
      "==================================================\n",
      "\n",
      "Sample 2:\n",
      "\n",
      "Model A (Log Prob: -0.0677, Perplexity: 1.0700):\n",
      "ROSALIND:Alas! Sir Swear!\n",
      "for I make your conecatch, sweet a good ; you in your\n",
      "un till the feet come. Come, no that you that will not\n",
      "solurself you come upon your offic subjects, go from\n",
      " outward, some contPEareome!\n",
      "I may congetspectishook every droft a nor! I had\n",
      "do. F serk you, and on what you countm\n",
      "\n",
      "Model B (Log Prob: -0.0544, Perplexity: 1.0559):\n",
      " man have them.\n",
      "\n",
      "KOR:\n",
      "Well, madam, gods; for thou shalt not all the person.\n",
      "\n",
      "LEON IV:\n",
      "Plail!\n",
      " drun'd pass, come, yalbary o'er!\n",
      "\n",
      "KINGESS:\n",
      "Go of my noble lord; and seLAUDnto the moent diveres.\n",
      "\n",
      "HER:\n",
      "Ay, good lord; in gold were he shabours, lrown,\n",
      "They break your\n",
      "\n",
      "==================================================\n"
     ]
    }
   ],
   "source": [
    "# Create two models with different configurations\n",
    "model_ce = TransformerLM(vocab_size, CONTEXT_WINDOW_SIZE, dropout=0).to(device)\n",
    "model_focal = TransformerLM(vocab_size, CONTEXT_WINDOW_SIZE, dropout=0.1).to(device)\n",
    "\n",
    "# Train models with different loss functions\n",
    "train_model(model_ce, optim.Adam(model_ce.parameters(), lr=1e-4), loss_fn=\"ce_loss\", epochs=10)\n",
    "train_model(model_focal, optim.Adam(model_focal.parameters(), lr=1e-4), loss_fn=\"focal_loss\", epochs=10)\n",
    "\n",
    "# Create prompts for evaluation\n",
    "prompts = [\n",
    "    torch.tensor([[0]], device=device),  # Empty context\n",
    "    torch.tensor([[45, 67, 89, 12, 34]], device=device),  # Custom prompt\n",
    "]\n",
    "\n",
    "# Run comparison\n",
    "results = run_shakespeare_model_comparison(model_ce, model_focal, decode_bpe, prompts)"
   ]
  },
  {
   "cell_type": "code",
   "execution_count": null,
   "id": "6783cdf78bab6460",
   "metadata": {},
   "outputs": [],
   "source": []
  }
 ],
 "metadata": {
  "kernelspec": {
   "display_name": "Python 3",
   "language": "python",
   "name": "python3"
  },
  "language_info": {
   "codemirror_mode": {
    "name": "ipython",
    "version": 3
   },
   "file_extension": ".py",
   "mimetype": "text/x-python",
   "name": "python",
   "nbconvert_exporter": "python",
   "pygments_lexer": "ipython3",
   "version": "3.11.5"
  }
 },
 "nbformat": 4,
 "nbformat_minor": 5
}
