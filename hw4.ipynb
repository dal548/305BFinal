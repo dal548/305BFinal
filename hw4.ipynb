{
 "cells": [
  {
   "cell_type": "markdown",
   "metadata": {
    "id": "eNeWF0uED8J2"
   },
   "source": [
    "# HW4: Large Language Models\n",
    "\n",
    "In this assignment, you will be implementing language models for next token prediction and generation of Shakespeare! This assignment will be in two parts. **For this final assignment, you have the option to work in pairs.**\n",
    "\n",
    "**Part 1:**\n",
    "\n",
    "In this part, you will review some key ingredients of sequence modeling. In the process, you will build a baseline transformer model for next token prediction trained on Shakespeare's works. We have provided the scaffolding for the code in this part of the assignment, and your task will be to fill in the key implementation steps.\n",
    "\n",
    "**Part 2:**\n",
    "\n",
    "This part is an open-ended mini-project where you have the freedom to try sequence modeling approaches of your choice on this problem. You should feel free to try other architectures (HMMs, RNNs, transformers, state space layers, diffusion models etc.) or to invent new architectures. You may also experiment with new algorithms for fitting or training these models. The goal will be to find some area of possible improvement (we interpret \"improvement\" quite loosely, but it is up to you to state precisely why your proposed innovation might constitute an improvement and to show convincing evidence that your innovation does or does not); to formulate and state a precise hypothesis; and to falsify or support the hypothesis with rigorous empirical analyses.\n",
    "\n",
    "**Deliverables:**\n",
    "\n",
    "- Code for Parts 1 of the assignment\n",
    "- A written report of at most 4 pages for Part 2 (references not included in the page limit), with a link to code for Part 2. \n",
    "\n",
    "_Note: the code for Part 2 will not be graded, but we ask you to include a link to it for completeness._\n",
    "\n",
    "**Important: Choosing runtimes**\n",
    "\n",
    "Google Colab has limits on the free usage of GPU runtimes. For this assignment, **we strongly recommend doing the majority of your prototyping, testing, and small-scale experiments on CPU backend**. Then, once you are ready to train your models, you should switch to a T4 GPU.\n",
    "\n",
    "You can change runtime type by clicking **Runtime -> Change Runtime Type** in the tabs above. You can monitor your resource usages in the top right corner of the screen (it should say what backend you are using, how many compute units per hour you are using, etc.)\n",
    "\n",
    "**Make sure to turn off GPU runtime if you are not actively using it!**\n",
    "\n",
    "\n",
    "\n",
    "\n"
   ]
  },
  {
   "cell_type": "markdown",
   "metadata": {
    "id": "qZ-AwbZ4ySCJ"
   },
   "source": [
    "## Setup"
   ]
  },
  {
   "cell_type": "code",
   "metadata": {
    "id": "_5IXGh6OOBZV",
    "ExecuteTime": {
     "end_time": "2025-03-14T21:54:12.709922Z",
     "start_time": "2025-03-14T21:54:11.904838Z"
    }
   },
   "source": [
    "# torch imports\n",
    "import torch\n",
    "import torch.nn as nn\n",
    "import torch.nn.functional as F\n",
    "import torch.optim as optim\n",
    "\n",
    "import matplotlib.pyplot as plt\n",
    "from tqdm import tqdm\n",
    "\n",
    "import requests\n",
    "import os\n",
    "\n",
    "torch.manual_seed(305)\n",
    "\n",
    "device = 'cuda' if torch.cuda.is_available() else 'cpu'\n",
    "device = 'mps'"
   ],
   "outputs": [],
   "execution_count": 1
  },
  {
   "cell_type": "markdown",
   "metadata": {
    "id": "fsgHl9JCuGBS"
   },
   "source": [
    "We set default values for some global hyperparameters, but feel free to change these during development as needed."
   ]
  },
  {
   "cell_type": "code",
   "metadata": {
    "id": "A_Z5Jh74DH_E",
    "ExecuteTime": {
     "end_time": "2025-03-14T21:54:12.714666Z",
     "start_time": "2025-03-14T21:54:12.713140Z"
    }
   },
   "source": [
    "# Global hyperparameters\n",
    "SMALL_ITERS = 1000\n",
    "LARGE_ITERS = 2000\n",
    "EVAL_ITERS = 100\n",
    "CONTEXT_WINDOW_SIZE = 256"
   ],
   "outputs": [],
   "execution_count": 2
  },
  {
   "cell_type": "markdown",
   "metadata": {
    "id": "lF6dgHnhOprg"
   },
   "source": [
    "## Part 0: Preprocessing\n",
    "\n",
    "As in the previous problem sets, a certain amount of preprocessing for textual data is required."
   ]
  },
  {
   "cell_type": "markdown",
   "metadata": {
    "id": "WF0_bhXNOxeS"
   },
   "source": [
    "### 0.1: Loading and preprocessing the dataset\n",
    "\n",
    "\n",
    "The first step is to download the dataset. We will be using a dataset from Andrej Karpathy consisting of a subset of works from Shakespeare.\n",
    "\n",
    "The dominant mode for preprocessing textual data is to tokenize it; that is, to split the dataset into a finite vocabulary of tokens. Then, we can set up a dictionaries mapping from counting numbers (representing tokens) to tokens and vice versa. Tokens can be characters, or words, or subwords; in fact, the \"best\" way to tokenize text is an active area of research.\n",
    "\n",
    "To keep things simple, we'll tokenize the text on a per-character level."
   ]
  },
  {
   "cell_type": "code",
   "metadata": {
    "id": "53dGz7ExDkUv",
    "ExecuteTime": {
     "end_time": "2025-03-14T21:54:13.662045Z",
     "start_time": "2025-03-14T21:54:13.658628Z"
    }
   },
   "source": [
    "# download the tiny shakespeare dataset\n",
    "input_file_path = 'input.txt'\n",
    "\n",
    "if not os.path.exists(input_file_path):\n",
    "    data_url = 'https://raw.githubusercontent.com/karpathy/char-rnn/master/data/tinyshakespeare/input.txt'\n",
    "    with open(input_file_path, 'w') as f:\n",
    "        f.write(requests.get(data_url).text)\n",
    "\n",
    "with open(input_file_path, 'r') as f:\n",
    "    data = f.read()\n",
    "print(f\"length of dataset in characters: {len(data):,}\")"
   ],
   "outputs": [
    {
     "name": "stdout",
     "output_type": "stream",
     "text": [
      "length of dataset in characters: 1,115,394\n"
     ]
    }
   ],
   "execution_count": 3
  },
  {
   "cell_type": "code",
   "metadata": {
    "id": "b2HuC2F9p_4K",
    "ExecuteTime": {
     "end_time": "2025-03-14T21:54:13.831231Z",
     "start_time": "2025-03-14T21:54:13.824382Z"
    }
   },
   "source": [
    "# get all the unique characters that occur in this text\n",
    "chars = sorted(list(set(data)))\n",
    "vocab_size = len(chars)\n",
    "print(\"all the unique characters:\", ''.join(chars))\n",
    "print(f\"vocab size: {vocab_size:,}\")"
   ],
   "outputs": [
    {
     "name": "stdout",
     "output_type": "stream",
     "text": [
      "all the unique characters: \n",
      " !$&',-.3:;?ABCDEFGHIJKLMNOPQRSTUVWXYZabcdefghijklmnopqrstuvwxyz\n",
      "vocab size: 65\n"
     ]
    }
   ],
   "execution_count": 4
  },
  {
   "cell_type": "code",
   "metadata": {
    "id": "JEWx5jnKqDzT",
    "ExecuteTime": {
     "end_time": "2025-03-14T21:54:14.070908Z",
     "start_time": "2025-03-14T21:54:13.986673Z"
    }
   },
   "source": [
    "# create a mapping from characters to integers\n",
    "stoi = { ch:i for i,ch in enumerate(chars) }\n",
    "itos = { i:ch for i,ch in enumerate(chars) }\n",
    "\n",
    "def encode(s):\n",
    "    return [stoi[c] for c in s] # encoder: take a string, output a list of integers\n",
    "def decode(l):\n",
    "    return ''.join([itos[i] for i in l]) # decoder: take a list of integers, output a string\n",
    "\n",
    "# create the train and test splits\n",
    "n = len(data)\n",
    "train_chars = data[:int(n*0.9)]\n",
    "val_chars = data[int(n*0.9):]\n",
    "\n",
    "# encode both to integers\n",
    "train_data = encode(train_chars)\n",
    "val_data = encode(val_chars)\n",
    "\n",
    "# cast as torch tensors\n",
    "train_data = torch.tensor(train_data)\n",
    "val_data = torch.tensor(val_data)\n",
    "\n",
    "print(f\"train has {len(train_data):,} tokens\")\n",
    "print(f\"val has {len(val_data):,} tokens\")"
   ],
   "outputs": [
    {
     "name": "stdout",
     "output_type": "stream",
     "text": [
      "train has 1,003,854 tokens\n",
      "val has 111,540 tokens\n"
     ]
    }
   ],
   "execution_count": 5
  },
  {
   "cell_type": "markdown",
   "metadata": {
    "id": "nsOs0_diEcjY"
   },
   "source": [
    "We also write helper functions to get batches of data and to evaluate the loss of various models on them."
   ]
  },
  {
   "cell_type": "code",
   "metadata": {
    "id": "AkAD0PfiEfjG",
    "ExecuteTime": {
     "end_time": "2025-03-14T21:54:15.183757Z",
     "start_time": "2025-03-14T21:54:15.180225Z"
    }
   },
   "source": [
    "# function for getting batches of data\n",
    "def get_batch(split, context_window_size, device, batch_size=32):\n",
    "    \"\"\"\n",
    "    generate a small batch of data of inputs x and targets y\n",
    "\n",
    "    Args:\n",
    "        split: 'train' or 'val'\n",
    "        device: 'cpu' or 'cuda' (should be 'cuda' if available)\n",
    "    \"\"\"\n",
    "    data = train_data if split == 'train' else val_data\n",
    "    ix = torch.randint(len(data) - context_window_size, (batch_size,))\n",
    "    x = torch.stack([data[i:i+context_window_size] for i in ix])\n",
    "    y = torch.stack([data[i+1:i+context_window_size+1] for i in ix])\n",
    "    x = x.to(device)\n",
    "    y = y.to(device)\n",
    "    return x, y\n",
    "\n",
    "# helper function for tracking loss during training\n",
    "# given to you\n",
    "@torch.no_grad()\n",
    "def estimate_loss(model, eval_iters, context_window_size, device):\n",
    "    \"\"\"\n",
    "    Args:\n",
    "      model: model being evaluated\n",
    "      eval_iters: number of batches to average over\n",
    "      context_window_size: size of the context window\n",
    "      device: 'cpu' or 'cuda' (should be 'cuda' if available)\n",
    "    \"\"\"\n",
    "    out = {}\n",
    "    for split in ['train', 'val']:\n",
    "        losses = torch.zeros(eval_iters)\n",
    "        for k in range(eval_iters):\n",
    "            X, Y = get_batch(split, context_window_size, device)\n",
    "            logits, loss = model(X, Y)\n",
    "            losses[k] = loss.item()\n",
    "        out[split] = losses.mean()\n",
    "    return out"
   ],
   "outputs": [],
   "execution_count": 6
  },
  {
   "cell_type": "markdown",
   "metadata": {
    "id": "ercCUt_d07FX"
   },
   "source": [
    "## Part 1: Language Modeling\n",
    "\n",
    "In this first part of the assignment, we will implement a baseline for code modeling.\n",
    "\n",
    "In the process of building this baseline, we will review 4 key ideas of sequence modeling that have become the backbone of modern language models such as ChatGPT:\n",
    "\n",
    "1. Framing language modeling as next token prediction, and next token prediction as multiclass logistic regression\n",
    "2. Embedding discrete tokens in continuous latent spaces (word embeddings)\n",
    "3. Use the attention mechanism to move beyond Markovian models for sequences (we of course pay for this greater expressivity with increased compute, which is made possible in part by using matrix multiplications on hardware accelerators like GPUs. Reducing the compute burden while maintaining the expressivity needed for good sequence modeling is an active area of research).\n",
    "4. Combining attention with deep learning in the Transformer architecture."
   ]
  },
  {
   "cell_type": "markdown",
   "metadata": {
    "id": "kh1kX0pw1bR2"
   },
   "source": [
    "### 1.1: Next token prediction as multiclass logistic regression\n",
    "\n",
    "Our first language model will simply be a lookup table. That is, given that we have token with value $v$, we will simply \"look up\" the logits that correspond to our prediction for the next token. This model is often known as a \"bigram model\" because it can be derived from the relative proportions of different bigrams (ordered pairs of tokens) occurring in a large text corpus.\n",
    "\n",
    "Let us be a bit more precise in our definition of the bigram model. Let's say that the total size of our vocabulary (the number of tokens we are using) is $V$. Let $A$ be a matrix in $\\mathbb{R}^{V \\times V}$, where each row $A_v$ corresponds to the logits for the prediction of which token would follow a token that has value $v$.\n",
    "Thus, we are modeling the distribution of the token following a token that has value $v$ as\n",
    "\\begin{align*}\n",
    "y_{t+1} \\mid y_t &= v \\sim \\mathrm{Cat}(\\mathbf{\\pi}) \\\\\n",
    "\\pi &=\\mathrm{softmax}(A_v)\n",
    "\\end{align*}"
   ]
  },
  {
   "cell_type": "markdown",
   "metadata": {
    "id": "5kNWISNQ9bbH"
   },
   "source": [
    "#### Question 1.1.1\n",
    "\n",
    "$\\mathbf{\\pi} \\in \\Delta_{V-1}$ is the vector of probabilities used to parameterize the categorical distribution for the next token prediction. Explain why we parameterize\n",
    "\\begin{equation*}\n",
    "  \\mathbf{\\pi} = \\mathrm{softmax}(A_v),\n",
    "\\end{equation*}\n",
    "and could not just use\n",
    "\\begin{equation*}\n",
    "  \\mathbf{\\pi} = A_v.\n",
    "\\end{equation*}"
   ]
  },
  {
   "cell_type": "markdown",
   "metadata": {
    "id": "nkHP8-T3zJ3D"
   },
   "source": [
    "---\n",
    "\n",
    "Because we want the probabilities of picking each class which the softmax function gives us.\n",
    "\n",
    "---"
   ]
  },
  {
   "cell_type": "markdown",
   "metadata": {
    "id": "DtAjylIF-SwQ"
   },
   "source": [
    "#### Question 1.1.2\n",
    "\n",
    "Discuss the relationship between the bigram model and contigency tables (discussed in Lecture 1)."
   ]
  },
  {
   "cell_type": "markdown",
   "metadata": {
    "id": "ehdR52pnzZHl"
   },
   "source": [
    "---\n",
    "\n",
    "The bigram model is related to the contingency tables discussed in Lecture 1 because the model forms a V x V table where each row corresponds to the transition probabilities from a given token to each of the other tokens. As these are conditional probabilities, we can multiply each entry by the sum of the entries in corresponding row (marginal probability) to get the joint probability.\n",
    "\n",
    "---"
   ]
  },
  {
   "cell_type": "markdown",
   "metadata": {
    "id": "y4AzpB8M-u9o"
   },
   "source": [
    "#### Question 1.1.3\n",
    "\n",
    "Say I have a string of three tokens with ids $(7, 3, 6)$. If I use the bigram model as a generative model for language, given this information, what is distribution of the fourth token? Write your answer in terms of the matrix $A$ we defined in 1.1"
   ]
  },
  {
   "cell_type": "markdown",
   "metadata": {
    "id": "fs4rWYjlzc7n"
   },
   "source": [
    "---\n",
    "\n",
    "\n",
    "Assuming there are $V$ possible tokens, we can write the distribution of the next token as the conditional distribution given the most recent token, 6 (Markov Property).\n",
    "\n",
    "Define each entry $A_{ij}$ as the logit for the prediction from token $i$ to token $j$. Therefore,\n",
    "\n",
    "\\begin{align*}\n",
    "\\pi &= \\frac{1}{\\sum_{j=1}^V \\exp(A_{6j})} \\bigg(\\exp(A_{61}), \\exp(A_{62}), \\ldots, \\exp(A_{6V}) \\bigg) \\\\\n",
    "\\end{align*}\n",
    "\n",
    "Where each entry in $\\pi$ is represents the probability of choosing token $j$ from token 6. Thus, the distribution of the fourth token is a categorical distribution where each probability is given by the respective entry in $\\pi$.\n",
    "\n",
    "\n",
    "---"
   ]
  },
  {
   "cell_type": "markdown",
   "metadata": {
    "id": "leN9gUxoEuhg"
   },
   "source": [
    "#### Question 1.1.4\n",
    "\n",
    "Remember back in Part 0 when we gave you the helper function `get_batch`? Run `get_batch` and look at the inputs `x` and the targets `y`. Explain any relation between them in the context of formulating language modeling in the context of next token prediction."
   ]
  },
  {
   "cell_type": "code",
   "metadata": {
    "id": "rzLupp2jExDS",
    "ExecuteTime": {
     "end_time": "2025-03-14T21:54:18.432603Z",
     "start_time": "2025-03-14T21:54:18.404266Z"
    }
   },
   "source": [
    "xb, yb = get_batch('train', 10, device, batch_size = 1)\n",
    "print(f\"the features have token ids {xb}\")\n",
    "print('\\n')\n",
    "print(f\"the targets have token ids {yb}\")"
   ],
   "outputs": [
    {
     "name": "stdout",
     "output_type": "stream",
     "text": [
      "the features have token ids tensor([[47, 53, 59, 57,  1, 50, 53, 60, 43,  6]], device='mps:0')\n",
      "\n",
      "\n",
      "the targets have token ids tensor([[53, 59, 57,  1, 50, 53, 60, 43,  6,  0]], device='mps:0')\n"
     ]
    }
   ],
   "execution_count": 7
  },
  {
   "cell_type": "markdown",
   "metadata": {
    "id": "5hMuPAmcuGBV"
   },
   "source": [
    "---\n",
    "\n",
    "The features are one token behind the targets, as the features will be used to train the models based on the values of the targets. In other words, the target tokens are the same sequence as the features tokens but shifted one token to the right. This is important in the context of formulating language modeling because the model will learn to predict the next token (target) based on the current token (feature).\n",
    "\n",
    "\n",
    "---"
   ]
  },
  {
   "cell_type": "markdown",
   "metadata": {
    "id": "UyYl8QQt_Uhb"
   },
   "source": [
    "#### Question 1.1.5\n",
    "\n",
    "Discuss the strengths and weaknesses of the bigram model as a generative model for language."
   ]
  },
  {
   "cell_type": "markdown",
   "metadata": {
    "id": "7t6Hc2dhzdzL"
   },
   "source": [
    "---\n",
    "\n",
    "Strengths:\n",
    "\n",
    "The bigram model is computationally inexpensive, easy to understand, and works well on small sequences to capture shorter dependencies between words.\n",
    "\n",
    "Weaknesses:\n",
    "\n",
    "The model's predictions are only based on the last token, which may not be relevant for language modeling since certain words and linguistic structures are based upon more than just one previous token. Furthermore, it is susceptible to data sparsity as the vocabulary increases, leading to potential computational challenges as the number of bigram pairs increases. Finally, the bigram model suffers with out-of-vocabulary words that are not used in training.\n",
    "\n",
    "---"
   ]
  },
  {
   "cell_type": "markdown",
   "metadata": {
    "id": "mjYO1XTM_8NE"
   },
   "source": [
    "#### Question 1.1.6\n",
    "\n",
    "Say I have a string $s$ of length $T$. Derive the formula for the negative log likelihood of $s$ under the bigram model in terms of the matrix of logits $A$. What would your answer be if the matrix of logits $A$ were all zeros? What would be the value of the negative log likelihood of $s$ under a model that always perfectly predicted the next token?"
   ]
  },
  {
   "cell_type": "markdown",
   "metadata": {
    "id": "QuzLfI4Pzes6"
   },
   "source": [
    "---\n",
    "\n",
    "Begin with the definition of the likelihood of $s$:\n",
    "\n",
    "\\begin{align*}\n",
    "P(s) &= \\prod_{t=t}^T P(S_t | S_{t-1}) \\\\\n",
    "\\end{align*}\n",
    "\n",
    "Where:\n",
    "\n",
    "\\begin{align*}\n",
    "P(S_t | S_{t-1}) &= \\frac{\\exp(A_{S_{t-1},S_t})}{\\sum_{j=1}^{V} \\exp(A_{S_{t-1},j})} \\\\\n",
    "\\end{align*}\n",
    "\n",
    "Thus:\n",
    "\n",
    "\\begin{align*}\n",
    "P(s) &= \\prod_{t=2}^T \\frac{\\exp(A_{S_{t-1},S_t})}{\\sum_{j=1}^{V} \\exp(A_{S_{t-1},j})} \\\\\n",
    "\\end{align*}\n",
    "\n",
    "However, since we are aiming for the negative log likelihood, we want:\n",
    "\n",
    "\\begin{align*}\n",
    "\\log{P(s)} &= \\sum_{t=2}^T \\log{\\frac{\\exp(A_{S_{t-1},S_t})}{\\sum_{j=1}^{V} \\exp(A_{S_{t-1},j})}} \\\\\n",
    "\\log{P(s)} &= \\sum_{t=2}^T \\bigg( A_{S_{t-1},S_t} - \\log{\\sum_{j=1}^{V} \\exp(A_{S_{t-1},j})} \\bigg) \\\\\n",
    "\\end{align*}\n",
    "\n",
    "Finally:\n",
    "\n",
    "\\begin{align*}\n",
    "- \\log{P(s)} &= - \\sum_{t=2}^T \\bigg( A_{S_{t-1},S_t} - \\log{\\sum_{j=1}^{V} \\exp(A_{S_{t-1},j})} \\bigg) \\\\\n",
    "\\end{align*}\n",
    "\n",
    "If the matrix of logits is all 0s, we would expect every A term in the above formula to be 0, and thus:\n",
    "\n",
    "\\begin{align*}\n",
    "-\\log{P(s)} &= -\\sum_{t=2}^T \\bigg( 0- \\log{\\sum_{j=1}^{V} \\exp(0)} \\bigg) \\\\\n",
    "-\\log{P(s)} &= -\\sum_{t=2}^T \\bigg( 0- \\log{\\sum_{j=1}^{V} 1} \\bigg) \\\\\n",
    "-\\log{P(s)} &= -\\sum_{t=2}^T \\bigg(-\\log{V} \\bigg) \\\\\n",
    "-\\log{P(s)} &= (T-1)\\log{V} \\\\\n",
    "\\end{align*}\n",
    "\n",
    "Thus, if the logits are all 0, then the negative log likelihood is proportional to the length of the sequence and the log of the vocabulary.\n",
    "\n",
    "However, if all predictions are perfect, then we know that the value of $A_{S_{t-1},S_t}$ must be significantly larger than all $A_{S_{t-1},j}$ for $j \\in [1,V]$. Thus, we surmise $\\sum_{j=1}^{V} \\exp(A_{S_{t-1},j}) \\approx \\exp(A_{S_{t-1},S_t})$. Using this result, we get:\n",
    "\n",
    "\\begin{align*}\n",
    "- \\log{P(s)} &= - \\sum_{t=2}^T \\bigg( A_{S_{t-1},S_t} - \\log{\\exp(A_{S_{t-1},S_t})} \\bigg) \\\\\n",
    "- \\log{P(s)} &= - \\sum_{t=2}^T \\bigg( A_{S_{t-1},S_t} - A_{S_{t-1},S_t} \\bigg) \\\\\n",
    "- \\log{P(s)} &= 0 \\\\\n",
    "\\end{align*}\n",
    "\n",
    "Implying that the negative log likelihood is 0 when the model perfectly predicts the next token.\n",
    "\n",
    "---"
   ]
  },
  {
   "cell_type": "markdown",
   "metadata": {
    "id": "rfzoXAATAfwn"
   },
   "source": [
    "#### Question 1.1.7: Implement the BigramLanguageModel\n",
    "\n",
    "Implement the bigram language model below.\n",
    "\n",
    "Your TODOs:\n",
    "  * if the `forward` method is provided a target, the loss should be the negative log likelihood of the target (given the context)\n",
    "  * `generate` should take in (batched) contexts and a number of new tokens to generate, and then generate text autoregressively from your model. Note that in autoregressive text generation, you iteratively append the tokens you generate to your context.\n"
   ]
  },
  {
   "cell_type": "code",
   "metadata": {
    "id": "_lJ1mR4K1aj_",
    "ExecuteTime": {
     "end_time": "2025-03-14T21:54:19.878514Z",
     "start_time": "2025-03-14T21:54:19.874416Z"
    }
   },
   "source": [
    "class BigramLanguageModel(nn.Module):\n",
    "\n",
    "    def __init__(self, vocab_size):\n",
    "        \"\"\"\n",
    "        Args:\n",
    "          vocab_size: size of the vocabulary (the number of tokens)\n",
    "        \"\"\"\n",
    "        super().__init__()\n",
    "        # each token directly reads off the logits for the next token from a lookup table\n",
    "        self.logits_table = nn.Embedding(vocab_size, vocab_size)\n",
    "        self.vocab_size = vocab_size\n",
    "\n",
    "    def forward(self, token_ids, targets=None):\n",
    "        \"\"\"\n",
    "        Args:\n",
    "          token_ids: Int(B, T), token ids that make up the context (batch has size B, each entry in the batch has length T)\n",
    "          targets: Int(B, T), token ids corresponding to the target of each context in token_ids\n",
    "\n",
    "        Returns:\n",
    "          logits: (B, T, V), logits[b,t, :] gives the length V vector of logits for the next token prediction in string b up to t tokens\n",
    "          loss: scalar, negative log likelihood of target given context\n",
    "        \"\"\"\n",
    "\n",
    "        # idx and targets are both (B,T) tensor of integers\n",
    "        logits = self.logits_table(token_ids) # (B,T,V)\n",
    "\n",
    "        if targets is None:\n",
    "            loss = None\n",
    "        else:\n",
    "            # TODO: what should the loss in this setting be?\n",
    "            loss = F.cross_entropy(logits.view(-1, self.vocab_size), targets.view(-1))\n",
    "\n",
    "        return logits, loss\n",
    "\n",
    "    @torch.no_grad()\n",
    "    def generate(self, token_ids, max_new_tokens=CONTEXT_WINDOW_SIZE):\n",
    "        \"\"\"\n",
    "        Args:\n",
    "          token_ids: (B, T) tensor of token ids to provide as context\n",
    "          max_new_tokens: int, maximum number of new tokens to generate\n",
    "\n",
    "        Returns:\n",
    "          (B, T+max_new_tokens) tensor of context with new tokens appended\n",
    "        \"\"\"\n",
    "        # TODO: your code below\n",
    "        B, T = token_ids.shape\n",
    "        new_token_ids = token_ids.clone()\n",
    "        for t in range(max_new_tokens):\n",
    "            logits = self.logits_table(new_token_ids)\n",
    "            new_token = torch.multinomial(F.softmax(logits[:, -1, :], dim=-1), 1)\n",
    "            new_token_ids = torch.cat([new_token_ids, new_token], dim=1)\n",
    "        return new_token_ids\n"
   ],
   "outputs": [],
   "execution_count": 8
  },
  {
   "cell_type": "markdown",
   "metadata": {
    "id": "2MaUUxb0EQY1"
   },
   "source": [
    "#### Question 1.1.8: Evaluating the initialization.\n",
    "\n",
    "Evaluate the loss of your untrained bigram model on a batch of data. Make sure the loss (negative log likelihood) is per-token (i.e. you may need to average over both sequence length and batch). Does this loss make sense in the context of your answer to Question 1.1.6? Discuss."
   ]
  },
  {
   "cell_type": "code",
   "metadata": {
    "id": "xgSEGqKGEiOn",
    "ExecuteTime": {
     "end_time": "2025-03-14T21:54:20.973396Z",
     "start_time": "2025-03-14T21:54:20.909801Z"
    }
   },
   "source": [
    "x,y = get_batch(\"train\", CONTEXT_WINDOW_SIZE, device)\n",
    "bigram_model = BigramLanguageModel(vocab_size)\n",
    "bm = bigram_model.to(device)\n",
    "\n",
    "# TODO: your code below\n",
    "logits, loss = bm(x, y)\n",
    "print(f\"loss: {loss:.2f}\")"
   ],
   "outputs": [
    {
     "name": "stdout",
     "output_type": "stream",
     "text": [
      "loss: 4.66\n"
     ]
    }
   ],
   "execution_count": 9
  },
  {
   "cell_type": "markdown",
   "metadata": {
    "id": "bS32m6egzg03"
   },
   "source": [
    "---\n",
    "\n",
    "From our answer in Q1.1.6, we know that a model with logits = 0 has a loss equivalent to $(T-1)\\log{V}$. Per token, this would be approximately equal to $\\log{V} = \\log{65} \\approx 4.17$. However, since we initialized the model with random logits, we would expect our loss to be similar to a model with initialized logits of 0 since the model has not received any training on the data itself. Furthermore, having a loss larger than the theoretical value where all the logits are 0 is not unexpected since the assumption of uniform prediction over the vocabulary may be better than a completely random assignment for the logits.\n",
    "\n",
    "---"
   ]
  },
  {
   "cell_type": "markdown",
   "metadata": {
    "id": "IzxRpcgKE4_5"
   },
   "source": [
    "#### Question 1.1.9: Training your bigram model\n",
    "\n",
    "Train your bigram model for `SMALL_ITERS` iterations. Plot and interpret the loss curve.\n",
    "\n",
    "Our train loss gets down to around 2.5 after 1000 iterations."
   ]
  },
  {
   "cell_type": "code",
   "metadata": {
    "id": "E2r390zbyz3O",
    "ExecuteTime": {
     "end_time": "2025-03-14T21:54:25.043210Z",
     "start_time": "2025-03-14T21:54:22.282522Z"
    }
   },
   "source": [
    "# create a PyTorch optimizer\n",
    "learning_rate = 1e-2\n",
    "optimizer = torch.optim.AdamW(bigram_model.parameters(), lr=learning_rate)\n",
    "\n",
    "eval_interval = 200\n",
    "\n",
    "loss_list = []\n",
    "\n",
    "for it in tqdm(range(SMALL_ITERS)):\n",
    "\n",
    "    # every once in a while evaluate the loss on train and val sets\n",
    "    if it % eval_interval == 0 or it == SMALL_ITERS - 1:\n",
    "        print(f\"iteration {it}\")\n",
    "        losses = estimate_loss(bm, EVAL_ITERS, CONTEXT_WINDOW_SIZE, device)\n",
    "        print(f\"step {it}: train loss {losses['train']:.4f}, val loss {losses['val']:.4f}\")\n",
    "\n",
    "    # sample a batch of data\n",
    "    xb, yb = get_batch('train', CONTEXT_WINDOW_SIZE, device)\n",
    "\n",
    "    # evaluate the loss\n",
    "    logits, loss = bm(xb, yb)\n",
    "    loss_list.append(loss.detach().item())\n",
    "    optimizer.zero_grad(set_to_none=True)\n",
    "    loss.backward()\n",
    "    optimizer.step()"
   ],
   "outputs": [
    {
     "name": "stderr",
     "output_type": "stream",
     "text": [
      "  0%|          | 0/1000 [00:00<?, ?it/s]"
     ]
    },
    {
     "name": "stdout",
     "output_type": "stream",
     "text": [
      "iteration 0\n",
      "step 0: train loss 4.6454, val loss 4.6532\n"
     ]
    },
    {
     "name": "stderr",
     "output_type": "stream",
     "text": [
      " 20%|██        | 201/1000 [00:00<00:02, 328.48it/s]"
     ]
    },
    {
     "name": "stdout",
     "output_type": "stream",
     "text": [
      "iteration 200\n",
      "step 200: train loss 2.8995, val loss 2.9157\n"
     ]
    },
    {
     "name": "stderr",
     "output_type": "stream",
     "text": [
      " 42%|████▎     | 425/1000 [00:01<00:01, 408.90it/s]"
     ]
    },
    {
     "name": "stdout",
     "output_type": "stream",
     "text": [
      "iteration 400\n",
      "step 400: train loss 2.5581, val loss 2.5770\n"
     ]
    },
    {
     "name": "stderr",
     "output_type": "stream",
     "text": [
      " 59%|█████▉    | 591/1000 [00:01<00:00, 574.95it/s]"
     ]
    },
    {
     "name": "stdout",
     "output_type": "stream",
     "text": [
      "iteration 600\n",
      "step 600: train loss 2.4962, val loss 2.5211\n"
     ]
    },
    {
     "name": "stderr",
     "output_type": "stream",
     "text": [
      " 80%|████████  | 801/1000 [00:01<00:00, 423.09it/s]"
     ]
    },
    {
     "name": "stdout",
     "output_type": "stream",
     "text": [
      "iteration 800\n",
      "step 800: train loss 2.4797, val loss 2.5081\n"
     ]
    },
    {
     "name": "stderr",
     "output_type": "stream",
     "text": [
      "100%|██████████| 1000/1000 [00:02<00:00, 436.61it/s]"
     ]
    },
    {
     "name": "stdout",
     "output_type": "stream",
     "text": [
      "iteration 999\n",
      "step 999: train loss 2.4728, val loss 2.5016\n"
     ]
    },
    {
     "name": "stderr",
     "output_type": "stream",
     "text": [
      "\n"
     ]
    }
   ],
   "execution_count": 10
  },
  {
   "cell_type": "code",
   "metadata": {
    "ExecuteTime": {
     "end_time": "2025-03-14T21:54:25.113563Z",
     "start_time": "2025-03-14T21:54:25.045748Z"
    }
   },
   "source": [
    "plt.plot(loss_list)\n",
    "plt.xlabel(\"iteration\")\n",
    "plt.ylabel(\"loss\")\n",
    "plt.title(\"Training loss\")\n",
    "plt.show()"
   ],
   "outputs": [
    {
     "data": {
      "text/plain": [
       "<Figure size 640x480 with 1 Axes>"
      ],
      "image/png": "[encoded data removed]"
     },
     "metadata": {},
     "output_type": "display_data"
    }
   ],
   "execution_count": 11
  },
  {
   "cell_type": "markdown",
   "metadata": {
    "id": "Tj28W2w_ziDA"
   },
   "source": [
    "---\n",
    "\n",
    "From the plot above,we can see the loss curve is monotonically decreasing with iterations. However, the rate of decrease slows considerably by the 400-iteration mark. The loss begins around 4.7 and decreases to a value of approximately 2.5, which aligns with adjacent results.\n",
    "\n",
    "---"
   ]
  },
  {
   "cell_type": "markdown",
   "metadata": {
    "id": "nUP9q72s9jSC"
   },
   "source": [
    "Note that these models can take up a lot of memory on the GPU. As you go through this assignment, you may want to free the models after you train them using code along the lines of\n",
    "```\n",
    "model.to('cpu')\n",
    "torch.cuda.empty_cache()\n",
    "```"
   ]
  },
  {
   "cell_type": "markdown",
   "metadata": {
    "id": "slaOmWgFLdMk"
   },
   "source": [
    "### 1.2: Token Embeddings: going from discrete tokens to continuous latent spaces\n",
    "\n",
    "In the look up table formulation of the bigram model, we are modelling the logits of the next token distribution independently for each token, even if two tokens are extremely similar to each other.\n",
    "One way around this problem is to learn an embedding of the discrete tokens into $\\mathbb{R}^{D}$, and then to run multi-class logistic regression on top of this learned embedding.\n",
    "\n",
    "More precisely, if we have a vocabulary of tokens of size $V$ that we choose to embed in a Euclidean embedding space of dimension $D$, we can parameterize the distribution of the next token if the current token is $v$ according to\n",
    "\\begin{align*}\n",
    "  \\mathrm{Cat}\\Big( \\mathrm{softmax} (\\beta X_v) \\Big),\n",
    "\\end{align*}\n",
    "where $X_v \\in \\mathbb{R}^{D}$ is the learned embedding of token $v$ into $\\mathbb{R}^{D}$ and $\\beta \\in \\mathbb{R}^{V \\times D}$. Notice that if $X$ were a fixed design matrix this formulation would be equivalent to multi-class logistic regression. However, both $X$ and $\\beta$ are learnable parameters."
   ]
  },
  {
   "cell_type": "markdown",
   "metadata": {
    "id": "kX6BRU07O7Cr"
   },
   "source": [
    "#### Question 1.2.1: Implement BigramWithWordEmbeddingsLM\n",
    "\n",
    "Implement a bigram languge model that uses a linear readout from a low dimensional Euclidean embedding of each token to parameterize the logits of the next token distribution, instead of parameterizing the logits of the next token distribution directly. It should have almost the same implementation as `BigramLanguageModel` from Question 1.1.6, except `init` should also take in an `embed_size`, and the `forward` method will need to be modified."
   ]
  },
  {
   "cell_type": "code",
   "metadata": {
    "id": "brU5zILoQASX",
    "ExecuteTime": {
     "end_time": "2025-03-14T21:54:27.320399Z",
     "start_time": "2025-03-14T21:54:27.317649Z"
    }
   },
   "source": [
    "class BigramWithWordEmbeddingsLM(nn.Module):\n",
    "\n",
    "    def __init__(self, vocab_size, embed_size=32):\n",
    "      \"\"\"\n",
    "      Args:\n",
    "        vocab_size: int, size of the vocabulary\n",
    "        embed_size: int, dimension of the word embedding (D)\n",
    "      \"\"\"\n",
    "      super().__init__()\n",
    "      #TODO, your code here\n",
    "      self.vocab_size = vocab_size\n",
    "      self.embed_size = embed_size\n",
    "      self.logits_table = nn.Linear(embed_size, vocab_size)\n",
    "      self.word_embeddings = nn.Embedding(vocab_size, embed_size)\n",
    "      pass\n",
    "\n",
    "    def forward(self, token_ids, targets=None):\n",
    "        \"\"\"\n",
    "        Args:\n",
    "          token_ids: (B, T) token ids that make up the context (batch has size B, each entry in the batch has length T)\n",
    "          targets: (B, T) token ids corresponding to the target of each context in token_ids\n",
    "\n",
    "        Returns:\n",
    "          logits: (B, T, V), logits[b,t, :] gives the length V vector of logits for the next token prediction in string b up to t tokens\n",
    "          loss: scalar, negative log likelihood of target given context\n",
    "        \"\"\"\n",
    "        # TODO, your code here\n",
    "\n",
    "        logits = None\n",
    "        loss = None\n",
    "\n",
    "        logits = self.logits_table(self.word_embeddings(token_ids))\n",
    "        if targets is not None:\n",
    "            loss = F.cross_entropy(logits.view(-1, self.vocab_size), targets.view(-1))\n",
    "\n",
    "        return logits, loss\n",
    "\n",
    "    @torch.no_grad()\n",
    "    def generate(self, token_ids, max_new_tokens=CONTEXT_WINDOW_SIZE):\n",
    "        \"\"\"\n",
    "        Args:\n",
    "          token_ids: (B, T) tensor of token ids to provide as context\n",
    "          max_new_tokens: int, maximum number of new tokens to generate\n",
    "\n",
    "        Returns:\n",
    "          (B, T+max_new_tokens) tensor of context with new tokens appended\n",
    "        \"\"\"\n",
    "        #TODO\n",
    "        # your code below\n",
    "\n",
    "        B, T = token_ids.shape\n",
    "        new_token_ids = token_ids.clone()\n",
    "        for t in range(max_new_tokens):\n",
    "            logits = self.logits_table(self.word_embeddings(new_token_ids))\n",
    "            new_token = torch.multinomial(F.softmax(logits[:, -1, :], dim=-1), 1)\n",
    "            new_token_ids = torch.cat([new_token_ids, new_token], dim=1)\n",
    "        return new_token_ids\n"
   ],
   "outputs": [],
   "execution_count": 12
  },
  {
   "cell_type": "markdown",
   "metadata": {
    "id": "5JJCQ3vWuX6y"
   },
   "source": [
    "#### Question 1.2.2: Training your bigram model with word embeddings\n",
    "\n",
    "Train your bigram model with word embeddings for `SMALL_ITERS` iterations. Plot and interpret the loss curve. How does the final loss compare to that of the bigram model without embeddings? Why do you think this is?\n",
    "\n",
    "Our train loss gets down to around 2.5 after 1000 iterations."
   ]
  },
  {
   "cell_type": "code",
   "metadata": {
    "id": "kZpsE59qug1B",
    "ExecuteTime": {
     "end_time": "2025-03-14T21:54:31.107968Z",
     "start_time": "2025-03-14T21:54:28.205909Z"
    }
   },
   "source": [
    "bigram_model_embed = BigramWithWordEmbeddingsLM(vocab_size)\n",
    "bm_e = bigram_model_embed.to(device)\n",
    "\n",
    "learning_rate = 1e-2\n",
    "optimizer = torch.optim.AdamW(bigram_model_embed.parameters(), lr=learning_rate)\n",
    "\n",
    "eval_interval = 200\n",
    "\n",
    "loss_list = []\n",
    "\n",
    "for it in tqdm(range(SMALL_ITERS)):\n",
    "\n",
    "    # every once in a while evaluate the loss on train and val sets\n",
    "    if it % eval_interval == 0 or it == SMALL_ITERS - 1:\n",
    "        print(f\"iteration {it}\")\n",
    "        losses = estimate_loss(bm_e, EVAL_ITERS, CONTEXT_WINDOW_SIZE, device)\n",
    "        print(f\"step {it}: train loss {losses['train']:.4f}, val loss {losses['val']:.4f}\")\n",
    "\n",
    "    # sample a batch of data\n",
    "    xb, yb = get_batch('train', CONTEXT_WINDOW_SIZE, device)\n",
    "\n",
    "    # evaluate the loss\n",
    "    logits, loss = bm_e(xb, yb)\n",
    "    loss_list.append(loss.detach().item())\n",
    "    optimizer.zero_grad(set_to_none=True)\n",
    "    loss.backward()\n",
    "    optimizer.step()"
   ],
   "outputs": [
    {
     "name": "stderr",
     "output_type": "stream",
     "text": [
      "  0%|          | 0/1000 [00:00<?, ?it/s]"
     ]
    },
    {
     "name": "stdout",
     "output_type": "stream",
     "text": [
      "iteration 0\n"
     ]
    },
    {
     "name": "stderr",
     "output_type": "stream",
     "text": [
      "  5%|▌         | 54/1000 [00:00<00:04, 192.67it/s]"
     ]
    },
    {
     "name": "stdout",
     "output_type": "stream",
     "text": [
      "step 0: train loss 4.3316, val loss 4.3335\n"
     ]
    },
    {
     "name": "stderr",
     "output_type": "stream",
     "text": [
      " 22%|██▏       | 224/1000 [00:00<00:02, 303.75it/s]"
     ]
    },
    {
     "name": "stdout",
     "output_type": "stream",
     "text": [
      "iteration 200\n",
      "step 200: train loss 2.4721, val loss 2.4930\n"
     ]
    },
    {
     "name": "stderr",
     "output_type": "stream",
     "text": [
      " 38%|███▊      | 375/1000 [00:01<00:01, 376.69it/s]"
     ]
    },
    {
     "name": "stdout",
     "output_type": "stream",
     "text": [
      "iteration 400\n",
      "step 400: train loss 2.4644, val loss 2.4947\n"
     ]
    },
    {
     "name": "stderr",
     "output_type": "stream",
     "text": [
      " 58%|█████▊    | 582/1000 [00:01<00:00, 432.35it/s]"
     ]
    },
    {
     "name": "stdout",
     "output_type": "stream",
     "text": [
      "iteration 600\n",
      "step 600: train loss 2.4620, val loss 2.4883\n"
     ]
    },
    {
     "name": "stderr",
     "output_type": "stream",
     "text": [
      " 80%|████████  | 801/1000 [00:02<00:00, 339.08it/s]"
     ]
    },
    {
     "name": "stdout",
     "output_type": "stream",
     "text": [
      "iteration 800\n",
      "step 800: train loss 2.4595, val loss 2.4935\n"
     ]
    },
    {
     "name": "stderr",
     "output_type": "stream",
     "text": [
      "100%|██████████| 1000/1000 [00:02<00:00, 345.25it/s]"
     ]
    },
    {
     "name": "stdout",
     "output_type": "stream",
     "text": [
      "iteration 999\n",
      "step 999: train loss 2.4584, val loss 2.4927\n"
     ]
    },
    {
     "name": "stderr",
     "output_type": "stream",
     "text": [
      "\n"
     ]
    }
   ],
   "execution_count": 13
  },
  {
   "metadata": {
    "ExecuteTime": {
     "end_time": "2025-03-14T21:54:36.270500Z",
     "start_time": "2025-03-14T21:54:36.224095Z"
    }
   },
   "cell_type": "code",
   "source": [
    "plt.plot(loss_list)\n",
    "plt.xlabel(\"iteration\")\n",
    "plt.ylabel(\"loss\")\n",
    "plt.title(\"Training loss\")\n",
    "plt.show()"
   ],
   "outputs": [
    {
     "data": {
      "text/plain": [
       "<Figure size 640x480 with 1 Axes>"
      ],
      "image/png": "[encoded data removed]"
     },
     "metadata": {},
     "output_type": "display_data"
    }
   ],
   "execution_count": 15
  },
  {
   "cell_type": "markdown",
   "metadata": {
    "id": "WBgcFIj5u2Ml"
   },
   "source": [
    "---\n",
    "\n",
    "From the plot above, we can see the model begins at a similar loss value and ends at a very similar loss value to the bigram model without embeddings. However, it reaches this loss value much quicker (approximately 100 iterations).\n",
    "\n",
    "We note that the loss values are similar because of they are fundamentally performing the same task. They both use the current token to predict the next token (Markov property). The only difference between these models is that one will use a lookup table of size $V \\times V$ whereas the other will use a $V \\times D$ embedding matrix and a $D \\times V$ projection matrix. Since they both utilize similar methods to predict the next token, the overall loss result is expected to be similar.\n",
    "\n",
    "---"
   ]
  },
  {
   "cell_type": "markdown",
   "metadata": {
    "id": "ypOE6LnnGdyu"
   },
   "source": [
    "### 1.3: Attention: Relaxing Markovian assumptions to transmit information across the sequence length\n",
    "\n",
    "A major problem with the bigram models of Sections 1.1 and 1.2 was that they were Markovian: the distribution of the next token was determined entirely by the current token! The attention mechanism provides a way to extract information between the previous tokens in the context to provide a better parameterization for the distribution of the next token."
   ]
  },
  {
   "cell_type": "markdown",
   "metadata": {
    "id": "F-XHeM1VRO6H"
   },
   "source": [
    "#### Question 1.3.1: Averaging over word embeddings\n",
    "\n",
    "One simple way to pool information would simply be to average the embeddings!\n",
    "\n",
    "Your TODO: Add comments to the the code snippet below. Write a description here explaining why the code is mathematically equivalent to averaging the embeddings of the previous tokens and the current token."
   ]
  },
  {
   "cell_type": "markdown",
   "metadata": {
    "id": "S-8W0Xx_zsst"
   },
   "source": [
    "---\n",
    "\n",
    "The code is mathematically equivalent to averaging the embeddings of the previous and current tokens because of softmax and the random initialization of 0 for the attn_weights. Since the softmax function is applied to each row of the attn_weights, we know that the row dimension will be normalized based on number of embeddings that have been seen. Thus, multiplying this by the word embeddings creates a weighted sum of each of the embeddings weighted the total number of embeddings that have come before it (and including it). This can be seen in the final output, as the first two entries are unchanged, but the rest of the values are weighted sums of the values before and up to the current embedding.\n",
    "\n",
    "---"
   ]
  },
  {
   "cell_type": "code",
   "metadata": {
    "id": "gCaS07DtGgCr",
    "ExecuteTime": {
     "end_time": "2025-03-14T21:54:43.093052Z",
     "start_time": "2025-03-14T21:54:43.088743Z"
    }
   },
   "source": [
    "# average word embedding via matrix multiply and softmax\n",
    "small_batch_size = 4              # B\n",
    "small_context_window_size = 8     # T\n",
    "small_embed_size = 2              # D\n",
    "\n",
    "# make \"synthetic\" word embeddings (for illustration purposes only)\n",
    "X = torch.randn(small_batch_size, small_context_window_size, small_embed_size)\n",
    "\n",
    "# X is a sample small batch of size B. Each sample has a context window of size T and each word is represented by a D-dimensional embedding.\n",
    "print(X.shape)\n",
    "\n",
    "# tril is a lower triangular matrix of size T x T. This is the attention mask that ensures the model only looks at things we've seen already.\n",
    "tril = torch.tril(torch.ones(small_context_window_size, small_context_window_size))\n",
    "\n",
    "# attn_weights is a matrix of size T x T. This is the attention weights that will be used to compute the weighted average of the embeddings.\n",
    "attn_weights = torch.zeros((small_context_window_size, small_context_window_size))\n",
    "\n",
    "# fill in the attention weights using the lower triangular mask. For values we haven't seen yet, we set the attention weight to -inf which will go to 0 after softmax.\n",
    "attn_weights = attn_weights.masked_fill(tril == 0, float('-inf'))\n",
    "\n",
    "# softmax the attention weights. Weights will sum to 1 with values evenly distributed among the words we've seen.\n",
    "attn_weights = F.softmax(attn_weights, dim=-1)\n",
    "\n",
    "# Multiplying the attention weights by the embeddings will give us the weighted average of the embeddings.\n",
    "avg_embeddings = attn_weights @ X\n",
    "\n",
    "print(X[0])\n",
    "print(\"\")\n",
    "print(avg_embeddings[0])"
   ],
   "outputs": [
    {
     "name": "stdout",
     "output_type": "stream",
     "text": [
      "torch.Size([4, 8, 2])\n",
      "tensor([[ 0.5318, -0.4167],\n",
      "        [-0.4982,  0.0156],\n",
      "        [ 1.1415, -0.1181],\n",
      "        [ 0.2128,  2.3295],\n",
      "        [ 0.4573,  0.7488],\n",
      "        [ 0.3794, -0.2672],\n",
      "        [-1.2237,  2.7066],\n",
      "        [ 0.5399, -0.5297]])\n",
      "\n",
      "tensor([[ 0.5318, -0.4167],\n",
      "        [ 0.0168, -0.2006],\n",
      "        [ 0.3917, -0.1731],\n",
      "        [ 0.3470,  0.4525],\n",
      "        [ 0.3690,  0.5118],\n",
      "        [ 0.3708,  0.3820],\n",
      "        [ 0.1430,  0.7140],\n",
      "        [ 0.1926,  0.5586]])\n"
     ]
    }
   ],
   "execution_count": 17
  },
  {
   "cell_type": "markdown",
   "metadata": {
    "id": "oIDlnRDGXaie"
   },
   "source": [
    "#### 1.3.2: Single-headed scaled $(Q,K,V)$-attention\n",
    "\n",
    "A more sophisticated approach than simply averaging over previous word embeddings is single-headed (Query, Key, Value) scaled attention.\n",
    "That is, we now summarize the information contained in a length $T$ sequence of tokens that have been embeded into $X \\in \\mathbb{R}^{T \\times D}$ according to\n",
    "\\begin{equation}\n",
    "   \\mathrm{SoftmaxAcrossRows} \\Bigg( \\frac{\\mathrm{CausalMask}\\Big(X U_q^\\top U_k X^\\top \\Big)}{\\sqrt{K}} \\Bigg) \\Big( X V^\\top \\Big),\n",
    "\\end{equation}\n",
    "where $U_q, U_k \\in \\mathbb{R}^{K \\times D}$, $V \\in \\mathbb{R}^{D \\times D}$, and $K$ is the \"head size\".\n",
    "\n"
   ]
  },
  {
   "cell_type": "markdown",
   "metadata": {
    "id": "E84BzzxPdwUd"
   },
   "source": [
    "##### Question 1.3.2.1\n",
    "\n",
    "In the limiting case where $U_q$ and $U_k$ are all zeros, and $V = I_{D}$, what does $(U_q, U_k, V)$ attention simplify to?"
   ]
  },
  {
   "cell_type": "markdown",
   "metadata": {
    "id": "AmFw8z5Dz3T6"
   },
   "source": [
    "---\n",
    "In the following equation,\n",
    "\n",
    "\\begin{equation}\n",
    "   \\mathrm{SoftmaxAcrossRows} \\Bigg( \\frac{\\mathrm{CausalMask}\\Big(X U_q^\\top U_k X^\\top \\Big)}{\\sqrt{K}} \\Bigg) \\Big( X V^\\top \\Big),\n",
    "\\end{equation}\n",
    "\n",
    "If $U_q$ and $U_k$ are all zeros, then:\n",
    "\n",
    "\\begin{equation}\n",
    "   \\mathrm{SoftmaxAcrossRows} \\Bigg( \\frac{0}{\\sqrt{K}} \\Bigg) \\Big( X V^\\top \\Big),\n",
    "\\end{equation}\n",
    "\n",
    "Which is equivalent to\n",
    "\n",
    "\\begin{equation}\n",
    "   \\mathrm{SoftmaxAcrossRows} \\Big( 0 \\Big) \\Big( X V^\\top \\Big),\n",
    "\\end{equation}\n",
    "\n",
    "If $V = I_{D}$, then\n",
    "\n",
    "\\begin{equation}\n",
    "   \\mathrm{SoftmaxAcrossRows} \\Big( 0 \\Big) \\Big( X\\Big),\n",
    "\\end{equation}\n",
    "\n",
    "But from Q1.3.1, we know that the softmax of the 0 matrix is the attn_weights from Q1.3.1, and thus we get the same thing we had before.\n",
    "\n",
    "---"
   ]
  },
  {
   "cell_type": "markdown",
   "metadata": {
    "id": "jeKfSrREhgdH"
   },
   "source": [
    "##### Question 1.3.2.2: Implement single-headed scaled $(U_q,U_k,V)$-attention.\n",
    "\n",
    "Complete the below code so the `forward` method returns single-headed scaled $(U_q,U_k,V)$-attention."
   ]
  },
  {
   "cell_type": "code",
   "metadata": {
    "id": "O_eBPiT-Yy0q",
    "ExecuteTime": {
     "end_time": "2025-03-14T21:54:45.309958Z",
     "start_time": "2025-03-14T21:54:45.306486Z"
    }
   },
   "source": [
    "class Head(nn.Module):\n",
    "    \"\"\" one head of self-attention \"\"\"\n",
    "\n",
    "    def __init__(self, head_size, context_window_size, embed_size=384):\n",
    "        \"\"\"\n",
    "        Args:\n",
    "          head_size: int, size of the head embedding dimension (K)\n",
    "          context_window_size: int, number of tokens considered in the past for attention (T)\n",
    "          embed_size: int, size of the token embedding dimension (D)\n",
    "        \"\"\"\n",
    "        super().__init__()\n",
    "        self.head_size = head_size\n",
    "        self.key = nn.Linear(embed_size, head_size, bias=False)\n",
    "        self.query = nn.Linear(embed_size, head_size, bias=False)\n",
    "        self.value = nn.Linear(embed_size, embed_size, bias=False)\n",
    "\n",
    "        # not a param of the model, so registered as a buffer\n",
    "        self.register_buffer('tril', torch.tril(\n",
    "            torch.ones(context_window_size, context_window_size)))\n",
    "\n",
    "    def forward(self, x):\n",
    "        \"\"\"\n",
    "        Args:\n",
    "          x: (B,T,D) tensor of token embeddings\n",
    "\n",
    "        Returns:\n",
    "          (B,T,D) tensor of attention-weighted token embeddings\n",
    "        \"\"\"\n",
    "        # TODO: your code here\n",
    "        B, T, _ = x.shape\n",
    "        K = self.head_size\n",
    "        key = self.key(x)\n",
    "        query = self.query(x)\n",
    "        value = self.value(x)\n",
    "\n",
    "        attn_scores = query@key.transpose(-2, -1)\n",
    "        causal_mask = self.tril[:T, :T][None, :, :]\n",
    "        attn_scores = attn_scores.masked_fill(causal_mask == 0, float('-inf'))\n",
    "        attn_weights = torch.softmax(attn_scores / (K ** 0.5), dim=-1)\n",
    "        return attn_weights@value"
   ],
   "outputs": [],
   "execution_count": 18
  },
  {
   "cell_type": "markdown",
   "metadata": {
    "id": "3RqGrCB21qUV"
   },
   "source": [
    "##### Question 1.3.2.3: Implement a single-headed attention language model\n",
    "\n",
    "Complete the code below. Note that because the transformer has no idea where tokens are occuring in space, we have also added in position embeddings."
   ]
  },
  {
   "cell_type": "code",
   "metadata": {
    "id": "REr3aWnS1xJL",
    "ExecuteTime": {
     "end_time": "2025-03-14T21:54:46.555999Z",
     "start_time": "2025-03-14T21:54:46.552030Z"
    }
   },
   "source": [
    "class SingleHeadedAttentionLM(nn.Module):\n",
    "\n",
    "    def __init__(self, vocab_size, context_window_size, head_size, embed_size=384):\n",
    "      \"\"\"\n",
    "      Args:\n",
    "        vocab_size: int, size of the vocabulary (V)\n",
    "        context_window_size: int, number of tokens considered in the past for attention (T)\n",
    "        head_size: int, size of the head embedding dimension (K)\n",
    "        embed_size: int, size of the token embedding dimension (D)\n",
    "      \"\"\"\n",
    "      super().__init__()\n",
    "      self.vocab_size = vocab_size\n",
    "      self.token_embedding_table = nn.Embedding(vocab_size, embed_size)\n",
    "      self.position_embedding_table = nn.Embedding(context_window_size, embed_size)\n",
    "      self.context_window_size = context_window_size\n",
    "\n",
    "      # TODO: your code below\n",
    "      self.atten_head = Head(head_size, context_window_size, embed_size)\n",
    "      self.lm_head = nn.Linear(embed_size, vocab_size)\n",
    "\n",
    "    def forward(self, token_ids, targets=None):\n",
    "        \"\"\"\n",
    "        Args:\n",
    "          token_ids: (B, T) token ids that make up the context (batch has size B, each entry\n",
    "                     in the batch has length T)\n",
    "          targets: (B, T) token ids corresponding to the target of each context in token_ids\n",
    "\n",
    "        Returns:\n",
    "          logits: (B, T, V) logits[b,t] gives the length V vector of logits for the next token\n",
    "                   prediction in string b up to t tokens\n",
    "          loss: scalar, negative log likelihood of target given context\n",
    "        \"\"\"\n",
    "        B, T = token_ids.shape # (batch size, length)\n",
    "        tok_emb = self.token_embedding_table(token_ids) # (B,T,D)\n",
    "        pos_emb = self.position_embedding_table(torch.arange(T, device=device)) # (T,D)\n",
    "        x = tok_emb + pos_emb # (B,T,D)\n",
    "        x = self.atten_head(x) # (B,T,D)\n",
    "        logits = self.lm_head(x) # (B,T,V)\n",
    "\n",
    "        # TODO: your code here\n",
    "        logits = self.lm_head(x)\n",
    "        loss = None\n",
    "        if targets is not None:\n",
    "            loss = F.cross_entropy(logits.view(-1, self.vocab_size), targets.view(-1))\n",
    "\n",
    "        return logits, loss\n",
    "\n",
    "    @torch.no_grad()\n",
    "    def generate(self, token_ids, max_new_tokens):\n",
    "        \"\"\"\n",
    "        Args:\n",
    "          token_ids: (B, T) tensor of token ids to provide as context\n",
    "          max_new_tokens: int, maximum number of new tokens to generate\n",
    "\n",
    "        Returns:\n",
    "          (B, T+max_new_tokens) tensor of context with new tokens appended\n",
    "        \"\"\"\n",
    "        #TODO\n",
    "        # your code below\n",
    "        B, T = token_ids.shape\n",
    "        new_token_ids = token_ids.clone()\n",
    "        for t in range(max_new_tokens):\n",
    "            logits = self(new_token_ids)\n",
    "            new_token = torch.multinomial(F.softmax(logits[:, -1, :], dim=-1), 1)\n",
    "            new_token_ids = torch.cat([new_token_ids, new_token], dim=1)\n",
    "        return new_token_ids"
   ],
   "outputs": [],
   "execution_count": 19
  },
  {
   "cell_type": "markdown",
   "metadata": {
    "id": "End-pUCa4RXe"
   },
   "source": [
    "Train your new `SingleHeadedAttentionLM` for `SMALL_ITERS` training iterations and plot the loss curve.\n",
    "The `head_size` shouldn't matter too much, we just use the `embedding_size`.\n",
    "Do you seen an improvement compared to your `BigramLanguageModel`? Discuss.\n",
    "\n",
    "Note: you may want to modify the learning rate. Training for `SMALL_ITERS` with a learning rate of `6e-4`, we can get to a train loss of around 2.3."
   ]
  },
  {
   "cell_type": "code",
   "metadata": {
    "id": "070G_l0E0uG9",
    "ExecuteTime": {
     "end_time": "2025-03-14T21:55:02.606114Z",
     "start_time": "2025-03-14T21:54:47.876530Z"
    }
   },
   "source": [
    "embed_size = 384\n",
    "sha_model = SingleHeadedAttentionLM(vocab_size, CONTEXT_WINDOW_SIZE, embed_size, embed_size)\n",
    "sham = sha_model.to(device)\n",
    "learning_rate = 6e-4\n",
    "optimizer = torch.optim.AdamW(sha_model.parameters(), lr=learning_rate)\n",
    "\n",
    "eval_interval = 200\n",
    "\n",
    "loss_list = []\n",
    "\n",
    "for it in tqdm(range(SMALL_ITERS)):\n",
    "\n",
    "    # every once in a while evaluate the loss on train and val sets\n",
    "    if it % eval_interval == 0 or it == SMALL_ITERS - 1:\n",
    "        print(f\"iteration {it}\")\n",
    "        losses = estimate_loss(sham, EVAL_ITERS, CONTEXT_WINDOW_SIZE, device)\n",
    "        print(\n",
    "            f\"step {it}: train loss {losses['train']:.4f}, val loss {losses['val']:.4f}\"\n",
    "        )\n",
    "\n",
    "    # sample a batch of data\n",
    "    xb, yb = get_batch(\"train\", CONTEXT_WINDOW_SIZE, device)\n",
    "\n",
    "    # evaluate the loss\n",
    "    logits, loss = sham(xb, yb)\n",
    "    loss_list.append(loss.detach().item())\n",
    "    optimizer.zero_grad(set_to_none=True)\n",
    "    loss.backward()\n",
    "    optimizer.step()"
   ],
   "outputs": [
    {
     "name": "stderr",
     "output_type": "stream",
     "text": [
      "  0%|          | 0/1000 [00:00<?, ?it/s]"
     ]
    },
    {
     "name": "stdout",
     "output_type": "stream",
     "text": [
      "iteration 0\n"
     ]
    },
    {
     "name": "stderr",
     "output_type": "stream",
     "text": [
      "  1%|          | 12/1000 [00:00<01:00, 16.26it/s]"
     ]
    },
    {
     "name": "stdout",
     "output_type": "stream",
     "text": [
      "step 0: train loss 4.1927, val loss 4.1915\n"
     ]
    },
    {
     "name": "stderr",
     "output_type": "stream",
     "text": [
      " 19%|█▉        | 191/1000 [00:02<00:08, 99.40it/s]"
     ]
    },
    {
     "name": "stdout",
     "output_type": "stream",
     "text": [
      "iteration 200\n"
     ]
    },
    {
     "name": "stderr",
     "output_type": "stream",
     "text": [
      " 21%|██        | 212/1000 [00:03<00:20, 39.35it/s]"
     ]
    },
    {
     "name": "stdout",
     "output_type": "stream",
     "text": [
      "step 200: train loss 2.5919, val loss 2.5996\n"
     ]
    },
    {
     "name": "stderr",
     "output_type": "stream",
     "text": [
      " 39%|███▉      | 392/1000 [00:05<00:06, 99.38it/s]"
     ]
    },
    {
     "name": "stdout",
     "output_type": "stream",
     "text": [
      "iteration 400\n"
     ]
    },
    {
     "name": "stderr",
     "output_type": "stream",
     "text": [
      " 41%|████▏     | 413/1000 [00:06<00:14, 40.08it/s]"
     ]
    },
    {
     "name": "stdout",
     "output_type": "stream",
     "text": [
      "step 400: train loss 2.5403, val loss 2.5580\n"
     ]
    },
    {
     "name": "stderr",
     "output_type": "stream",
     "text": [
      " 59%|█████▉    | 590/1000 [00:08<00:04, 99.95it/s]"
     ]
    },
    {
     "name": "stdout",
     "output_type": "stream",
     "text": [
      "iteration 600\n"
     ]
    },
    {
     "name": "stderr",
     "output_type": "stream",
     "text": [
      " 61%|██████    | 612/1000 [00:09<00:09, 40.78it/s]"
     ]
    },
    {
     "name": "stdout",
     "output_type": "stream",
     "text": [
      "step 600: train loss 2.4720, val loss 2.4958\n"
     ]
    },
    {
     "name": "stderr",
     "output_type": "stream",
     "text": [
      " 80%|███████▉  | 799/1000 [00:11<00:02, 99.59it/s] "
     ]
    },
    {
     "name": "stdout",
     "output_type": "stream",
     "text": [
      "iteration 800\n"
     ]
    },
    {
     "name": "stderr",
     "output_type": "stream",
     "text": [
      " 82%|████████▏ | 819/1000 [00:12<00:04, 37.58it/s]"
     ]
    },
    {
     "name": "stdout",
     "output_type": "stream",
     "text": [
      "step 800: train loss 2.3846, val loss 2.4250\n"
     ]
    },
    {
     "name": "stderr",
     "output_type": "stream",
     "text": [
      "100%|█████████▉| 995/1000 [00:13<00:00, 100.65it/s]"
     ]
    },
    {
     "name": "stdout",
     "output_type": "stream",
     "text": [
      "iteration 999\n"
     ]
    },
    {
     "name": "stderr",
     "output_type": "stream",
     "text": [
      "100%|██████████| 1000/1000 [00:14<00:00, 67.94it/s]"
     ]
    },
    {
     "name": "stdout",
     "output_type": "stream",
     "text": [
      "step 999: train loss 2.3517, val loss 2.3903\n"
     ]
    },
    {
     "name": "stderr",
     "output_type": "stream",
     "text": [
      "\n"
     ]
    }
   ],
   "execution_count": 20
  },
  {
   "metadata": {
    "ExecuteTime": {
     "end_time": "2025-03-14T21:55:26.905835Z",
     "start_time": "2025-03-14T21:55:26.857408Z"
    }
   },
   "cell_type": "code",
   "source": [
    "plt.plot(loss_list)\n",
    "plt.xlabel(\"iteration\")\n",
    "plt.ylabel(\"loss\")\n",
    "plt.title(\"Training loss\")\n",
    "plt.show()"
   ],
   "outputs": [
    {
     "data": {
      "text/plain": [
       "<Figure size 640x480 with 1 Axes>"
      ],
      "image/png": "[encoded data removed]"
     },
     "metadata": {},
     "output_type": "display_data"
    }
   ],
   "execution_count": 22
  },
  {
   "cell_type": "markdown",
   "metadata": {
    "id": "u05NFXpo0wWs"
   },
   "source": [
    "---\n",
    "\n",
    "From our results and plots from the bigram models, we can see that using a single head of attention is not a significant improvement over just the bigram model. We note that the final loss values are similar; however, the loss of the single headed attention model does not appear to slow as heavily as the bigram models. This could imply that more training time could lead to a better result, as attention may take much longer to refine. Finally, we note that with a single head of attention, the model may not be able to effectively capture complex relationships in Shakespeare's prose. With increasing model complexity, we may see even more improvements.\n",
    "\n",
    "---"
   ]
  },
  {
   "cell_type": "markdown",
   "metadata": {
    "id": "7wjXYf-S4Lus"
   },
   "source": [
    "#### 1.3.3: Multi-headed attention"
   ]
  },
  {
   "cell_type": "markdown",
   "metadata": {
    "id": "ZIObjMO0Ikp5"
   },
   "source": [
    "##### Question 1.3.3.1: Implement multi-headed attention"
   ]
  },
  {
   "cell_type": "code",
   "metadata": {
    "id": "6vb8NU_s6Vfg",
    "ExecuteTime": {
     "end_time": "2025-03-14T22:36:37.308926Z",
     "start_time": "2025-03-14T22:36:37.305124Z"
    }
   },
   "source": [
    "class MultiHeadAttention(nn.Module):\n",
    "    \"\"\" multiple heads of self-attention in parallel \"\"\"\n",
    "\n",
    "    def __init__(self, context_window_size, num_heads, head_size, embed_size=384):\n",
    "        \"\"\"\n",
    "        Args:\n",
    "            context_window_size: int, number of tokens considered in the past for attention (T)\n",
    "            num_heads: int, number of heads (H)\n",
    "            head_size: int, size of the head embedding dimension\n",
    "            embed_size: int, size of the token embedding dimension\n",
    "        \"\"\"\n",
    "        super().__init__()\n",
    "        # TODO, your code below\n",
    "        self.heads = nn.ModuleList([Head(head_size, context_window_size, embed_size) for _ in range(num_heads)])\n",
    "        self.lm_head = nn.Linear(embed_size*num_heads, embed_size)\n",
    "        self.num_heads = num_heads\n",
    "\n",
    "    def forward(self, x):\n",
    "        # TODO, your code below\n",
    "        B, T, _ = x.shape\n",
    "        head_size = x.shape[-1] // self.num_heads\n",
    "        head_outputs = [head(x) for head in self.heads]\n",
    "        head_outputs = torch.cat(head_outputs, dim=-1)\n",
    "        head_outputs = head_outputs.view(B, T, -1)\n",
    "        return self.lm_head(head_outputs)"
   ],
   "outputs": [],
   "execution_count": 23
  },
  {
   "cell_type": "markdown",
   "metadata": {
    "id": "aFCBRay3IuR3"
   },
   "source": [
    "##### Question 1.3.3.2: Implement a multi-headed attention LM\n",
    "\n",
    "Fill in the code below to create a language model that outputs its logits for next token prediction using multi-headed attention. Train your model for `SMALL_ITERS` training iterations. Compare the results with the single-headed attention model. Do you see an improvement?\n",
    "\n",
    "We get to a train loss of around 2 after 1000 iterations, which takes around 1.5 minutes on a T4 GPU."
   ]
  },
  {
   "cell_type": "code",
   "metadata": {
    "id": "LvWHwcCzI1yr",
    "ExecuteTime": {
     "end_time": "2025-03-14T22:36:38.573854Z",
     "start_time": "2025-03-14T22:36:38.570399Z"
    }
   },
   "source": [
    "class MultiHeadedAttentionLM(nn.Module):\n",
    "\n",
    "    def __init__(self, vocab_size, context_window_size, embed_size=384, num_heads=6):\n",
    "      super().__init__()\n",
    "      self.head_size = embed_size // num_heads\n",
    "      self.context_window_size = context_window_size\n",
    "      # TODO: your code below\n",
    "      self.token_embedding_table = nn.Embedding(vocab_size, embed_size)\n",
    "      self.position_embedding_table = nn.Embedding(context_window_size, embed_size)\n",
    "      self.multi_head_attention = MultiHeadAttention(context_window_size, num_heads, self.head_size, embed_size)\n",
    "      self.lm_head = nn.Linear(embed_size, vocab_size)\n",
    "      self.vocab_size = vocab_size\n",
    "\n",
    "    def forward(self, token_ids, targets=None):\n",
    "        \"\"\"\n",
    "        Args:\n",
    "          token_ids: (B, T) token ids that make up the context (batch has size B, each entry in the\n",
    "                     batch has length T)\n",
    "          targets: (B, T) token ids corresponding to the target of each context in token_ids\n",
    "\n",
    "        Returns:\n",
    "          logits: (B, T, V), logits[b,t] gives the length V vector of logits for the next token\n",
    "                  prediction in string b up to t tokens\n",
    "          loss: scalar, negative log likelihood of target given context\n",
    "        \"\"\"\n",
    "        # TODO: your code below\n",
    "        loss = None\n",
    "        B, T = token_ids.shape\n",
    "        tok_emb = self.token_embedding_table(token_ids)\n",
    "        pos_emb = self.position_embedding_table(torch.arange(T, device=device))\n",
    "        x = tok_emb + pos_emb\n",
    "        x = self.multi_head_attention(x)\n",
    "        logits = self.lm_head(x)\n",
    "        if targets is not None:\n",
    "            loss = F.cross_entropy(logits.view(-1, self.vocab_size), targets.view(-1))\n",
    "        return logits, loss\n",
    "\n",
    "    @torch.no_grad()\n",
    "    def generate(self, token_ids, max_new_tokens):\n",
    "        \"\"\"\n",
    "        Args:\n",
    "          token_ids: (B, T) tensor of token ids to provide as context\n",
    "          max_new_tokens: int, maximum number of new tokens to generate\n",
    "\n",
    "        Returns:\n",
    "          (B, T+max_new_tokens) tensor of context with new tokens appended\n",
    "        \"\"\"\n",
    "        # TODO: your code below\n",
    "        for t in range(max_new_tokens):\n",
    "            if token_ids.shape[1] > self.context_window_size:\n",
    "                token_ids = token_ids[:, -self.context_window_size:]\n",
    "            B, T = token_ids.shape\n",
    "            logits, loss = self.forward(token_ids)\n",
    "            logits = logits[:, -1, :]\n",
    "            probs = F.softmax(logits, dim=-1)\n",
    "            new_token = torch.multinomial(probs, 1)\n",
    "            token_ids = torch.cat([token_ids, new_token], dim=1)\n",
    "        return token_ids\n",
    "        \n"
   ],
   "outputs": [],
   "execution_count": 24
  },
  {
   "cell_type": "code",
   "metadata": {
    "id": "hM9gOuPAMNcC",
    "ExecuteTime": {
     "end_time": "2025-03-14T22:37:33.559784Z",
     "start_time": "2025-03-14T22:36:39.595278Z"
    }
   },
   "source": [
    "# Initialize model\n",
    "model = MultiHeadedAttentionLM(vocab_size, CONTEXT_WINDOW_SIZE)\n",
    "m = model.to(device)\n",
    "\n",
    "# create a PyTorch optimizer\n",
    "learning_rate = 6e-4\n",
    "optimizer = torch.optim.AdamW(model.parameters(), lr=learning_rate)\n",
    "\n",
    "eval_interval = 200\n",
    "\n",
    "loss_list = []\n",
    "\n",
    "for it in tqdm(range(SMALL_ITERS)):\n",
    "\n",
    "    # every once in a while evaluate the loss on train and val sets\n",
    "    if it % eval_interval == 0 or it == SMALL_ITERS - 1:\n",
    "        print(f\"iteration {it}\")\n",
    "        losses = estimate_loss(m, EVAL_ITERS, CONTEXT_WINDOW_SIZE, device)\n",
    "        print(f\"step {it}: train loss {losses['train']:.4f}, val loss {losses['val']:.4f}\")\n",
    "\n",
    "    # sample a batch of data\n",
    "    xb, yb = get_batch('train', CONTEXT_WINDOW_SIZE, device)\n",
    "\n",
    "    # evaluate the loss\n",
    "    logits, loss = m(xb, yb)\n",
    "    loss_list.append(loss.detach().item())\n",
    "    optimizer.zero_grad(set_to_none=True)\n",
    "    loss.backward()\n",
    "    optimizer.step()"
   ],
   "outputs": [
    {
     "name": "stderr",
     "output_type": "stream",
     "text": [
      "  0%|          | 0/1000 [00:00<?, ?it/s]"
     ]
    },
    {
     "name": "stdout",
     "output_type": "stream",
     "text": [
      "iteration 0\n"
     ]
    },
    {
     "name": "stderr",
     "output_type": "stream",
     "text": [
      "  0%|          | 5/1000 [00:02<07:03,  2.35it/s]"
     ]
    },
    {
     "name": "stdout",
     "output_type": "stream",
     "text": [
      "step 0: train loss 4.1585, val loss 4.1596\n"
     ]
    },
    {
     "name": "stderr",
     "output_type": "stream",
     "text": [
      " 20%|██        | 200/1000 [00:10<00:30, 25.90it/s]"
     ]
    },
    {
     "name": "stdout",
     "output_type": "stream",
     "text": [
      "iteration 200\n"
     ]
    },
    {
     "name": "stderr",
     "output_type": "stream",
     "text": [
      " 20%|██        | 203/1000 [00:13<03:57,  3.36it/s]"
     ]
    },
    {
     "name": "stdout",
     "output_type": "stream",
     "text": [
      "step 200: train loss 2.4435, val loss 2.4729\n"
     ]
    },
    {
     "name": "stderr",
     "output_type": "stream",
     "text": [
      " 40%|███▉      | 398/1000 [00:20<00:23, 26.11it/s]"
     ]
    },
    {
     "name": "stdout",
     "output_type": "stream",
     "text": [
      "iteration 400\n"
     ]
    },
    {
     "name": "stderr",
     "output_type": "stream",
     "text": [
      " 40%|████      | 404/1000 [00:23<02:10,  4.58it/s]"
     ]
    },
    {
     "name": "stdout",
     "output_type": "stream",
     "text": [
      "step 400: train loss 2.1948, val loss 2.2595\n"
     ]
    },
    {
     "name": "stderr",
     "output_type": "stream",
     "text": [
      " 60%|█████▉    | 599/1000 [00:30<00:15, 26.08it/s]"
     ]
    },
    {
     "name": "stdout",
     "output_type": "stream",
     "text": [
      "iteration 600\n"
     ]
    },
    {
     "name": "stderr",
     "output_type": "stream",
     "text": [
      " 60%|██████    | 605/1000 [00:33<01:26,  4.56it/s]"
     ]
    },
    {
     "name": "stdout",
     "output_type": "stream",
     "text": [
      "step 600: train loss 2.0513, val loss 2.1473\n"
     ]
    },
    {
     "name": "stderr",
     "output_type": "stream",
     "text": [
      " 80%|████████  | 800/1000 [00:41<00:07, 26.14it/s]"
     ]
    },
    {
     "name": "stdout",
     "output_type": "stream",
     "text": [
      "iteration 800\n"
     ]
    },
    {
     "name": "stderr",
     "output_type": "stream",
     "text": [
      " 80%|████████  | 803/1000 [00:43<00:58,  3.38it/s]"
     ]
    },
    {
     "name": "stdout",
     "output_type": "stream",
     "text": [
      "step 800: train loss 1.9827, val loss 2.1064\n"
     ]
    },
    {
     "name": "stderr",
     "output_type": "stream",
     "text": [
      "100%|█████████▉| 998/1000 [00:51<00:00, 25.88it/s]"
     ]
    },
    {
     "name": "stdout",
     "output_type": "stream",
     "text": [
      "iteration 999\n"
     ]
    },
    {
     "name": "stderr",
     "output_type": "stream",
     "text": [
      "100%|██████████| 1000/1000 [00:53<00:00, 18.54it/s]"
     ]
    },
    {
     "name": "stdout",
     "output_type": "stream",
     "text": [
      "step 999: train loss 1.9331, val loss 2.0736\n"
     ]
    },
    {
     "name": "stderr",
     "output_type": "stream",
     "text": [
      "\n"
     ]
    }
   ],
   "execution_count": 25
  },
  {
   "metadata": {
    "ExecuteTime": {
     "end_time": "2025-03-14T22:39:54.916023Z",
     "start_time": "2025-03-14T22:39:54.877142Z"
    }
   },
   "cell_type": "code",
   "source": [
    "plt.plot(loss_list)\n",
    "plt.xlabel(\"iteration\")\n",
    "plt.ylabel(\"loss\")\n",
    "plt.title(\"Training loss\")\n",
    "plt.show()"
   ],
   "outputs": [
    {
     "data": {
      "text/plain": [
       "<Figure size 640x480 with 1 Axes>"
      ],
      "image/png": "[encoded data removed]"
     },
     "metadata": {},
     "output_type": "display_data"
    }
   ],
   "execution_count": 26
  },
  {
   "cell_type": "markdown",
   "metadata": {
    "id": "OAdaPBuMQmrl"
   },
   "source": [
    "---\n",
    "\n",
    "Compared to the model with a single head of attention, we can see losses are noticeably smaller for the multi-headed attention model. This makes sense as a multi-headed attention model is better suited to capture numerous complex relationships between tokens, which is to be expected with text written by Shakespeare.\n",
    "\n",
    "---"
   ]
  },
  {
   "cell_type": "markdown",
   "metadata": {
    "id": "X9XsUWpwG7uA"
   },
   "source": [
    "### 1.4: The Transformer Architecture: combining attention with deep learning"
   ]
  },
  {
   "cell_type": "code",
   "metadata": {
    "id": "1GbGqwKWJzOK",
    "ExecuteTime": {
     "end_time": "2025-03-14T22:50:59.085897Z",
     "start_time": "2025-03-14T22:50:59.083007Z"
    }
   },
   "source": [
    "# run this cell to initialize this deep learning module that you should use in the code your write later\n",
    "# you don't need to edit this layer\n",
    "class FeedForward(nn.Module):\n",
    "    \"\"\" a simple linear layer followed by a non-linearity\n",
    "        Given to you, you don't need to write any code here!\n",
    "    \"\"\"\n",
    "\n",
    "    def __init__(self, embed_size):\n",
    "        super().__init__()\n",
    "        self.net = nn.Sequential(\n",
    "            nn.Linear(embed_size, 4 * embed_size),\n",
    "            nn.ReLU(),\n",
    "            nn.Linear(4 * embed_size, embed_size),\n",
    "        )\n",
    "\n",
    "    def forward(self, x):\n",
    "        return self.net(x)"
   ],
   "outputs": [],
   "execution_count": 27
  },
  {
   "cell_type": "markdown",
   "metadata": {
    "id": "WKJxVp6aJb6i"
   },
   "source": [
    "#### Question 1.4.1: Implement a transformer block\n",
    "\n",
    "Complete the code below to implement a transformer block"
   ]
  },
  {
   "cell_type": "markdown",
   "metadata": {
    "id": "8Jw2I6a8IYOi"
   },
   "source": [
    "To make the your implemenation easier to train, we have added two deep learning best practices:\n",
    "\n",
    "1. Residual connections.\n",
    "\n",
    "    In the `forward` method of the `TransformerBlock`, we have implemented a residual connection of the form\n",
    "    \n",
    "    \\begin{align*}\n",
    "    x \\mapsto x + f(x)\n",
    "    \\end{align*}\n",
    "    \n",
    "    where $f$ is a nonlinear function. The idea is that every layer is some adjustment of the identity function, which guards against vanishing gradients in a deep network during back propogation, especially at initialization.\n",
    "\n",
    "2. Prenorm via `LayerNorm`\n",
    "\n",
    "    Also in the `forward` method of the `TransformerBlock`, the nonlinearity first applied a `LayerNorm` to its arguments. The `LayerNorm` basically standardizes the activations in that layer so that they have mean 0 and variance 1. Doing so is very helpful for numerical stability, espeically of the gradients."
   ]
  },
  {
   "cell_type": "code",
   "metadata": {
    "id": "hUDbIv9eISkf",
    "ExecuteTime": {
     "end_time": "2025-03-14T22:51:09.281463Z",
     "start_time": "2025-03-14T22:51:09.278556Z"
    }
   },
   "source": [
    "class TransformerBlock(nn.Module):\n",
    "    \"\"\" Transformer block: communication across sequence length, followed by communication across embedding space\n",
    "        Uses multi-headed attention\n",
    "    \"\"\"\n",
    "\n",
    "    def __init__(self, vocab_size, context_window_size, embed_size=384, num_heads=6):\n",
    "        super().__init__()\n",
    "        self.ln1 = nn.LayerNorm(embed_size)\n",
    "        self.ln2 = nn.LayerNorm(embed_size)\n",
    "\n",
    "        # TODO: your code below\n",
    "        self.feed_forward = FeedForward(embed_size)\n",
    "        self.atten_heads = MultiHeadAttention(context_window_size, num_heads, embed_size // num_heads, embed_size)\n",
    "\n",
    "    def forward(self, x):\n",
    "        x = x + self.atten_heads(self.ln1(x)) # communication over sequence length\n",
    "        x = x + self.feed_forward(self.ln2(x)) # communication across embedding space\n",
    "        return x"
   ],
   "outputs": [],
   "execution_count": 28
  },
  {
   "cell_type": "markdown",
   "metadata": {
    "id": "vqCCiCYcKMD0"
   },
   "source": [
    "#### Question 1.4.2: Implement your baseline transformer model\n",
    "\n",
    "We now stack 6 `TransformerBlocks` (with a final layer norm applied after the blocks but before the logits) to create our basline `TransformerLM`."
   ]
  },
  {
   "cell_type": "code",
   "metadata": {
    "id": "t2veTg9N3ufJ",
    "ExecuteTime": {
     "end_time": "2025-03-14T22:51:11.642811Z",
     "start_time": "2025-03-14T22:51:11.637247Z"
    }
   },
   "source": [
    "class TransformerLM(nn.Module):\n",
    "\n",
    "    def __init__(self, vocab_size, context_window_size, embed_size=384, num_heads=6, n_layers=6):\n",
    "        \"\"\"\n",
    "          Args:\n",
    "              vocab_size: int, number of tokens in the vocabulary (V)\n",
    "              context_window_size: int, size of the context window (T)\n",
    "              embed_size: int, embedding size (D)\n",
    "              num_heads: int, number of heads (H)\n",
    "              n_layers: int, number of layers (M)\n",
    "        \"\"\"\n",
    "        super().__init__()\n",
    "        self.token_embedding_table = nn.Embedding(vocab_size, embed_size)\n",
    "        self.position_embedding_table = nn.Embedding(context_window_size, embed_size)\n",
    "        self.blocks = nn.Sequential(*[\n",
    "            TransformerBlock(vocab_size,\n",
    "                             context_window_size,\n",
    "                             embed_size=embed_size,\n",
    "                             num_heads=num_heads)\n",
    "            for _ in range(n_layers)])\n",
    "\n",
    "        # final layer norm\n",
    "        self.ln_f = nn.LayerNorm(embed_size)\n",
    "        self.lm_head = nn.Linear(embed_size, vocab_size)\n",
    "\n",
    "        # good initialization\n",
    "        self.apply(self._init_weights)\n",
    "\n",
    "    def _init_weights(self, module):\n",
    "        if isinstance(module, nn.Linear):\n",
    "            torch.nn.init.normal_(module.weight, mean=0.0, std=0.02)\n",
    "            if module.bias is not None:\n",
    "                torch.nn.init.zeros_(module.bias)\n",
    "        elif isinstance(module, nn.Embedding):\n",
    "            torch.nn.init.normal_(module.weight, mean=0.0, std=0.02)\n",
    "\n",
    "    def forward(self, token_ids, targets=None):\n",
    "        \"\"\"\n",
    "        Agrgs:\n",
    "            token_ids: tensor of integers, provides the contet, shape (B, T)\n",
    "            targets: tensor of integers, provides the tokens we are preidcitng, shape (B, T)\n",
    "        \"\"\"\n",
    "        B, T = token_ids.shape\n",
    "\n",
    "        # token_ids and targets are both (B, T) tensor of integers\n",
    "        tok_emb = self.token_embedding_table(token_ids) # (B, T, D)\n",
    "        pos_emb = self.position_embedding_table(torch.arange(T, device=device)) # (T, D)\n",
    "        x = tok_emb + pos_emb # (B, T, D)\n",
    "\n",
    "        # TODO: your code below\n",
    "        loss = None\n",
    "        logits = self.blocks(x)\n",
    "        logits = self.ln_f(logits)\n",
    "        logits = self.lm_head(logits)\n",
    "        if targets is not None:\n",
    "            loss = F.cross_entropy(logits.view(-1, logits.shape[-1]), targets.view(-1))\n",
    "        return logits, loss\n",
    "\n",
    "    @torch.no_grad()\n",
    "    def generate(self, token_ids, max_new_tokens):\n",
    "        \"\"\"\n",
    "        Args:\n",
    "            token_ids: tensor of integers forming the context, shape (B, T)\n",
    "            max_new_tokens: int, max number of tokens to generate\n",
    "        \"\"\"\n",
    "        # TOOD, your code below\n",
    "        self.eval()\n",
    "        for _ in range(max_new_tokens):\n",
    "            if token_ids.size(1) > CONTEXT_WINDOW_SIZE:\n",
    "                token_ids = token_ids[:, -CONTEXT_WINDOW_SIZE:]\n",
    "            logits, _ = self(token_ids)\n",
    "            logits = logits[:, -1, :]\n",
    "            probs = F.softmax(logits, dim=-1) \n",
    "            next_token = torch.multinomial(probs, num_samples=1)\n",
    "            token_ids = torch.cat([token_ids, next_token], dim=1)\n",
    "        self.train()\n",
    "        return token_ids"
   ],
   "outputs": [],
   "execution_count": 29
  },
  {
   "cell_type": "markdown",
   "metadata": {
    "id": "JP8430nWKbZ6"
   },
   "source": [
    "Train your `TransformerLM` for `LARGE_ITERS` iterations and plot the loss curve. You may want to change the learning rate.\n",
    "\n",
    "We used a learning rate of `1e-4` and got to a final train loss of around 1.4 in around 15 minutes of training on a T4 GPU."
   ]
  },
  {
   "cell_type": "code",
   "metadata": {
    "id": "jsnbDpdhLeKo",
    "ExecuteTime": {
     "end_time": "2025-03-14T23:05:26.588352Z",
     "start_time": "2025-03-14T22:51:23.059458Z"
    }
   },
   "source": [
    "trans = TransformerLM(vocab_size, CONTEXT_WINDOW_SIZE)\n",
    "tlm = trans.to(device)\n",
    "learning_rate = 1e-4\n",
    "# TODO, your code below\n",
    "\n",
    "optimizer = optim.Adam(tlm.parameters(), lr=learning_rate)\n",
    "\n",
    "loss_list = []\n",
    "eval_interval = 200\n",
    "tlm.train()\n",
    "for it in tqdm(range(LARGE_ITERS)):\n",
    "    # Evaluate\n",
    "    if it % eval_interval == 0:\n",
    "        losses = estimate_loss(tlm, EVAL_ITERS, CONTEXT_WINDOW_SIZE, device)\n",
    "        print(f\"step {it}: train loss {losses['train']:.3f}, val loss {losses['val']:.3f}\")\n",
    "    \n",
    "    # Forward/backward/update\n",
    "    xb, yb = get_batch('train', CONTEXT_WINDOW_SIZE, device, batch_size = 32)\n",
    "    logits, loss = tlm(xb, yb)\n",
    "    optimizer.zero_grad()\n",
    "    loss.backward()\n",
    "    optimizer.step()\n",
    "    loss_list.append(loss.item())\n",
    "\n",
    "print(\"final training loss =\", loss_list[-1])\n"
   ],
   "outputs": [
    {
     "name": "stderr",
     "output_type": "stream",
     "text": [
      "  0%|          | 0/2000 [00:00<?, ?it/s]"
     ]
    },
    {
     "name": "stdout",
     "output_type": "stream",
     "text": [
      "step 0: train loss 4.233, val loss 4.232\n"
     ]
    },
    {
     "name": "stderr",
     "output_type": "stream",
     "text": [
      " 10%|█         | 200/2000 [01:24<09:35,  3.13it/s] "
     ]
    },
    {
     "name": "stdout",
     "output_type": "stream",
     "text": [
      "step 200: train loss 2.486, val loss 2.496\n"
     ]
    },
    {
     "name": "stderr",
     "output_type": "stream",
     "text": [
      " 20%|██        | 400/2000 [02:48<08:27,  3.15it/s]  "
     ]
    },
    {
     "name": "stdout",
     "output_type": "stream",
     "text": [
      "step 400: train loss 2.291, val loss 2.312\n"
     ]
    },
    {
     "name": "stderr",
     "output_type": "stream",
     "text": [
      " 30%|███       | 600/2000 [04:12<07:23,  3.15it/s]  "
     ]
    },
    {
     "name": "stdout",
     "output_type": "stream",
     "text": [
      "step 600: train loss 2.016, val loss 2.075\n"
     ]
    },
    {
     "name": "stderr",
     "output_type": "stream",
     "text": [
      " 40%|████      | 800/2000 [05:36<06:20,  3.15it/s]  "
     ]
    },
    {
     "name": "stdout",
     "output_type": "stream",
     "text": [
      "step 800: train loss 1.799, val loss 1.922\n"
     ]
    },
    {
     "name": "stderr",
     "output_type": "stream",
     "text": [
      " 50%|█████     | 1000/2000 [07:00<05:23,  3.09it/s] "
     ]
    },
    {
     "name": "stdout",
     "output_type": "stream",
     "text": [
      "step 1000: train loss 1.671, val loss 1.823\n"
     ]
    },
    {
     "name": "stderr",
     "output_type": "stream",
     "text": [
      " 60%|██████    | 1200/2000 [08:25<04:17,  3.11it/s]  "
     ]
    },
    {
     "name": "stdout",
     "output_type": "stream",
     "text": [
      "step 1200: train loss 1.577, val loss 1.751\n"
     ]
    },
    {
     "name": "stderr",
     "output_type": "stream",
     "text": [
      " 70%|███████   | 1400/2000 [09:50<03:13,  3.10it/s]  "
     ]
    },
    {
     "name": "stdout",
     "output_type": "stream",
     "text": [
      "step 1400: train loss 1.502, val loss 1.705\n"
     ]
    },
    {
     "name": "stderr",
     "output_type": "stream",
     "text": [
      " 80%|████████  | 1600/2000 [11:15<02:10,  3.07it/s]  "
     ]
    },
    {
     "name": "stdout",
     "output_type": "stream",
     "text": [
      "step 1600: train loss 1.465, val loss 1.672\n"
     ]
    },
    {
     "name": "stderr",
     "output_type": "stream",
     "text": [
      " 90%|█████████ | 1800/2000 [12:39<01:03,  3.15it/s]"
     ]
    },
    {
     "name": "stdout",
     "output_type": "stream",
     "text": [
      "step 1800: train loss 1.420, val loss 1.628\n"
     ]
    },
    {
     "name": "stderr",
     "output_type": "stream",
     "text": [
      "100%|██████████| 2000/2000 [14:03<00:00,  2.37it/s]"
     ]
    },
    {
     "name": "stdout",
     "output_type": "stream",
     "text": [
      "final training loss = 1.380360722541809\n"
     ]
    },
    {
     "name": "stderr",
     "output_type": "stream",
     "text": [
      "\n"
     ]
    }
   ],
   "execution_count": 30
  },
  {
   "metadata": {
    "ExecuteTime": {
     "end_time": "2025-03-15T00:11:47.663614Z",
     "start_time": "2025-03-15T00:11:47.661020Z"
    }
   },
   "cell_type": "code",
   "source": "losses",
   "outputs": [
    {
     "data": {
      "text/plain": [
       "{'train': tensor(1.4201), 'val': tensor(1.6275)}"
      ]
     },
     "execution_count": 39,
     "metadata": {},
     "output_type": "execute_result"
    }
   ],
   "execution_count": 39
  },
  {
   "cell_type": "markdown",
   "metadata": {
    "id": "1SYG_iDFSNys"
   },
   "source": [
    "#### Question 1.4.3: Generating text!\n",
    "\n",
    "Now with our trained model, we can generate some text that is somewhat like the style of Shakespeare! Below we will do both unconditional and conditional generation."
   ]
  },
  {
   "cell_type": "code",
   "metadata": {
    "ExecuteTime": {
     "end_time": "2025-03-14T23:06:37.238203Z",
     "start_time": "2025-03-14T23:06:23.902304Z"
    }
   },
   "source": [
    "# unconditional generation from the model\n",
    "start_context = torch.zeros((1, 1), dtype=torch.long, device=device)\n",
    "uncond_gen = (tlm.generate(start_context, max_new_tokens=CONTEXT_WINDOW_SIZE)[0].tolist())\n",
    "print(decode(uncond_gen))"
   ],
   "outputs": [
    {
     "name": "stdout",
     "output_type": "stream",
     "text": [
      "\n",
      "Kecong and to her no heart,\n",
      "Awaked, and my Crescy, declime, my betters'd\n",
      "Upon mine to them.\n",
      "\n",
      "DUCHESS OF YORK:\n",
      "I knever duke a justague as great.\n",
      "\n",
      "RICHARD:\n",
      "This love to me neval it me.\n",
      "\n",
      "DUKE OF AUMERLE:\n",
      "Take it two cornsels to the discatch\n",
      "Seemer I on think\n"
     ]
    }
   ],
   "execution_count": 31
  },
  {
   "cell_type": "code",
   "metadata": {
    "id": "73du7-sWLH5c",
    "ExecuteTime": {
     "end_time": "2025-03-14T23:06:43.953740Z",
     "start_time": "2025-03-14T23:06:43.948789Z"
    }
   },
   "source": [
    "# conditional generation from the model\n",
    "\n",
    "context1 = \"\"\"ROMEO:\n",
    "He jests at scars that never felt a wound.\n",
    "But, soft! what light through yonder window breaks?\n",
    "It is the east, and Juliet is the sun.\n",
    "Arise, fair sun, and kill the envious moon,\n",
    "Who is already sick and pale with grief,\n",
    "That thou her maid art far more fair than she:\n",
    "Be not her maid, \"\"\"\n",
    "\n",
    "context1_tokens = torch.tensor(encode(context1), device=device).reshape(1, -1)"
   ],
   "outputs": [],
   "execution_count": 32
  },
  {
   "cell_type": "code",
   "metadata": {
    "id": "sZ4zkEJzMNA4",
    "ExecuteTime": {
     "end_time": "2025-03-14T23:06:48.694113Z",
     "start_time": "2025-03-14T23:06:46.077357Z"
    }
   },
   "source": [
    "cond_gen = (tlm.generate(context1_tokens, max_new_tokens=CONTEXT_WINDOW_SIZE)[0].tolist())\n",
    "print(decode(cond_gen))"
   ],
   "outputs": [
    {
     "name": "stdout",
     "output_type": "stream",
     "text": [
      " and wish may Romeo?\n",
      "Beard loving arms so your on's sicre.\n",
      "\n",
      "HERRMIONE:\n",
      "Taken your short's royall about your armedly.\n",
      "\n",
      "HENRY BOLINGOROKE:\n",
      "By him, bruther, O, prince with his compats\n",
      "To keep not down his not hath our in than yield,\n",
      "But trikely which butwen th\n"
     ]
    }
   ],
   "execution_count": 33
  },
  {
   "cell_type": "markdown",
   "metadata": {
    "id": "HdA0IXMh15cc"
   },
   "source": [
    "TODO: Choose your own context from Shakespeare, and perform conditional generation from that text. Does this look reasonable to you? Why or why not?"
   ]
  },
  {
   "cell_type": "code",
   "metadata": {
    "id": "cR_0hrAO2Am_",
    "ExecuteTime": {
     "end_time": "2025-03-14T23:07:12.713208Z",
     "start_time": "2025-03-14T23:07:08.810123Z"
    }
   },
   "source": [
    "# TODO: your code here\n",
    "\n",
    "context2 = \"\"\"To be, or not to be: \"\"\"\n",
    "context2_tokens = torch.tensor(encode(context2), device=device).reshape(1, -1)\n",
    "cond_gen2 = (tlm.generate(context2_tokens, max_new_tokens=CONTEXT_WINDOW_SIZE)[0].tolist())\n",
    "print(decode(cond_gen2))\n"
   ],
   "outputs": [
    {
     "name": "stdout",
     "output_type": "stream",
     "text": [
      " feor I chek you will think\n",
      "every is far absence: and espute forth I\n",
      "never have strong to rupp-speed. She donem, the\n",
      "Liver ptock, and be doubteat to the ochactor: you\n",
      "must havim, then you shall, I did you wind.\n",
      "\n",
      "First HusdY:\n",
      "Peace for him\n",
      "Thrips with here: \n"
     ]
    }
   ],
   "execution_count": 35
  },
  {
   "cell_type": "markdown",
   "metadata": {
    "id": "Caw-RM-J2Chj"
   },
   "source": [
    "---\n",
    "\n",
    "From the output above, we can see that it does not follow the traditional \"To be or not to be\" speech. However, we also note that some of the words are not formatted correctly (random capitalization) and many of them are not words featured in common or Shakspeare English. Therefore, this is not necessarily a reasonable representation of Shakespeare's prose. This is to be expected due to the highly unstructured and variable nature of Shakepeare's texts. Furthermore, there may not be enough data to train the model to understand the complex relationships between tokens.\n",
    "\n",
    "---"
   ]
  },
  {
   "cell_type": "markdown",
   "metadata": {
    "id": "LgOzvWFDx_yH"
   },
   "source": [
    "#### Question 1.4.4\n",
    "\n",
    "The negative log-likelihood (averaged per token) we have been using to train our models can be expressed as\n",
    "\\begin{equation*}\n",
    "  L = -\\frac{1}{T} \\sum_{t = 1}^{T} \\log p(s[t] | \\text{context})\n",
    "\\end{equation*}\n",
    "for some document $s$, where $s[t]$ is the $t$th token of the doc. The natural language processing (NLP) community often reports the quantity\n",
    "\\begin{equation*}\n",
    "  \\text{perplexity} = \\exp(L).\n",
    "\\end{equation*}\n",
    "\n",
    "Give an intuitive interpretation of what perplexity is. Why might it be a more intuitive or natual measure to report than negative log-likelihood? Does the reported perplexity of your trained `TransformerLM` model make sense in terms of samples it generates? (Be sure to distinguish betwen `train` and `validation` perplexity. Which of `train` and `val` perplexity is more helpful for understanding your generated samples? Why?). (*Hint: your answer to Question 1.1.6 may be helpful*)."
   ]
  },
  {
   "metadata": {},
   "cell_type": "markdown",
   "source": [
    "---\n",
    "\n",
    "An intuitive interpretation of perplexity is the amount of uncertainty when the model attempts to pick the next token in a sequence. In other words, it represents how \"perplexed\" the model is when predicting the next token. For example, if a model has a perplexity of 5, then it had to uniformly choose between 5 different options at each token generating step. Naturally, a lower perplexity implies better predictive power. Finally, we note that a perplexity = 1 is a perfect performance, as the model had only one choice when generating a new token, which corresponds to a loss of 0.\n",
    "\n",
    "This is more intuitive than negative log-likelihood since NLL is on a logarithmic scale which contrasts with the linear (and hence more intuitive) scale of perplexity. Furthermore, we note that NLL does not have an easily interpretable meaning when compared to perplexity. Thus perplexity is more intuitive than NLL for reporting model performance.\n",
    "\n",
    "From the output above, we can calculate the approximate train and validation perplexity as $exp(1.4) = 4.06$ and $exp(1.62) = 5.05$ respectively. We can utilize the interpretation above to conclude that the model had to choose between approximately 4 to 5 choices per token during a prediction task. Based on the samples generated, this makes sense as the samples do resemble Shakespeare's style but are not perfect recreations of either common English or Shakespeare English.\n",
    "\n",
    "Between train and val perplexity, we note validation perplexity is more helpful because it is based on text that wasn't used to tune the model. In other words, it measure how well the model generalizes to new text or new situations, which is the ultimate goal with prediction models. From Q1.1.6, we know that if each prediction is perfect, then the NLL is 0 and thus perplexity is 1. Since the data was used to tune the model parameters, the train perplexity may be subject to some degree of memorization. Thus, it may tend to make near-perfect predictions, which would skew the perplexity towards 1.\n",
    "\n",
    "\n",
    "---"
   ]
  },
  {
   "cell_type": "markdown",
   "metadata": {
    "id": "9Izr1wTOjzlo"
   },
   "source": [
    "## Part 2: Mini-Project"
   ]
  },
  {
   "cell_type": "markdown",
   "metadata": {
    "id": "5lF3jFrQj1f4"
   },
   "source": [
    "Quick recap: So far we have\n",
    "\n",
    "1. Preprocessed the Shakespeare dataset by encoding individual characters into integer tokens.\n",
    "2. Implemented single headed attention and then further generalized to multiheaded attention. We further combined multiheaded attention with deep learning to create the transformer architecture.\n",
    "3. Trained our transformer and generated output that looks to be in the style of Shakespeare.\n",
    "\n",
    "Up to this point, the performance of our simple language model has clearly made a lot of progress. We can see that our model has learned to generate text that is close to the style of Shakespeare, although there are still many quirks and room for improvement.\n",
    "\n",
    "### Project Outline\n",
    "\n",
    "Find some area of possible improvement.\n",
    "We interpret \"improvement\" quite loosely, but please state precisely why your proposed innovation might improve the model, and provide evidence that it does (or does not!) improve.\n",
    "For your idea, **formulate a hypothesis** for why this change should result in a better model. **Implement your changes** and **report any findings**.\n",
    "\n",
    "_Notes_: As this assignment is being treated as a project, you should expect training to take longer than previous assignments. However, please use your judgement to decide what is reasonable. We will not expect you to run training procedures that take more than 2 hours on the free Google Colab computing resources and we certainly do not expect you to acquire additional compute. The proposed improvements should not solely rely on increased computing demands.\n",
    "\n",
    "_Hints_: There are many aspects to assessing a model. For example, not only is quality of generated text important, it is also of interest to reduce costs associated with training.\n",
    "\n",
    "### Deliverables\n",
    "\n",
    "In addition to a pdf of your python notebook, the submission for this project will be a written report no more than 4 pages in length using the [NeurIPS LaTex template](https://neurips.cc/Conferences/2023/PaperInformation/StyleFiles). Your report should include detailed analysis of the hypotheses you chose to test along with any conclusions.\n",
    "\n",
    "The page limit for the report does not include bibliography or appendices. Make sure to keep the \"ready for submission\" option to help us grade anonymously. Your writeup should also contain a link to any code used to generate the project so that we can reference it while grading (Google Drive folder with colab notebooks or Github repo are both fine). You should have at least one plot in your main text (which is capped at 4 pages)."
   ]
  },
  {
   "cell_type": "markdown",
   "metadata": {
    "id": "Z7f7wY9I9jSF"
   },
   "source": [
    "## Submission Instructions\n",
    "\n",
    "You will generate two PDFs: one from Part 1, which involves completing this Colab to create a transformer baseline; and one from the mini-project in Part 2, which will be your write-up of no longer than 4 pages. Be sure to include a link to your code for Part 2 somewhere in your writeup.\n",
    "\n",
    "**Combine the two PDFs into a single PDF and submit on gradescope. Tag your PDF correctly.**\n",
    "\n",
    "If you work in a group of two, submit one assignment on gradescope and tag your group members. If you complete the assignment individually, submit as usual."
   ]
  }
 ],
 "metadata": {
  "accelerator": "GPU",
  "colab": {
   "gpuType": "T4",
   "provenance": []
  },
  "kernelspec": {
   "display_name": "Python 3 (ipykernel)",
   "name": "python3",
   "language": "python"
  },
  "language_info": {
   "codemirror_mode": {
    "name": "ipython",
    "version": 3
   },
   "file_extension": ".py",
   "mimetype": "text/x-python",
   "name": "python",
   "nbconvert_exporter": "python",
   "pygments_lexer": "ipython3",
   "version": "3.11.5"
  }
 },
 "nbformat": 4,
 "nbformat_minor": 0
}
