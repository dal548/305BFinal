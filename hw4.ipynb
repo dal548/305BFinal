{
 "cells": [
  {
   "cell_type": "markdown",
   "metadata": {
    "id": "eNeWF0uED8J2"
   },
   "source": [
    "# HW4: Large Language Models\n",
    "\n",
    "In this assignment, you will be implementing language models for next token prediction and generation of Shakespeare! This assignment will be in two parts. **For this final assignment, you have the option to work in pairs.**\n",
    "\n",
    "**Part 1:**\n",
    "\n",
    "In this part, you will review some key ingredients of sequence modeling. In the process, you will build a baseline transformer model for next token prediction trained on Shakespeare's works. We have provided the scaffolding for the code in this part of the assignment, and your task will be to fill in the key implementation steps.\n",
    "\n",
    "**Part 2:**\n",
    "\n",
    "This part is an open-ended mini-project where you have the freedom to try sequence modeling approaches of your choice on this problem. You should feel free to try other architectures (HMMs, RNNs, transformers, state space layers, diffusion models etc.) or to invent new architectures. You may also experiment with new algorithms for fitting or training these models. The goal will be to find some area of possible improvement (we interpret \"improvement\" quite loosely, but it is up to you to state precisely why your proposed innovation might constitute an improvement and to show convincing evidence that your innovation does or does not); to formulate and state a precise hypothesis; and to falsify or support the hypothesis with rigorous empirical analyses.\n",
    "\n",
    "**Deliverables:**\n",
    "\n",
    "- Code for Parts 1 of the assignment\n",
    "- A written report of at most 4 pages for Part 2 (references not included in the page limit), with a link to code for Part 2. \n",
    "\n",
    "_Note: the code for Part 2 will not be graded, but we ask you to include a link to it for completeness._\n",
    "\n",
    "**Important: Choosing runtimes**\n",
    "\n",
    "Google Colab has limits on the free usage of GPU runtimes. For this assignment, **we strongly recommend doing the majority of your prototyping, testing, and small-scale experiments on CPU backend**. Then, once you are ready to train your models, you should switch to a T4 GPU.\n",
    "\n",
    "You can change runtime type by clicking **Runtime -> Change Runtime Type** in the tabs above. You can monitor your resource usages in the top right corner of the screen (it should say what backend you are using, how many compute units per hour you are using, etc.)\n",
    "\n",
    "**Make sure to turn off GPU runtime if you are not actively using it!**\n",
    "\n",
    "\n",
    "\n",
    "\n"
   ]
  },
  {
   "cell_type": "markdown",
   "metadata": {
    "id": "qZ-AwbZ4ySCJ"
   },
   "source": [
    "## Setup"
   ]
  },
  {
   "cell_type": "code",
   "metadata": {
    "id": "_5IXGh6OOBZV",
    "ExecuteTime": {
     "end_time": "2025-03-10T01:38:45.953494Z",
     "start_time": "2025-03-10T01:38:45.946039Z"
    }
   },
   "source": [
    "# torch imports\n",
    "import torch\n",
    "import torch.nn as nn\n",
    "import torch.nn.functional as F\n",
    "import torch.optim as optim\n",
    "\n",
    "import matplotlib.pyplot as plt\n",
    "from tqdm import tqdm\n",
    "\n",
    "import requests\n",
    "import os\n",
    "import math as math\n",
    "\n",
    "\n",
    "torch.manual_seed(305)\n",
    "\n",
    "device = 'cuda' if torch.cuda.is_available() else 'cpu'"
   ],
   "outputs": [],
   "execution_count": 25
  },
  {
   "cell_type": "markdown",
   "metadata": {
    "id": "fsgHl9JCuGBS"
   },
   "source": [
    "We set default values for some global hyperparameters, but feel free to change these during development as needed."
   ]
  },
  {
   "cell_type": "code",
   "metadata": {
    "id": "A_Z5Jh74DH_E",
    "ExecuteTime": {
     "end_time": "2025-03-10T01:25:46.568745Z",
     "start_time": "2025-03-10T01:25:46.566592Z"
    }
   },
   "source": [
    "# Global hyperparameters\n",
    "SMALL_ITERS = 1000\n",
    "LARGE_ITERS = 2000\n",
    "EVAL_ITERS = 100\n",
    "CONTEXT_WINDOW_SIZE = 256"
   ],
   "outputs": [],
   "execution_count": 3
  },
  {
   "cell_type": "markdown",
   "metadata": {
    "id": "lF6dgHnhOprg"
   },
   "source": [
    "## Part 0: Preprocessing\n",
    "\n",
    "As in the previous problem sets, a certain amount of preprocessing for textual data is required."
   ]
  },
  {
   "cell_type": "markdown",
   "metadata": {
    "id": "WF0_bhXNOxeS"
   },
   "source": [
    "### 0.1: Loading and preprocessing the dataset\n",
    "\n",
    "\n",
    "The first step is to download the dataset. We will be using a dataset from Andrej Karpathy consisting of a subset of works from Shakespeare.\n",
    "\n",
    "The dominant mode for preprocessing textual data is to tokenize it; that is, to split the dataset into a finite vocabulary of tokens. Then, we can set up a dictionaries mapping from counting numbers (representing tokens) to tokens and vice versa. Tokens can be characters, or words, or subwords; in fact, the \"best\" way to tokenize text is an active area of research.\n",
    "\n",
    "To keep things simple, we'll tokenize the text on a per-character level."
   ]
  },
  {
   "cell_type": "code",
   "metadata": {
    "id": "53dGz7ExDkUv",
    "ExecuteTime": {
     "end_time": "2025-03-10T01:25:48.967784Z",
     "start_time": "2025-03-10T01:25:48.964122Z"
    }
   },
   "source": [
    "# download the tiny shakespeare dataset\n",
    "input_file_path = 'input.txt'\n",
    "\n",
    "if not os.path.exists(input_file_path):\n",
    "    data_url = 'https://raw.githubusercontent.com/karpathy/char-rnn/master/data/tinyshakespeare/input.txt'\n",
    "    with open(input_file_path, 'w') as f:\n",
    "        f.write(requests.get(data_url).text)\n",
    "\n",
    "with open(input_file_path, 'r') as f:\n",
    "    data = f.read()\n",
    "print(f\"length of dataset in characters: {len(data):,}\")"
   ],
   "outputs": [
    {
     "name": "stdout",
     "output_type": "stream",
     "text": [
      "length of dataset in characters: 1,115,394\n"
     ]
    }
   ],
   "execution_count": 4
  },
  {
   "cell_type": "code",
   "metadata": {
    "id": "b2HuC2F9p_4K",
    "ExecuteTime": {
     "end_time": "2025-03-10T01:25:50.410814Z",
     "start_time": "2025-03-10T01:25:50.400442Z"
    }
   },
   "source": [
    "# get all the unique characters that occur in this text\n",
    "chars = sorted(list(set(data)))\n",
    "vocab_size = len(chars)\n",
    "print(\"all the unique characters:\", ''.join(chars))\n",
    "print(f\"vocab size: {vocab_size:,}\")"
   ],
   "outputs": [
    {
     "name": "stdout",
     "output_type": "stream",
     "text": [
      "all the unique characters: \n",
      " !$&',-.3:;?ABCDEFGHIJKLMNOPQRSTUVWXYZabcdefghijklmnopqrstuvwxyz\n",
      "vocab size: 65\n"
     ]
    }
   ],
   "execution_count": 5
  },
  {
   "cell_type": "code",
   "metadata": {
    "id": "JEWx5jnKqDzT",
    "ExecuteTime": {
     "end_time": "2025-03-10T01:25:51.803080Z",
     "start_time": "2025-03-10T01:25:51.705118Z"
    }
   },
   "source": [
    "# create a mapping from characters to integers\n",
    "stoi = { ch:i for i,ch in enumerate(chars) }\n",
    "itos = { i:ch for i,ch in enumerate(chars) }\n",
    "\n",
    "def encode(s):\n",
    "    return [stoi[c] for c in s] # encoder: take a string, output a list of integers\n",
    "def decode(l):\n",
    "    return ''.join([itos[i] for i in l]) # decoder: take a list of integers, output a string\n",
    "\n",
    "# create the train and test splits\n",
    "n = len(data)\n",
    "train_chars = data[:int(n*0.9)]\n",
    "val_chars = data[int(n*0.9):]\n",
    "\n",
    "# encode both to integers\n",
    "train_data = encode(train_chars)\n",
    "val_data = encode(val_chars)\n",
    "\n",
    "# cast as torch tensors\n",
    "train_data = torch.tensor(train_data)\n",
    "val_data = torch.tensor(val_data)\n",
    "\n",
    "print(f\"train has {len(train_data):,} tokens\")\n",
    "print(f\"val has {len(val_data):,} tokens\")"
   ],
   "outputs": [
    {
     "name": "stdout",
     "output_type": "stream",
     "text": [
      "train has 1,003,854 tokens\n",
      "val has 111,540 tokens\n"
     ]
    }
   ],
   "execution_count": 6
  },
  {
   "cell_type": "markdown",
   "metadata": {
    "id": "nsOs0_diEcjY"
   },
   "source": [
    "We also write helper functions to get batches of data and to evaluate the loss of various models on them."
   ]
  },
  {
   "cell_type": "code",
   "metadata": {
    "id": "AkAD0PfiEfjG",
    "ExecuteTime": {
     "end_time": "2025-03-10T01:25:53.730325Z",
     "start_time": "2025-03-10T01:25:53.727307Z"
    }
   },
   "source": [
    "# function for getting batches of data\n",
    "def get_batch(split, context_window_size, device, batch_size=32):\n",
    "    \"\"\"\n",
    "    generate a small batch of data of inputs x and targets y\n",
    "\n",
    "    Args:\n",
    "        split: 'train' or 'val'\n",
    "        device: 'cpu' or 'cuda' (should be 'cuda' if available)\n",
    "    \"\"\"\n",
    "    data = train_data if split == 'train' else val_data\n",
    "    ix = torch.randint(len(data) - context_window_size, (batch_size,))\n",
    "    x = torch.stack([data[i:i+context_window_size] for i in ix])\n",
    "    y = torch.stack([data[i+1:i+context_window_size+1] for i in ix])\n",
    "    x = x.to(device)\n",
    "    y = y.to(device)\n",
    "    return x, y\n",
    "\n",
    "# helper function for tracking loss during training\n",
    "# given to you\n",
    "@torch.no_grad()\n",
    "def estimate_loss(model, eval_iters, context_window_size, device):\n",
    "    \"\"\"\n",
    "    Args:\n",
    "      model: model being evaluated\n",
    "      eval_iters: number of batches to average over\n",
    "      context_window_size: size of the context window\n",
    "      device: 'cpu' or 'cuda' (should be 'cuda' if available)\n",
    "    \"\"\"\n",
    "    out = {}\n",
    "    for split in ['train', 'val']:\n",
    "        losses = torch.zeros(eval_iters)\n",
    "        for k in range(eval_iters):\n",
    "            X, Y = get_batch(split, context_window_size, device)\n",
    "            logits, loss = model(X, Y)\n",
    "            losses[k] = loss.item()\n",
    "        out[split] = losses.mean()\n",
    "    return out"
   ],
   "outputs": [],
   "execution_count": 7
  },
  {
   "cell_type": "markdown",
   "metadata": {
    "id": "ercCUt_d07FX"
   },
   "source": [
    "## Part 1: Language Modeling\n",
    "\n",
    "In this first part of the assignment, we will implement a baseline for code modeling.\n",
    "\n",
    "In the process of building this baseline, we will review 4 key ideas of sequence modeling that have become the backbone of modern language models such as ChatGPT:\n",
    "\n",
    "1. Framing language modeling as next token prediction, and next token prediction as multiclass logistic regression\n",
    "2. Embedding discrete tokens in continuous latent spaces (word embeddings)\n",
    "3. Use the attention mechanism to move beyond Markovian models for sequences (we of course pay for this greater expressivity with increased compute, which is made possible in part by using matrix multiplications on hardware accelerators like GPUs. Reducing the compute burden while maintaining the expressivity needed for good sequence modeling is an active area of research).\n",
    "4. Combining attention with deep learning in the Transformer architecture."
   ]
  },
  {
   "cell_type": "markdown",
   "metadata": {
    "id": "kh1kX0pw1bR2"
   },
   "source": [
    "### 1.1: Next token prediction as multiclass logistic regression\n",
    "\n",
    "Our first language model will simply be a lookup table. That is, given that we have token with value $v$, we will simply \"look up\" the logits that correspond to our prediction for the next token. This model is often known as a \"bigram model\" because it can be derived from the relative proportions of different bigrams (ordered pairs of tokens) occurring in a large text corpus.\n",
    "\n",
    "Let us be a bit more precise in our definition of the bigram model. Let's say that the total size of our vocabulary (the number of tokens we are using) is $V$. Let $A$ be a matrix in $\\mathbb{R}^{V \\times V}$, where each row $A_v$ corresponds to the logits for the prediction of which token would follow a token that has value $v$.\n",
    "Thus, we are modeling the distribution of the token following a token that has value $v$ as\n",
    "\\begin{align*}\n",
    "y_{t+1} \\mid y_t &= v \\sim \\mathrm{Cat}(\\mathbf{\\pi}) \\\\\n",
    "\\pi &=\\mathrm{softmax}(A_v)\n",
    "\\end{align*}"
   ]
  },
  {
   "cell_type": "markdown",
   "metadata": {
    "id": "5kNWISNQ9bbH"
   },
   "source": [
    "#### Question 1.1.1\n",
    "\n",
    "$\\mathbf{\\pi} \\in \\Delta_{V-1}$ is the vector of probabilities used to parameterize the categorical distribution for the next token prediction. Explain why we parameterize\n",
    "\\begin{equation*}\n",
    "  \\mathbf{\\pi} = \\mathrm{softmax}(A_v),\n",
    "\\end{equation*}\n",
    "and could not just use\n",
    "\\begin{equation*}\n",
    "  \\mathbf{\\pi} = A_v.\n",
    "\\end{equation*}"
   ]
  },
  {
   "cell_type": "markdown",
   "metadata": {
    "id": "nkHP8-T3zJ3D"
   },
   "source": [
    "---\n",
    "\n",
    "Because we want the probabilities of picking each class which the softmax function gives us.\n",
    "\n",
    "---"
   ]
  },
  {
   "cell_type": "markdown",
   "metadata": {
    "id": "DtAjylIF-SwQ"
   },
   "source": [
    "#### Question 1.1.2\n",
    "\n",
    "Discuss the relationship between the bigram model and contigency tables (discussed in Lecture 1)."
   ]
  },
  {
   "cell_type": "markdown",
   "metadata": {
    "id": "ehdR52pnzZHl"
   },
   "source": [
    "---\n",
    "\n",
    "_your answer here_\n",
    "\n",
    "---"
   ]
  },
  {
   "cell_type": "markdown",
   "metadata": {
    "id": "y4AzpB8M-u9o"
   },
   "source": [
    "#### Question 1.1.3\n",
    "\n",
    "Say I have a string of three tokens with ids $(7, 3, 6)$. If I use the bigram model as a generative model for language, given this information, what is distribution of the fourth token? Write your answer in terms of the matrix $A$ we defined in 1.1"
   ]
  },
  {
   "cell_type": "markdown",
   "metadata": {
    "id": "fs4rWYjlzc7n"
   },
   "source": [
    "---\n",
    "\n",
    "_your answer here_\n",
    "\n",
    "---"
   ]
  },
  {
   "cell_type": "markdown",
   "metadata": {
    "id": "leN9gUxoEuhg"
   },
   "source": [
    "#### Question 1.1.4\n",
    "\n",
    "Remember back in Part 0 when we gave you the helper function `get_batch`? Run `get_batch` and look at the inputs `x` and the targets `y`. Explain any relation between them in the context of formulating language modeling in the context of next token prediction."
   ]
  },
  {
   "cell_type": "code",
   "metadata": {
    "id": "rzLupp2jExDS",
    "ExecuteTime": {
     "end_time": "2025-03-10T01:25:58.561286Z",
     "start_time": "2025-03-10T01:25:58.557827Z"
    }
   },
   "source": [
    "xb, yb = get_batch('train', 10, device, batch_size = 1)\n",
    "print(f\"the features have token ids {xb}\")\n",
    "print('\\n')\n",
    "print(f\"the targets have token ids {yb}\")"
   ],
   "outputs": [
    {
     "name": "stdout",
     "output_type": "stream",
     "text": [
      "the features have token ids tensor([[47, 53, 59, 57,  1, 50, 53, 60, 43,  6]])\n",
      "\n",
      "\n",
      "the targets have token ids tensor([[53, 59, 57,  1, 50, 53, 60, 43,  6,  0]])\n"
     ]
    }
   ],
   "execution_count": 8
  },
  {
   "cell_type": "markdown",
   "metadata": {
    "id": "5hMuPAmcuGBV"
   },
   "source": [
    "---\n",
    "\n",
    "_your answer here_\n",
    "\n",
    "---"
   ]
  },
  {
   "cell_type": "markdown",
   "metadata": {
    "id": "UyYl8QQt_Uhb"
   },
   "source": [
    "#### Question 1.1.5\n",
    "\n",
    "Discuss the strengths and weaknesses of the bigram model as a generative model for language."
   ]
  },
  {
   "cell_type": "markdown",
   "metadata": {
    "id": "7t6Hc2dhzdzL"
   },
   "source": [
    "---\n",
    "\n",
    "_your answer here_\n",
    "\n",
    "---"
   ]
  },
  {
   "cell_type": "markdown",
   "metadata": {
    "id": "mjYO1XTM_8NE"
   },
   "source": [
    "#### Question 1.1.6\n",
    "\n",
    "Say I have a string $s$ of length $T$. Derive the formula for the negative log likelihood of $s$ under the bigram model in terms of the matrix of logits $A$. What would your answer be if the matrix of logits $A$ were all zeros? What would be the value of the negative log likelihood of $s$ under a model that always perfectly predicted the next token?"
   ]
  },
  {
   "cell_type": "markdown",
   "metadata": {
    "id": "QuzLfI4Pzes6"
   },
   "source": [
    "---\n",
    "\n",
    "_your answer here_\n",
    "\n",
    "---"
   ]
  },
  {
   "cell_type": "markdown",
   "metadata": {
    "id": "rfzoXAATAfwn"
   },
   "source": [
    "#### Question 1.1.7: Implement the BigramLanguageModel\n",
    "\n",
    "Implement the bigram language model below.\n",
    "\n",
    "Your TODOs:\n",
    "  * if the `forward` method is provided a target, the loss should be the negative log likelihood of the target (given the context)\n",
    "  * `generate` should take in (batched) contexts and a number of new tokens to generate, and then generate text autoregressively from your model. Note that in autoregressive text generation, you iteratively append the tokens you generate to your context.\n"
   ]
  },
  {
   "cell_type": "code",
   "metadata": {
    "id": "_lJ1mR4K1aj_",
    "ExecuteTime": {
     "end_time": "2025-03-10T01:26:01.364060Z",
     "start_time": "2025-03-10T01:26:01.361479Z"
    }
   },
   "source": [
    "class BigramLanguageModel(nn.Module):\n",
    "\n",
    "    def __init__(self, vocab_size):\n",
    "        \"\"\"\n",
    "        Args:\n",
    "          vocab_size: size of the vocabulary (the number of tokens)\n",
    "        \"\"\"\n",
    "        super().__init__()\n",
    "        # each token directly reads off the logits for the next token from a lookup table\n",
    "        self.logits_table = nn.Embedding(vocab_size, vocab_size)\n",
    "        self.vocab_size = vocab_size\n",
    "\n",
    "    def forward(self, token_ids, targets=None):\n",
    "        \"\"\"\n",
    "        Args:\n",
    "          token_ids: Int(B, T), token ids that make up the context (batch has size B, each entry in the batch has length T)\n",
    "          targets: Int(B, T), token ids corresponding to the target of each context in token_ids\n",
    "\n",
    "        Returns:\n",
    "          logits: (B, T, V), logits[b,t, :] gives the length V vector of logits for the next token prediction in string b up to t tokens\n",
    "          loss: scalar, negative log likelihood of target given context\n",
    "        \"\"\"\n",
    "\n",
    "        # idx and targets are both (B,T) tensor of integers\n",
    "        logits = self.logits_table(token_ids) # (B,T,V)\n",
    "\n",
    "        if targets is None:\n",
    "            loss = None\n",
    "        else:\n",
    "            # TODO: what should the loss in this setting be?\n",
    "            loss = F.cross_entropy(logits.view(-1, self.vocab_size), targets.view(-1))\n",
    "\n",
    "        return logits, loss\n",
    "\n",
    "    @torch.no_grad()\n",
    "    def generate(self, token_ids, max_new_tokens=CONTEXT_WINDOW_SIZE):\n",
    "        \"\"\"\n",
    "        Args:\n",
    "          token_ids: (B, T) tensor of token ids to provide as context\n",
    "          max_new_tokens: int, maximum number of new tokens to generate\n",
    "\n",
    "        Returns:\n",
    "          (B, T+max_new_tokens) tensor of context with new tokens appended\n",
    "        \"\"\"\n",
    "        # TODO: your code below\n",
    "        B, T = token_ids.shape\n",
    "        new_token_ids = token_ids.clone()\n",
    "        for t in range(max_new_tokens):\n",
    "            logits = self.logits_table(new_token_ids)\n",
    "            new_token = torch.multinomial(F.softmax(logits[:, -1, :], dim=-1), 1)\n",
    "            new_token_ids = torch.cat([new_token_ids, new_token], dim=1)\n",
    "        return new_token_ids\n"
   ],
   "outputs": [],
   "execution_count": 9
  },
  {
   "cell_type": "markdown",
   "metadata": {
    "id": "2MaUUxb0EQY1"
   },
   "source": [
    "#### Question 1.1.8: Evaluating the initialization.\n",
    "\n",
    "Evaluate the loss of your untrained bigram model on a batch of data. Make sure the loss (negative log likelihood) is per-token (i.e. you may need to average over both sequence length and batch). Does this loss make sense in the context of your answer to Question 1.1.6? Discuss."
   ]
  },
  {
   "cell_type": "code",
   "metadata": {
    "id": "xgSEGqKGEiOn",
    "ExecuteTime": {
     "end_time": "2025-03-10T01:26:02.515748Z",
     "start_time": "2025-03-10T01:26:02.511249Z"
    }
   },
   "source": [
    "x,y = get_batch(\"train\", CONTEXT_WINDOW_SIZE, device)\n",
    "bigram_model = BigramLanguageModel(vocab_size)\n",
    "bm = bigram_model.to(device)\n",
    "\n",
    "# TODO: your code below\n",
    "logits, loss = bm(x, y)\n",
    "print(f\"loss: {loss:.2f}\")"
   ],
   "outputs": [
    {
     "name": "stdout",
     "output_type": "stream",
     "text": [
      "loss: 4.66\n"
     ]
    }
   ],
   "execution_count": 10
  },
  {
   "cell_type": "markdown",
   "metadata": {
    "id": "bS32m6egzg03"
   },
   "source": [
    "---\n",
    "\n",
    "_your answer here_\n",
    "\n",
    "---"
   ]
  },
  {
   "cell_type": "markdown",
   "metadata": {
    "id": "IzxRpcgKE4_5"
   },
   "source": [
    "#### Question 1.1.9: Training your bigram model\n",
    "\n",
    "Train your bigram model for `SMALL_ITERS` iterations. Plot and interpret the loss curve.\n",
    "\n",
    "Our train loss gets down to around 2.5 after 1000 iterations."
   ]
  },
  {
   "cell_type": "code",
   "metadata": {
    "id": "E2r390zbyz3O",
    "ExecuteTime": {
     "end_time": "2025-03-10T01:26:06.273361Z",
     "start_time": "2025-03-10T01:26:03.988472Z"
    }
   },
   "source": [
    "# create a PyTorch optimizer\n",
    "learning_rate = 1e-2\n",
    "optimizer = torch.optim.AdamW(bigram_model.parameters(), lr=learning_rate)\n",
    "\n",
    "eval_interval = 200\n",
    "\n",
    "loss_list = []\n",
    "\n",
    "for it in tqdm(range(SMALL_ITERS)):\n",
    "\n",
    "    # every once in a while evaluate the loss on train and val sets\n",
    "    if it % eval_interval == 0 or it == SMALL_ITERS - 1:\n",
    "        print(f\"iteration {it}\")\n",
    "        losses = estimate_loss(bm, EVAL_ITERS, CONTEXT_WINDOW_SIZE, device)\n",
    "        print(f\"step {it}: train loss {losses['train']:.4f}, val loss {losses['val']:.4f}\")\n",
    "\n",
    "    # sample a batch of data\n",
    "    xb, yb = get_batch('train', CONTEXT_WINDOW_SIZE, device)\n",
    "\n",
    "    # evaluate the loss\n",
    "    logits, loss = bm(xb, yb)\n",
    "    loss_list.append(loss.detach().item())\n",
    "    optimizer.zero_grad(set_to_none=True)\n",
    "    loss.backward()\n",
    "    optimizer.step()"
   ],
   "outputs": [
    {
     "name": "stderr",
     "output_type": "stream",
     "text": [
      "  0%|          | 1/1000 [00:00<02:23,  6.97it/s]"
     ]
    },
    {
     "name": "stdout",
     "output_type": "stream",
     "text": [
      "iteration 0\n",
      "step 0: train loss 4.6454, val loss 4.6532\n"
     ]
    },
    {
     "name": "stderr",
     "output_type": "stream",
     "text": [
      " 24%|██▎       | 235/1000 [00:00<00:01, 476.66it/s]"
     ]
    },
    {
     "name": "stdout",
     "output_type": "stream",
     "text": [
      "iteration 200\n",
      "step 200: train loss 2.8995, val loss 2.9157\n"
     ]
    },
    {
     "name": "stderr",
     "output_type": "stream",
     "text": [
      " 40%|████      | 401/1000 [00:00<00:01, 506.55it/s]"
     ]
    },
    {
     "name": "stdout",
     "output_type": "stream",
     "text": [
      "iteration 400\n",
      "step 400: train loss 2.5581, val loss 2.5770\n"
     ]
    },
    {
     "name": "stderr",
     "output_type": "stream",
     "text": [
      " 67%|██████▋   | 673/1000 [00:01<00:00, 571.32it/s]"
     ]
    },
    {
     "name": "stdout",
     "output_type": "stream",
     "text": [
      "iteration 600\n",
      "step 600: train loss 2.4962, val loss 2.5211\n"
     ]
    },
    {
     "name": "stderr",
     "output_type": "stream",
     "text": [
      " 84%|████████▎ | 837/1000 [00:01<00:00, 542.84it/s]"
     ]
    },
    {
     "name": "stdout",
     "output_type": "stream",
     "text": [
      "iteration 800\n",
      "step 800: train loss 2.4797, val loss 2.5081\n"
     ]
    },
    {
     "name": "stderr",
     "output_type": "stream",
     "text": [
      "100%|██████████| 1000/1000 [00:01<00:00, 550.38it/s]"
     ]
    },
    {
     "name": "stdout",
     "output_type": "stream",
     "text": [
      "iteration 999\n",
      "step 999: train loss 2.4728, val loss 2.5016\n"
     ]
    },
    {
     "name": "stderr",
     "output_type": "stream",
     "text": [
      "\n"
     ]
    }
   ],
   "execution_count": 11
  },
  {
   "cell_type": "code",
   "metadata": {
    "ExecuteTime": {
     "end_time": "2025-03-10T01:26:11.782764Z",
     "start_time": "2025-03-10T01:26:11.692123Z"
    }
   },
   "source": [
    "plt.plot(loss_list)\n",
    "plt.xlabel(\"iteration\")\n",
    "plt.ylabel(\"loss\")\n",
    "plt.title(\"Training loss\")\n",
    "plt.show()"
   ],
   "outputs": [
    {
     "data": {
      "text/plain": [
       "<Figure size 640x480 with 1 Axes>"
      ],
      "image/png": "[encoded data removed]"
     },
     "metadata": {},
     "output_type": "display_data"
    }
   ],
   "execution_count": 12
  },
  {
   "cell_type": "code",
   "metadata": {
    "ExecuteTime": {
     "end_time": "2025-03-10T01:26:14.078383Z",
     "start_time": "2025-03-10T01:26:14.074791Z"
    }
   },
   "source": [
    "xb[0].tolist()"
   ],
   "outputs": [
    {
     "data": {
      "text/plain": [
       "[8,\n",
       " 0,\n",
       " 0,\n",
       " 18,\n",
       " 47,\n",
       " 56,\n",
       " 57,\n",
       " 58,\n",
       " 1,\n",
       " 15,\n",
       " 47,\n",
       " 58,\n",
       " 47,\n",
       " 64,\n",
       " 43,\n",
       " 52,\n",
       " 10,\n",
       " 0,\n",
       " 24,\n",
       " 43,\n",
       " 58,\n",
       " 1,\n",
       " 59,\n",
       " 57,\n",
       " 1,\n",
       " 49,\n",
       " 47,\n",
       " 50,\n",
       " 50,\n",
       " 1,\n",
       " 46,\n",
       " 47,\n",
       " 51,\n",
       " 6,\n",
       " 1,\n",
       " 39,\n",
       " 52,\n",
       " 42,\n",
       " 1,\n",
       " 61,\n",
       " 43,\n",
       " 5,\n",
       " 50,\n",
       " 50,\n",
       " 1,\n",
       " 46,\n",
       " 39,\n",
       " 60,\n",
       " 43,\n",
       " 1,\n",
       " 41,\n",
       " 53,\n",
       " 56,\n",
       " 52,\n",
       " 1,\n",
       " 39,\n",
       " 58,\n",
       " 1,\n",
       " 53,\n",
       " 59,\n",
       " 56,\n",
       " 1,\n",
       " 53,\n",
       " 61,\n",
       " 52,\n",
       " 1,\n",
       " 54,\n",
       " 56,\n",
       " 47,\n",
       " 41,\n",
       " 43,\n",
       " 8,\n",
       " 0,\n",
       " 21,\n",
       " 57,\n",
       " 5,\n",
       " 58,\n",
       " 1,\n",
       " 39,\n",
       " 1,\n",
       " 60,\n",
       " 43,\n",
       " 56,\n",
       " 42,\n",
       " 47,\n",
       " 41,\n",
       " 58,\n",
       " 12,\n",
       " 0,\n",
       " 0,\n",
       " 13,\n",
       " 50,\n",
       " 50,\n",
       " 10,\n",
       " 0,\n",
       " 26,\n",
       " 53,\n",
       " 1,\n",
       " 51,\n",
       " 53,\n",
       " 56,\n",
       " 43,\n",
       " 1,\n",
       " 58,\n",
       " 39,\n",
       " 50,\n",
       " 49,\n",
       " 47,\n",
       " 52,\n",
       " 45,\n",
       " 1,\n",
       " 53,\n",
       " 52,\n",
       " 5,\n",
       " 58,\n",
       " 11,\n",
       " 1,\n",
       " 50,\n",
       " 43,\n",
       " 58,\n",
       " 1,\n",
       " 47,\n",
       " 58,\n",
       " 1,\n",
       " 40,\n",
       " 43,\n",
       " 1,\n",
       " 42,\n",
       " 53,\n",
       " 52,\n",
       " 43,\n",
       " 10,\n",
       " 1,\n",
       " 39,\n",
       " 61,\n",
       " 39,\n",
       " 63,\n",
       " 6,\n",
       " 1,\n",
       " 39,\n",
       " 61,\n",
       " 39,\n",
       " 63,\n",
       " 2,\n",
       " 0,\n",
       " 0,\n",
       " 31,\n",
       " 43,\n",
       " 41,\n",
       " 53,\n",
       " 52,\n",
       " 42,\n",
       " 1,\n",
       " 15,\n",
       " 47,\n",
       " 58,\n",
       " 47,\n",
       " 64,\n",
       " 43,\n",
       " 52,\n",
       " 10,\n",
       " 0,\n",
       " 27,\n",
       " 52,\n",
       " 43,\n",
       " 1,\n",
       " 61,\n",
       " 53,\n",
       " 56,\n",
       " 42,\n",
       " 6,\n",
       " 1,\n",
       " 45,\n",
       " 53,\n",
       " 53,\n",
       " 42,\n",
       " 1,\n",
       " 41,\n",
       " 47,\n",
       " 58,\n",
       " 47,\n",
       " 64,\n",
       " 43,\n",
       " 52,\n",
       " 57,\n",
       " 8,\n",
       " 0,\n",
       " 0,\n",
       " 18,\n",
       " 47,\n",
       " 56,\n",
       " 57,\n",
       " 58,\n",
       " 1,\n",
       " 15,\n",
       " 47,\n",
       " 58,\n",
       " 47,\n",
       " 64,\n",
       " 43,\n",
       " 52,\n",
       " 10,\n",
       " 0,\n",
       " 35,\n",
       " 43,\n",
       " 1,\n",
       " 39,\n",
       " 56,\n",
       " 43,\n",
       " 1,\n",
       " 39,\n",
       " 41,\n",
       " 41,\n",
       " 53,\n",
       " 59,\n",
       " 52,\n",
       " 58,\n",
       " 43,\n",
       " 42,\n",
       " 1,\n",
       " 54,\n",
       " 53,\n",
       " 53,\n",
       " 56,\n",
       " 1,\n",
       " 41,\n",
       " 47,\n",
       " 58,\n",
       " 47,\n",
       " 64,\n",
       " 43,\n",
       " 52,\n",
       " 57,\n",
       " 6,\n",
       " 1,\n",
       " 58,\n",
       " 46,\n",
       " 43,\n",
       " 1,\n",
       " 54,\n",
       " 39,\n",
       " 58,\n",
       " 56,\n",
       " 47,\n",
       " 41,\n",
       " 47,\n",
       " 39,\n",
       " 52,\n",
       " 57,\n",
       " 1,\n",
       " 45,\n",
       " 53,\n",
       " 53,\n",
       " 42,\n",
       " 8,\n",
       " 0]"
      ]
     },
     "execution_count": 13,
     "metadata": {},
     "output_type": "execute_result"
    }
   ],
   "execution_count": 13
  },
  {
   "cell_type": "code",
   "metadata": {
    "ExecuteTime": {
     "end_time": "2025-03-10T01:27:43.577766Z",
     "start_time": "2025-03-10T01:27:43.576194Z"
    }
   },
   "source": "device = torch.device('mps')\n",
   "outputs": [],
   "execution_count": 22
  },
  {
   "metadata": {
    "ExecuteTime": {
     "end_time": "2025-03-10T01:27:44.223670Z",
     "start_time": "2025-03-10T01:27:44.206746Z"
    }
   },
   "cell_type": "code",
   "source": [
    "X = torch.rand(10000, 10000, device=device)\n",
    "y = torch.rand(10000, 10000, device=device)\n",
    "\n"
   ],
   "outputs": [],
   "execution_count": 23
  },
  {
   "metadata": {
    "ExecuteTime": {
     "end_time": "2025-03-10T01:27:44.605245Z",
     "start_time": "2025-03-10T01:27:44.596493Z"
    }
   },
   "cell_type": "code",
   "source": "z = X @ y\n",
   "outputs": [],
   "execution_count": 24
  },
  {
   "cell_type": "markdown",
   "metadata": {
    "id": "Tj28W2w_ziDA"
   },
   "source": [
    "---\n",
    "\n",
    "_your answer here_\n",
    "\n",
    "---"
   ]
  },
  {
   "cell_type": "markdown",
   "metadata": {
    "id": "nUP9q72s9jSC"
   },
   "source": [
    "Note that these models can take up a lot of memory on the GPU. As you go through this assignment, you may want to free the models after you train them using code along the lines of\n",
    "```\n",
    "model.to('cpu')\n",
    "torch.cuda.empty_cache()\n",
    "```"
   ]
  },
  {
   "cell_type": "markdown",
   "metadata": {
    "id": "slaOmWgFLdMk"
   },
   "source": [
    "### 1.2: Token Embeddings: going from discrete tokens to continuous latent spaces\n",
    "\n",
    "In the look up table formulation of the bigram model, we are modelling the logits of the next token didstirbution independently for each token, even if two tokens are extremely similar to each other.\n",
    "One way arond this problem is to learn an embedding of the discrete tokens into $\\mathbb{R}^{D}$, and then to run multi-class logistic regression on top of this learned embedding.\n",
    "\n",
    "More precisely, if we have a vocabulary of tokens of size $V$ that we choose to embed in a Euclidean embedding space of dimension $D$, we can parameterize the distribution of the next token if the current token is $v$ according to\n",
    "\\begin{align*}\n",
    "  \\mathrm{Cat}\\Big( \\mathrm{softmax} (\\beta X_v) \\Big),\n",
    "\\end{align*}\n",
    "where $X_v \\in \\mathbb{R}^{D}$ is the learned embedding of token $v$ into $\\mathbb{R}^{D}$ and $\\beta \\in \\mathbb{R}^{V \\times D}$. Notice that if $X$ were a fixed design matrix this formulation would be equivalent to multi-class logistic regression. However, both $X$ and $\\beta$ are learnable parameters."
   ]
  },
  {
   "cell_type": "markdown",
   "metadata": {
    "id": "kX6BRU07O7Cr"
   },
   "source": [
    "#### Question 1.2.1: Implement BigramWithWordEmbeddingsLM\n",
    "\n",
    "Implement a bigram languge model that uses a linear readout from a low dimensional Euclidean embedding of each token to parameterize the logits of the next token distribution, instead of parameterizing the logits of the next token distribution directly. It should have almost the same implementation as `BigramLanguageModel` from Question 1.1.6, except `init` should also take in an `embed_size`, and the `forward` method will need to be modified."
   ]
  },
  {
   "cell_type": "code",
   "execution_count": null,
   "metadata": {
    "id": "brU5zILoQASX"
   },
   "outputs": [],
   "source": [
    "class BigramWithWordEmbeddingsLM(nn.Module):\n",
    "\n",
    "    def __init__(self, vocab_size, embed_size=32):\n",
    "      \"\"\"\n",
    "      Args:\n",
    "        vocab_size: int, size of the vocabulary\n",
    "        embed_size: int, dimension of the word embedding (D)\n",
    "      \"\"\"\n",
    "      super().__init__()\n",
    "      #TODO, your code here\n",
    "      pass\n",
    "\n",
    "    def forward(self, token_ids, targets=None):\n",
    "        \"\"\"\n",
    "        Args:\n",
    "          token_ids: (B, T) token ids that make up the context (batch has size B, each entry in the batch has length T)\n",
    "          targets: (B, T) token ids corresponding to the target of each context in token_ids\n",
    "\n",
    "        Returns:\n",
    "          logits: (B, T, V), logits[b,t, :] gives the length V vector of logits for the next token prediction in string b up to t tokens\n",
    "          loss: scalar, negative log likelihood of target given context\n",
    "        \"\"\"\n",
    "        # TODO, your code here\n",
    "\n",
    "        logits = None\n",
    "        loss = None\n",
    "\n",
    "        return logits, loss\n",
    "\n",
    "    @torch.no_grad()\n",
    "    def generate(self, token_ids, max_new_tokens=CONTEXT_WINDOW_SIZE):\n",
    "        \"\"\"\n",
    "        Args:\n",
    "          token_ids: (B, T) tensor of token ids to provide as context\n",
    "          max_new_tokens: int, maximum number of new tokens to generate\n",
    "\n",
    "        Returns:\n",
    "          (B, T+max_new_tokens) tensor of context with new tokens appended\n",
    "        \"\"\"\n",
    "        #TODO\n",
    "        # your code below\n"
   ]
  },
  {
   "cell_type": "markdown",
   "metadata": {
    "id": "5JJCQ3vWuX6y"
   },
   "source": [
    "#### Question 1.2.2: Training your bigram model with word embeddings\n",
    "\n",
    "Train your bigram model with word embeddings for `SMALL_ITERS` iterations. Plot and interpret the loss curve. How does the final loss compare to that of the bigram model without embeddings? Why do you think this is?\n",
    "\n",
    "Our train loss gets down to around 2.5 after 1000 iterations."
   ]
  },
  {
   "cell_type": "code",
   "execution_count": null,
   "metadata": {
    "id": "kZpsE59qug1B"
   },
   "outputs": [],
   "source": [
    "bigram_model_embed = BigramWithWordEmbeddingsLM(vocab_size)\n",
    "bm_e = bigram_model_embed.to(device)\n",
    "\n",
    "learning_rate = 1e-2\n",
    "optimizer = torch.optim.AdamW(bigram_model_embed.parameters(), lr=learning_rate)\n",
    "\n",
    "eval_interval = 200\n",
    "\n",
    "loss_list = []\n",
    "\n",
    "for it in tqdm(range(SMALL_ITERS)):\n",
    "\n",
    "    # every once in a while evaluate the loss on train and val sets\n",
    "    if it % eval_interval == 0 or it == SMALL_ITERS - 1:\n",
    "        print(f\"iteration {it}\")\n",
    "        losses = estimate_loss(bm_e, EVAL_ITERS, CONTEXT_WINDOW_SIZE, device)\n",
    "        print(f\"step {it}: train loss {losses['train']:.4f}, val loss {losses['val']:.4f}\")\n",
    "\n",
    "    # sample a batch of data\n",
    "    xb, yb = get_batch('train', CONTEXT_WINDOW_SIZE, device)\n",
    "\n",
    "    # evaluate the loss\n",
    "    logits, loss = bm_e(xb, yb)\n",
    "    loss_list.append(loss.detach().item())\n",
    "    optimizer.zero_grad(set_to_none=True)\n",
    "    loss.backward()\n",
    "    optimizer.step()"
   ]
  },
  {
   "cell_type": "markdown",
   "metadata": {
    "id": "WBgcFIj5u2Ml"
   },
   "source": [
    "---\n",
    "\n",
    "_your answer here_\n",
    "\n",
    "---"
   ]
  },
  {
   "cell_type": "markdown",
   "metadata": {
    "id": "ypOE6LnnGdyu"
   },
   "source": [
    "### 1.3: Attention: Relaxing Markovian assumptions to transmit information across the sequence length\n",
    "\n",
    "A major problem with the bigram models of Sections 1.1 and 1.2 was that they were Markovian: the distribution of the next token was determined entirely by the current token! The attention mechanism provides a way to extract information between the previous tokens in the context to provide a better parameterization for the distribution of the next token."
   ]
  },
  {
   "cell_type": "markdown",
   "metadata": {
    "id": "F-XHeM1VRO6H"
   },
   "source": [
    "#### Question 1.3.1: Averaging over word embeddings\n",
    "\n",
    "One simple way to pool information would simply be to average the embeddings!\n",
    "\n",
    "Your TODO: Add comments to the the code snippet below. Write a description here explaining why the code is mathematically equivalent to averaging the embeddings of the previous tokens and the current token."
   ]
  },
  {
   "cell_type": "markdown",
   "metadata": {
    "id": "S-8W0Xx_zsst"
   },
   "source": [
    "---\n",
    "\n",
    "_your answer here_\n",
    "\n",
    "---"
   ]
  },
  {
   "cell_type": "code",
   "execution_count": null,
   "metadata": {
    "id": "gCaS07DtGgCr"
   },
   "outputs": [],
   "source": [
    "# average word embedding via matrix multiply and softmax\n",
    "small_batch_size = 4              # B\n",
    "small_context_window_size = 8     # T\n",
    "small_embed_size = 2              # D\n",
    "\n",
    "# make \"synthetic\" word embeddings (for illustration purposes only)\n",
    "X = torch.randn(small_batch_size, small_context_window_size, small_embed_size)\n",
    "\n",
    "# TODO: comment the code below\n",
    "print(X.shape)\n",
    "tril = torch.tril(torch.ones(small_context_window_size, small_context_window_size))\n",
    "attn_weights = torch.zeros((small_context_window_size, small_context_window_size))\n",
    "attn_weights = attn_weights.masked_fill(tril == 0, float('-inf'))\n",
    "attn_weights = F.softmax(attn_weights, dim=-1)\n",
    "avg_embeddings = attn_weights @ X\n",
    "print(X[0])\n",
    "print(\"\")\n",
    "print(avg_embeddings[0])"
   ]
  },
  {
   "cell_type": "markdown",
   "metadata": {
    "id": "oIDlnRDGXaie"
   },
   "source": [
    "#### 1.3.2: Single-headed scaled $(Q,K,V)$-attention\n",
    "\n",
    "A more sophisticated approach than simply averaging over previous word embeddings is single-headed (Query, Key, Value) scaled attention.\n",
    "That is, we now summarize the information contained in a length $T$ sequence of tokens that have been embeded into $X \\in \\mathbb{R}^{T \\times D}$ according to\n",
    "\\begin{equation}\n",
    "   \\mathrm{SoftmaxAcrossRows} \\Bigg( \\frac{\\mathrm{CausalMask}\\Big(X U_q^\\top U_k X^\\top \\Big)}{\\sqrt{K}} \\Bigg) \\Big( X V^\\top \\Big),\n",
    "\\end{equation}\n",
    "where $U_q, U_k \\in \\mathbb{R}^{K \\times D}$, $V \\in \\mathbb{R}^{D \\times D}$, and $K$ is the \"head size\".\n",
    "\n"
   ]
  },
  {
   "cell_type": "markdown",
   "metadata": {
    "id": "E84BzzxPdwUd"
   },
   "source": [
    "##### Question 1.3.2.1\n",
    "\n",
    "In the limiting case where $U_q$ and $U_k$ are all zeros, and $V = I_{D}$, what does $(U_q, U_k, V)$ attention simplify to?"
   ]
  },
  {
   "cell_type": "markdown",
   "metadata": {
    "id": "AmFw8z5Dz3T6"
   },
   "source": [
    "---\n",
    "\n",
    "_your answer here_\n",
    "\n",
    "---"
   ]
  },
  {
   "cell_type": "markdown",
   "metadata": {
    "id": "jeKfSrREhgdH"
   },
   "source": [
    "##### Question 1.3.2.2: Implement single-headed scaled $(U_q,U_k,V)$-attention.\n",
    "\n",
    "Complete the below code so the `forward` method returns single-headed scaled $(U_q,U_k,V)$-attention."
   ]
  },
  {
   "cell_type": "code",
   "execution_count": null,
   "metadata": {
    "id": "O_eBPiT-Yy0q"
   },
   "outputs": [],
   "source": [
    "class Head(nn.Module):\n",
    "    \"\"\" one head of self-attention \"\"\"\n",
    "\n",
    "    def __init__(self, head_size, context_window_size, embed_size=384):\n",
    "        \"\"\"\n",
    "        Args:\n",
    "          head_size: int, size of the head embedding dimension (K)\n",
    "          context_window_size: int, number of tokens considered in the past for attention (T)\n",
    "          embed_size: int, size of the token embedding dimension (D)\n",
    "        \"\"\"\n",
    "        super().__init__()\n",
    "        self.head_size = head_size\n",
    "        self.key = nn.Linear(embed_size, head_size, bias=False)\n",
    "        self.query = nn.Linear(embed_size, head_size, bias=False)\n",
    "        self.value = nn.Linear(embed_size, embed_size, bias=False)\n",
    "\n",
    "        # not a param of the model, so registered as a buffer\n",
    "        self.register_buffer('tril', torch.tril(\n",
    "            torch.ones(context_window_size, context_window_size)))\n",
    "\n",
    "    def forward(self, x):\n",
    "        \"\"\"\n",
    "        Args:\n",
    "          x: (B,T,D) tensor of token embeddings\n",
    "\n",
    "        Returns:\n",
    "          (B,T,D) tensor of attention-weighted token embeddings\n",
    "        \"\"\"\n",
    "        # TODO: your code here\n",
    "        pass"
   ]
  },
  {
   "cell_type": "markdown",
   "metadata": {
    "id": "3RqGrCB21qUV"
   },
   "source": [
    "##### Question 1.3.2.3: Implement a single-headed attention language model\n",
    "\n",
    "Complete the code below. Note that because the transformer has no idea where tokens are occuring in space, we have also added in position embeddings."
   ]
  },
  {
   "cell_type": "code",
   "execution_count": null,
   "metadata": {
    "id": "REr3aWnS1xJL"
   },
   "outputs": [],
   "source": [
    "class SingleHeadedAttentionLM(nn.Module):\n",
    "\n",
    "    def __init__(self, vocab_size, context_window_size, head_size, embed_size=384):\n",
    "      \"\"\"\n",
    "      Args:\n",
    "        vocab_size: int, size of the vocabulary (V)\n",
    "        context_window_size: int, number of tokens considered in the past for attention (T)\n",
    "        head_size: int, size of the head embedding dimension (K)\n",
    "        embed_size: int, size of the token embedding dimension (D)\n",
    "      \"\"\"\n",
    "      super().__init__()\n",
    "      self.token_embedding_table = nn.Embedding(vocab_size, embed_size)\n",
    "      self.position_embedding_table = nn.Embedding(context_window_size, embed_size)\n",
    "      self.context_window_size = context_window_size\n",
    "\n",
    "      # TODO: your code below\n",
    "      self.atten_head = Head(...)\n",
    "      self.lm_head = nn.Linear(...)\n",
    "\n",
    "    def forward(self, token_ids, targets=None):\n",
    "        \"\"\"\n",
    "        Args:\n",
    "          token_ids: (B, T) token ids that make up the context (batch has size B, each entry\n",
    "                     in the batch has length T)\n",
    "          targets: (B, T) token ids corresponding to the target of each context in token_ids\n",
    "\n",
    "        Returns:\n",
    "          logits: (B, T, V) logits[b,t] gives the length V vector of logits for the next token\n",
    "                   prediction in string b up to t tokens\n",
    "          loss: scalar, negative log likelihood of target given context\n",
    "        \"\"\"\n",
    "        B, T = token_ids.shape # (batch size, length)\n",
    "        tok_emb = self.token_embedding_table(token_ids) # (B,T,D)\n",
    "        pos_emb = self.position_embedding_table(torch.arange(T, device=device)) # (T,D)\n",
    "        x = tok_emb + pos_emb # (B,T,D)\n",
    "        x = self.atten_head(x) # (B,T,D)\n",
    "        logits = self.lm_head(x) # (B,T,V)\n",
    "\n",
    "        # TODO: your code here\n",
    "        logits = ...\n",
    "        loss = ...\n",
    "\n",
    "        return logits, loss\n",
    "\n",
    "    @torch.no_grad()\n",
    "    def generate(self, token_ids, max_new_tokens):\n",
    "        \"\"\"\n",
    "        Args:\n",
    "          token_ids: (B, T) tensor of token ids to provide as context\n",
    "          max_new_tokens: int, maximum number of new tokens to generate\n",
    "\n",
    "        Returns:\n",
    "          (B, T+max_new_tokens) tensor of context with new tokens appended\n",
    "        \"\"\"\n",
    "        #TODO\n",
    "        # your code below\n",
    "        pass"
   ]
  },
  {
   "cell_type": "markdown",
   "metadata": {
    "id": "End-pUCa4RXe"
   },
   "source": [
    "Train your new `SingleHeadedAttentionLM` for `SMALL_ITERS` training iterations and plot the loss curve.\n",
    "The `head_size` shouldn't matter too much, we just use the `embedding_size`.\n",
    "Do you seen an improvement compared to your `BigramLanguageModel`? Discuss.\n",
    "\n",
    "Note: you may want to modify the learning rate. Training for `SMALL_ITERS` with a learning rate of `6e-4`, we can get to a train loss of around 2.3."
   ]
  },
  {
   "cell_type": "code",
   "execution_count": null,
   "metadata": {
    "id": "070G_l0E0uG9"
   },
   "outputs": [],
   "source": [
    "embed_size = 384\n",
    "sha_model = SingleHeadedAttentionLM(vocab_size, CONTEXT_WINDOW_SIZE, embed_size, embed_size)\n",
    "sham = sha_model.to(device)\n",
    "learning_rate = 6e-4\n",
    "optimizer = torch.optim.AdamW(sha_model.parameters(), lr=learning_rate)\n",
    "\n",
    "eval_interval = 200\n",
    "\n",
    "loss_list = []\n",
    "\n",
    "for it in tqdm(range(SMALL_ITERS)):\n",
    "\n",
    "    # every once in a while evaluate the loss on train and val sets\n",
    "    if it % eval_interval == 0 or it == SMALL_ITERS - 1:\n",
    "        print(f\"iteration {it}\")\n",
    "        losses = estimate_loss(sham, EVAL_ITERS, CONTEXT_WINDOW_SIZE, device)\n",
    "        print(\n",
    "            f\"step {it}: train loss {losses['train']:.4f}, val loss {losses['val']:.4f}\"\n",
    "        )\n",
    "\n",
    "    # sample a batch of data\n",
    "    xb, yb = get_batch(\"train\", CONTEXT_WINDOW_SIZE, device)\n",
    "\n",
    "    # evaluate the loss\n",
    "    logits, loss = sham(xb, yb)\n",
    "    loss_list.append(loss.detach().item())\n",
    "    optimizer.zero_grad(set_to_none=True)\n",
    "    loss.backward()\n",
    "    optimizer.step()"
   ]
  },
  {
   "cell_type": "markdown",
   "metadata": {
    "id": "u05NFXpo0wWs"
   },
   "source": [
    "---\n",
    "\n",
    "_your answer here_\n",
    "\n",
    "---"
   ]
  },
  {
   "cell_type": "markdown",
   "metadata": {
    "id": "7wjXYf-S4Lus"
   },
   "source": [
    "#### 1.3.3: Multi-headed attention"
   ]
  },
  {
   "cell_type": "markdown",
   "metadata": {
    "id": "ZIObjMO0Ikp5"
   },
   "source": [
    "##### Question 1.3.3.1: Implement multi-headed attention"
   ]
  },
  {
   "cell_type": "code",
   "execution_count": null,
   "metadata": {
    "id": "6vb8NU_s6Vfg"
   },
   "outputs": [],
   "source": [
    "class MultiHeadAttention(nn.Module):\n",
    "    \"\"\" multiple heads of self-attention in parallel \"\"\"\n",
    "\n",
    "    def __init__(self, context_window_size, num_heads, head_size, embed_size=384):\n",
    "        \"\"\"\n",
    "        Args:\n",
    "            context_window_size: int, number of tokens considered in the past for attention (T)\n",
    "            num_heads: int, number of heads (H)\n",
    "            head_size: int, size of the head embedding dimension\n",
    "            embed_size: int, size of the token embedding dimension\n",
    "        \"\"\"\n",
    "        super().__init__()\n",
    "        # TODO, your code below\n",
    "        self.heads = nn.ModuleList(...)\n",
    "\n",
    "    def forward(self, x):\n",
    "        # TODO, your code below\n",
    "        pass"
   ]
  },
  {
   "cell_type": "markdown",
   "metadata": {
    "id": "aFCBRay3IuR3"
   },
   "source": [
    "##### Question 1.3.3.2: Implement a multi-headed attention LM\n",
    "\n",
    "Fill in the code below to create a language model that outputs its logits for next token prediction using multi-headed attention. Train your model for `SMALL_ITERS` training iterations. Compare the results with the single-headed attention model. Do you see an improvement?\n",
    "\n",
    "We get to a train loss of around 2 after 1000 iterations, which takes around 1.5 minutes on a T4 GPU."
   ]
  },
  {
   "cell_type": "code",
   "execution_count": null,
   "metadata": {
    "id": "LvWHwcCzI1yr"
   },
   "outputs": [],
   "source": [
    "class MultiHeadedAttentionLM(nn.Module):\n",
    "\n",
    "    def __init__(self, vocab_size, context_window_size, embed_size=384, num_heads=6):\n",
    "      super().__init__()\n",
    "      self.head_size = embed_size // num_heads\n",
    "      self.context_window_size = context_window_size\n",
    "      # TODO: your code below\n",
    "\n",
    "\n",
    "    def forward(self, token_ids, targets=None):\n",
    "        \"\"\"\n",
    "        Args:\n",
    "          token_ids: (B, T) token ids that make up the context (batch has size B, each entry in the\n",
    "                     batch has length T)\n",
    "          targets: (B, T) token ids corresponding to the target of each context in token_ids\n",
    "\n",
    "        Returns:\n",
    "          logits: (B, T, V), logits[b,t] gives the length V vector of logits for the next token\n",
    "                  prediction in string b up to t tokens\n",
    "          loss: scalar, negative log likelihood of target given context\n",
    "        \"\"\"\n",
    "        # TODO: your code below\n",
    "        logits = ...\n",
    "        loss = ...\n",
    "\n",
    "        return logits, loss\n",
    "\n",
    "    @torch.no_grad()\n",
    "    def generate(self, token_ids, max_new_tokens):\n",
    "        \"\"\"\n",
    "        Args:\n",
    "          token_ids: (B, T) tensor of token ids to provide as context\n",
    "          max_new_tokens: int, maximum number of new tokens to generate\n",
    "\n",
    "        Returns:\n",
    "          (B, T+max_new_tokens) tensor of context with new tokens appended\n",
    "        \"\"\"\n",
    "        # TODO: your code below\n",
    "        pass"
   ]
  },
  {
   "cell_type": "code",
   "execution_count": null,
   "metadata": {
    "id": "hM9gOuPAMNcC"
   },
   "outputs": [],
   "source": [
    "# Initialize model\n",
    "model = MultiHeadedAttentionLM(vocab_size, CONTEXT_WINDOW_SIZE)\n",
    "m = model.to(device)\n",
    "\n",
    "# create a PyTorch optimizer\n",
    "learning_rate = 6e-4\n",
    "optimizer = torch.optim.AdamW(model.parameters(), lr=learning_rate)\n",
    "\n",
    "eval_interval = 200\n",
    "\n",
    "loss_list = []\n",
    "\n",
    "for it in tqdm(range(SMALL_ITERS)):\n",
    "\n",
    "    # every once in a while evaluate the loss on train and val sets\n",
    "    if it % eval_interval == 0 or it == SMALL_ITERS - 1:\n",
    "        print(f\"iteration {it}\")\n",
    "        losses = estimate_loss(m, EVAL_ITERS, CONTEXT_WINDOW_SIZE, device)\n",
    "        print(f\"step {it}: train loss {losses['train']:.4f}, val loss {losses['val']:.4f}\")\n",
    "\n",
    "    # sample a batch of data\n",
    "    xb, yb = get_batch('train', CONTEXT_WINDOW_SIZE, device)\n",
    "\n",
    "    # evaluate the loss\n",
    "    logits, loss = m(xb, yb)\n",
    "    loss_list.append(loss.detach().item())\n",
    "    optimizer.zero_grad(set_to_none=True)\n",
    "    loss.backward()\n",
    "    optimizer.step()"
   ]
  },
  {
   "cell_type": "markdown",
   "metadata": {
    "id": "OAdaPBuMQmrl"
   },
   "source": [
    "---\n",
    "\n",
    "_your answer here_\n",
    "\n",
    "---"
   ]
  },
  {
   "cell_type": "markdown",
   "metadata": {
    "id": "X9XsUWpwG7uA"
   },
   "source": [
    "### 1.4: The Transformer Architecture: combining attention with deep learning"
   ]
  },
  {
   "cell_type": "code",
   "execution_count": null,
   "metadata": {
    "id": "1GbGqwKWJzOK"
   },
   "outputs": [],
   "source": [
    "# run this cell to initialize this deep learning module that you should use in the code your write later\n",
    "# you don't need to edit this layer\n",
    "class FeedForward(nn.Module):\n",
    "    \"\"\" a simple linear layer followed by a non-linearity\n",
    "        Given to you, you don't need to write any code here!\n",
    "    \"\"\"\n",
    "\n",
    "    def __init__(self, embed_size):\n",
    "        super().__init__()\n",
    "        self.net = nn.Sequential(\n",
    "            nn.Linear(embed_size, 4 * embed_size),\n",
    "            nn.ReLU(),\n",
    "            nn.Linear(4 * embed_size, embed_size),\n",
    "        )\n",
    "\n",
    "    def forward(self, x):\n",
    "        return self.net(x)"
   ]
  },
  {
   "cell_type": "markdown",
   "metadata": {
    "id": "WKJxVp6aJb6i"
   },
   "source": [
    "#### Question 1.4.1: Implement a transformer block\n",
    "\n",
    "Complete the code below to implement a transformer block"
   ]
  },
  {
   "cell_type": "markdown",
   "metadata": {
    "id": "8Jw2I6a8IYOi"
   },
   "source": [
    "To make the your implemenation easier to train, we have added two deep learning best practices:\n",
    "\n",
    "1. Residual connections.\n",
    "\n",
    "    In the `forward` method of the `TransformerBlock`, we have implemented a residual connection of the form\n",
    "    \n",
    "    \\begin{align*}\n",
    "    x \\mapsto x + f(x)\n",
    "    \\end{align*}\n",
    "    \n",
    "    where $f$ is a nonlinear function. The idea is that every layer is some adjustment of the identity function, which guards against vanishing gradients in a deep network during back propogation, especially at initialization.\n",
    "\n",
    "2. Prenorm via `LayerNorm`\n",
    "\n",
    "    Also in the `forward` method of the `TransformerBlock`, the nonlinearity first applied a `LayerNorm` to its arguments. The `LayerNorm` basically standardizes the activations in that layer so that they have mean 0 and variance 1. Doing so is very helpful for numerical stability, espeically of the gradients."
   ]
  },
  {
   "cell_type": "code",
   "execution_count": null,
   "metadata": {
    "id": "hUDbIv9eISkf"
   },
   "outputs": [],
   "source": [
    "class TransformerBlock(nn.Module):\n",
    "    \"\"\" Transformer block: communication across sequence length, followed by communication across embedding space\n",
    "        Uses multi-headed attention\n",
    "    \"\"\"\n",
    "\n",
    "    def __init__(self, vocab_size, context_window_size, embed_size=384, num_heads=6):\n",
    "        super().__init__()\n",
    "        self.ln1 = nn.LayerNorm(embed_size)\n",
    "        self.ln2 = nn.LayerNorm(embed_size)\n",
    "\n",
    "        # TODO: your code below\n",
    "        self.feed_forward = FeedForward(...)\n",
    "        self.atten_heads = ...\n",
    "\n",
    "    def forward(self, x):\n",
    "        x = x + self.atten_heads(self.ln1(x)) # communication over sequence length\n",
    "        x = x + self.feed_forward(self.ln2(x)) # communication across embedding space\n",
    "        return x"
   ]
  },
  {
   "cell_type": "markdown",
   "metadata": {
    "id": "vqCCiCYcKMD0"
   },
   "source": [
    "#### Question 1.4.2: Implement your baseline transformer model\n",
    "\n",
    "We now stack 6 `TransformerBlocks` (with a final layer norm applied after the blocks but before the logits) to create our basline `TransformerLM`."
   ]
  },
  {
   "cell_type": "code",
   "execution_count": null,
   "metadata": {
    "id": "t2veTg9N3ufJ"
   },
   "outputs": [],
   "source": [
    "class TransformerLM(nn.Module):\n",
    "\n",
    "    def __init__(self, vocab_size, context_window_size, embed_size=384, num_heads=6, n_layers=6):\n",
    "        \"\"\"\n",
    "          Args:\n",
    "              vocab_size: int, number of tokens in the vocabulary (V)\n",
    "              context_window_size: int, size of the context window (T)\n",
    "              embed_size: int, embedding size (D)\n",
    "              num_heads: int, number of heads (H)\n",
    "              n_layers: int, number of layers (M)\n",
    "        \"\"\"\n",
    "        super().__init__()\n",
    "        self.token_embedding_table = nn.Embedding(vocab_size, embed_size)\n",
    "        self.position_embedding_table = nn.Embedding(context_window_size, embed_size)\n",
    "        self.blocks = nn.Sequential(*[\n",
    "            TransformerBlock(vocab_size,\n",
    "                             context_window_size,\n",
    "                             embed_size=embed_size,\n",
    "                             num_heads=num_heads)\n",
    "            for _ in range(n_layers)])\n",
    "\n",
    "        # final layer norm\n",
    "        self.ln_f = nn.LayerNorm(embed_size)\n",
    "        self.lm_head = nn.Linear(embed_size, vocab_size)\n",
    "\n",
    "        # good initialization\n",
    "        self.apply(self._init_weights)\n",
    "\n",
    "    def _init_weights(self, module):\n",
    "        if isinstance(module, nn.Linear):\n",
    "            torch.nn.init.normal_(module.weight, mean=0.0, std=0.02)\n",
    "            if module.bias is not None:\n",
    "                torch.nn.init.zeros_(module.bias)\n",
    "        elif isinstance(module, nn.Embedding):\n",
    "            torch.nn.init.normal_(module.weight, mean=0.0, std=0.02)\n",
    "\n",
    "    def forward(self, token_ids, targets=None):\n",
    "        \"\"\"\n",
    "        Agrgs:\n",
    "            token_ids: tensor of integers, provides the contet, shape (B, T)\n",
    "            targets: tensor of integers, provides the tokens we are preidcitng, shape (B, T)\n",
    "        \"\"\"\n",
    "        B, T = token_ids.shape\n",
    "\n",
    "        # token_ids and targets are both (B, T) tensor of integers\n",
    "        tok_emb = self.token_embedding_table(token_ids) # (B, T, D)\n",
    "        pos_emb = self.position_embedding_table(torch.arange(T, device=device)) # (T, D)\n",
    "        x = tok_emb + pos_emb # (B, T, D)\n",
    "\n",
    "        # TODO: your code below\n",
    "        logits = ...\n",
    "        loss = ...\n",
    "\n",
    "        return logits, loss\n",
    "\n",
    "    @torch.no_grad()\n",
    "    def generate(self, token_ids, max_new_tokens):\n",
    "        \"\"\"\n",
    "        Args:\n",
    "            token_ids: tensor of integers forming the context, shape (B, T)\n",
    "            max_new_tokens: int, max number of tokens to generate\n",
    "        \"\"\"\n",
    "        # TOOD, your code below\n",
    "        pass"
   ]
  },
  {
   "cell_type": "markdown",
   "metadata": {
    "id": "JP8430nWKbZ6"
   },
   "source": [
    "Train your `TransformerLM` for `LARGE_ITERS` iterations and plot the loss curve. You may want to change the learning rate.\n",
    "\n",
    "We used a learning rate of `1e-4` and got to a final train loss of around 1.4 in around 15 minutes of training on a T4 GPU."
   ]
  },
  {
   "cell_type": "code",
   "execution_count": null,
   "metadata": {
    "id": "jsnbDpdhLeKo"
   },
   "outputs": [],
   "source": [
    "trans = TransformerLM(vocab_size, CONTEXT_WINDOW_SIZE)\n",
    "tlm = trans.to(device)\n",
    "learning_rate = 1e-4\n",
    "# TODO, your code below"
   ]
  },
  {
   "cell_type": "markdown",
   "metadata": {
    "id": "1SYG_iDFSNys"
   },
   "source": [
    "#### Question 1.4.3: Generating text!\n",
    "\n",
    "Now with our trained model, we can generate some text that is somewhat like the style of Shakespeare! Below we will do both unconditional and conditional generation."
   ]
  },
  {
   "cell_type": "code",
   "execution_count": null,
   "metadata": {
    "id": "-FX-eEZEDH-n"
   },
   "outputs": [],
   "source": [
    "# unconditional generation from the model\n",
    "start_context = torch.zeros((1, 1), dtype=torch.long, device=device)\n",
    "uncond_gen = (tlm.generate(start_context, max_new_tokens=CONTEXT_WINDOW_SIZE)[0].tolist())\n",
    "print(decode(uncond_gen))"
   ]
  },
  {
   "cell_type": "code",
   "execution_count": null,
   "metadata": {
    "id": "73du7-sWLH5c"
   },
   "outputs": [],
   "source": [
    "# conditional generation from the model\n",
    "\n",
    "context1 = \"\"\"ROMEO:\n",
    "He jests at scars that never felt a wound.\n",
    "But, soft! what light through yonder window breaks?\n",
    "It is the east, and Juliet is the sun.\n",
    "Arise, fair sun, and kill the envious moon,\n",
    "Who is already sick and pale with grief,\n",
    "That thou her maid art far more fair than she:\n",
    "Be not her maid, \"\"\"\n",
    "\n",
    "context1_tokens = torch.tensor(encode(context1), device=device).reshape(1, -1)"
   ]
  },
  {
   "cell_type": "code",
   "execution_count": null,
   "metadata": {
    "id": "sZ4zkEJzMNA4"
   },
   "outputs": [],
   "source": [
    "cond_gen = (tlm.generate(context1_tokens, max_new_tokens=CONTEXT_WINDOW_SIZE)[0].tolist())\n",
    "print(decode(cond_gen))"
   ]
  },
  {
   "cell_type": "markdown",
   "metadata": {
    "id": "HdA0IXMh15cc"
   },
   "source": [
    "TODO: Choose your own context from Shakespeare, and perform conditional generation from that text. Does this look reasonable to you? Why or why not?"
   ]
  },
  {
   "cell_type": "code",
   "execution_count": null,
   "metadata": {
    "id": "cR_0hrAO2Am_"
   },
   "outputs": [],
   "source": [
    "# TODO: your code here"
   ]
  },
  {
   "cell_type": "markdown",
   "metadata": {
    "id": "Caw-RM-J2Chj"
   },
   "source": [
    "---\n",
    "\n",
    "_your answer here_\n",
    "\n",
    "---"
   ]
  },
  {
   "cell_type": "markdown",
   "metadata": {
    "id": "LgOzvWFDx_yH"
   },
   "source": [
    "#### Question 1.4.4\n",
    "\n",
    "The negative log-likelihood (averaged per token) we have been using to train our models can be expressed as\n",
    "\\begin{equation*}\n",
    "  L = -\\frac{1}{T} \\sum_{t = 1}^{T} \\log p(s[t] | \\text{context})\n",
    "\\end{equation*}\n",
    "for some document $s$, where $s[t]$ is the $t$th token of the doc. The natural language processing (NLP) community often reports the quantity\n",
    "\\begin{equation*}\n",
    "  \\text{perplexity} = \\exp(L).\n",
    "\\end{equation*}\n",
    "\n",
    "Give an intuitive interpretation of what perplexity is. Why might it be a more intuitive or natual measure to report than negative log-likelihood? Does the reported perplexity of your trained `TransformerLM` model make sense in terms of samples it generates? (Be sure to distinguish betwen `train` and `validation` perplexity. Which of `train` and `val` perplexity is more helpful for understanding your generated samples? Why?). (*Hint: your answer to Question 1.1.6 may be helpful*)."
   ]
  },
  {
   "cell_type": "markdown",
   "metadata": {
    "id": "9Izr1wTOjzlo"
   },
   "source": [
    "## Part 2: Mini-Project"
   ]
  },
  {
   "cell_type": "markdown",
   "metadata": {
    "id": "5lF3jFrQj1f4"
   },
   "source": [
    "Quick recap: So far we have\n",
    "\n",
    "1. Preprocessed the Shakespeare dataset by encoding individual characters into integer tokens.\n",
    "2. Implemented single headed attention and then further generalized to multiheaded attention. We further combined multiheaded attention with deep learning to create the transformer architecture.\n",
    "3. Trained our transformer and generated output that looks to be in the style of Shakespeare.\n",
    "\n",
    "Up to this point, the performance of our simple language model has clearly made a lot of progress. We can see that our model has learned to generate text that is close to the style of Shakespeare, although there are still many quirks and room for improvement.\n",
    "\n",
    "### Project Outline\n",
    "\n",
    "Find some area of possible improvement.\n",
    "We interpret \"improvement\" quite loosely, but please state precisely why your proposed innovation might improve the model, and provide evidence that it does (or does not!) improve.\n",
    "For your idea, **formulate a hypothesis** for why this change should result in a better model. **Implement your changes** and **report any findings**.\n",
    "\n",
    "_Notes_: As this assignment is being treated as a project, you should expect training to take longer than previous assignments. However, please use your judgement to decide what is reasonable. We will not expect you to run training procedures that take more than 2 hours on the free Google Colab computing resources and we certainly do not expect you to acquire additional compute. The proposed improvements should not solely rely on increased computing demands.\n",
    "\n",
    "_Hints_: There are many aspects to assessing a model. For example, not only is quality of generated text important, it is also of interest to reduce costs associated with training.\n",
    "\n",
    "### Deliverables\n",
    "\n",
    "In addition to a pdf of your python notebook, the submission for this project will be a written report no more than 4 pages in length using the [NeurIPS LaTex template](https://neurips.cc/Conferences/2023/PaperInformation/StyleFiles). Your report should include detailed analysis of the hypotheses you chose to test along with any conclusions.\n",
    "\n",
    "The page limit for the report does not include bibliography or appendices. Make sure to keep the \"ready for submission\" option to help us grade anonymously. Your writeup should also contain a link to any code used to generate the project so that we can reference it while grading (Google Drive folder with colab notebooks or Github repo are both fine). You should have at least one plot in your main text (which is capped at 4 pages)."
   ]
  },
  {
   "cell_type": "markdown",
   "metadata": {
    "id": "Z7f7wY9I9jSF"
   },
   "source": [
    "## Submission Instructions\n",
    "\n",
    "You will generate two PDFs: one from Part 1, which involves completing this Colab to create a transformer baseline; and one from the mini-project in Part 2, which will be your write-up of no longer than 4 pages. Be sure to include a link to your code for Part 2 somewhere in your writeup.\n",
    "\n",
    "**Combine the two PDFs into a single PDF and submit on gradescope. Tag your PDF correctly.**\n",
    "\n",
    "If you work in a group of two, submit one assignment on gradescope and tag your group members. If you complete the assignment individually, submit as usual."
   ]
  }
 ],
 "metadata": {
  "accelerator": "GPU",
  "colab": {
   "gpuType": "T4",
   "provenance": []
  },
  "kernelspec": {
   "display_name": "Python 3 (ipykernel)",
   "name": "python3",
   "language": "python"
  },
  "language_info": {
   "codemirror_mode": {
    "name": "ipython",
    "version": 3
   },
   "file_extension": ".py",
   "mimetype": "text/x-python",
   "name": "python",
   "nbconvert_exporter": "python",
   "pygments_lexer": "ipython3",
   "version": "3.11.1"
  }
 },
 "nbformat": 4,
 "nbformat_minor": 0
}
